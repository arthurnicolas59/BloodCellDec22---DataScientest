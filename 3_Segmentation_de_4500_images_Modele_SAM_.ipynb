{
  "cells": [
    {
      "cell_type": "markdown",
      "metadata": {
        "id": "view-in-github",
        "colab_type": "text"
      },
      "source": [
        "<a href=\"https://colab.research.google.com/github/arthurnicolas59/BloodCellDec22---DataScientest/blob/Ludo/3_Segmentation_de_4500_images_Modele_SAM_.ipynb\" target=\"_parent\"><img src=\"https://colab.research.google.com/assets/colab-badge.svg\" alt=\"Open In Colab\"/></a>"
      ]
    },
    {
      "cell_type": "markdown",
      "metadata": {
        "id": "sW6zc7mFOWsH"
      },
      "source": [
        "# **1. Connexion au Drive, activation du GPU, import des images**\n"
      ]
    },
    {
      "cell_type": "markdown",
      "metadata": {
        "id": "RKv_Sa55O_bG"
      },
      "source": [
        "### **Activation du GPU**\n",
        "\n"
      ]
    },
    {
      "cell_type": "code",
      "execution_count": null,
      "metadata": {
        "colab": {
          "base_uri": "https://localhost:8080/"
        },
        "id": "22hDxECXEIEN",
        "outputId": "23deb9c8-22d4-4e2e-a296-c0a8f1551abc"
      },
      "outputs": [
        {
          "name": "stdout",
          "output_type": "stream",
          "text": [
            "Default GPU Device:/device:GPU:0\n"
          ]
        }
      ],
      "source": [
        "import tensorflow as tf\n",
        "if tf.test.gpu_device_name():\n",
        "    print('Default GPU Device:{}'.format(tf.test.gpu_device_name()))\n",
        "else:\n",
        "    print(\"Please change your hardware accelerator\")"
      ]
    },
    {
      "cell_type": "code",
      "execution_count": null,
      "metadata": {
        "colab": {
          "base_uri": "https://localhost:8080/"
        },
        "id": "vJWSfFmbExIL",
        "outputId": "3096e117-76b7-4d15-ca65-487a325e7c8a"
      },
      "outputs": [
        {
          "name": "stdout",
          "output_type": "stream",
          "text": [
            "Mounted at /content/drive\n"
          ]
        }
      ],
      "source": [
        "from google.colab import drive\n",
        "drive.mount('/content/drive',force_remount=True)"
      ]
    },
    {
      "cell_type": "markdown",
      "metadata": {
        "id": "by6n4NgfPWxP"
      },
      "source": [
        "### **Import des images (Barcelone)**\n",
        "\n"
      ]
    },
    {
      "cell_type": "code",
      "execution_count": null,
      "metadata": {
        "id": "DwQKhmCbm5mY"
      },
      "outputs": [],
      "source": [
        "!unzip 'drive/MyDrive/Datascientest/PBC_dataset_normal_DIB.zip'"
      ]
    },
    {
      "cell_type": "code",
      "execution_count": null,
      "metadata": {
        "id": "B858LxSn6lYZ"
      },
      "outputs": [],
      "source": [
        "# suppression d'une image présentant un défaut de format :\n",
        "import os\n",
        "\n",
        "os.remove('/content/PBC_dataset_normal_DIB/neutrophil/.DS_169665.jpg')"
      ]
    },
    {
      "cell_type": "markdown",
      "metadata": {
        "id": "fh0i10WRPktJ"
      },
      "source": [
        "# **2. Création du dataframe 'df' identifiant le chemin d'accès de chaque image et son label**"
      ]
    },
    {
      "cell_type": "markdown",
      "metadata": {
        "id": "TBSr_kES0-4G"
      },
      "source": [
        "### **Dataframe**"
      ]
    },
    {
      "cell_type": "code",
      "execution_count": null,
      "metadata": {
        "colab": {
          "base_uri": "https://localhost:8080/",
          "height": 423
        },
        "id": "xhUhxb3HDg7q",
        "outputId": "8e75739e-4fb3-4d66-a3e4-63560109018d"
      },
      "outputs": [
        {
          "data": {
            "text/html": [
              "\n",
              "\n",
              "  <div id=\"df-84d4d330-7d9e-49a1-9122-748077bc4515\">\n",
              "    <div class=\"colab-df-container\">\n",
              "      <div>\n",
              "<style scoped>\n",
              "    .dataframe tbody tr th:only-of-type {\n",
              "        vertical-align: middle;\n",
              "    }\n",
              "\n",
              "    .dataframe tbody tr th {\n",
              "        vertical-align: top;\n",
              "    }\n",
              "\n",
              "    .dataframe thead th {\n",
              "        text-align: right;\n",
              "    }\n",
              "</style>\n",
              "<table border=\"1\" class=\"dataframe\">\n",
              "  <thead>\n",
              "    <tr style=\"text-align: right;\">\n",
              "      <th></th>\n",
              "      <th>filepath</th>\n",
              "      <th>nameLabel</th>\n",
              "      <th>label</th>\n",
              "    </tr>\n",
              "  </thead>\n",
              "  <tbody>\n",
              "    <tr>\n",
              "      <th>0</th>\n",
              "      <td>./PBC_dataset_normal_DIB/basophil/BA_463171.jpg</td>\n",
              "      <td>BA</td>\n",
              "      <td>0</td>\n",
              "    </tr>\n",
              "    <tr>\n",
              "      <th>1</th>\n",
              "      <td>./PBC_dataset_normal_DIB/basophil/BA_307830.jpg</td>\n",
              "      <td>BA</td>\n",
              "      <td>0</td>\n",
              "    </tr>\n",
              "    <tr>\n",
              "      <th>2</th>\n",
              "      <td>./PBC_dataset_normal_DIB/basophil/BA_317405.jpg</td>\n",
              "      <td>BA</td>\n",
              "      <td>0</td>\n",
              "    </tr>\n",
              "    <tr>\n",
              "      <th>3</th>\n",
              "      <td>./PBC_dataset_normal_DIB/basophil/BA_4118.jpg</td>\n",
              "      <td>BA</td>\n",
              "      <td>0</td>\n",
              "    </tr>\n",
              "    <tr>\n",
              "      <th>4</th>\n",
              "      <td>./PBC_dataset_normal_DIB/basophil/BA_310106.jpg</td>\n",
              "      <td>BA</td>\n",
              "      <td>0</td>\n",
              "    </tr>\n",
              "    <tr>\n",
              "      <th>...</th>\n",
              "      <td>...</td>\n",
              "      <td>...</td>\n",
              "      <td>...</td>\n",
              "    </tr>\n",
              "    <tr>\n",
              "      <th>17087</th>\n",
              "      <td>./PBC_dataset_normal_DIB/platelet/PLATELET_220...</td>\n",
              "      <td>PLATELET</td>\n",
              "      <td>7</td>\n",
              "    </tr>\n",
              "    <tr>\n",
              "      <th>17088</th>\n",
              "      <td>./PBC_dataset_normal_DIB/platelet/PLATELET_235...</td>\n",
              "      <td>PLATELET</td>\n",
              "      <td>7</td>\n",
              "    </tr>\n",
              "    <tr>\n",
              "      <th>17089</th>\n",
              "      <td>./PBC_dataset_normal_DIB/platelet/PLATELET_234...</td>\n",
              "      <td>PLATELET</td>\n",
              "      <td>7</td>\n",
              "    </tr>\n",
              "    <tr>\n",
              "      <th>17090</th>\n",
              "      <td>./PBC_dataset_normal_DIB/platelet/PLATELET_158...</td>\n",
              "      <td>PLATELET</td>\n",
              "      <td>7</td>\n",
              "    </tr>\n",
              "    <tr>\n",
              "      <th>17091</th>\n",
              "      <td>./PBC_dataset_normal_DIB/platelet/PLATELET_896...</td>\n",
              "      <td>PLATELET</td>\n",
              "      <td>7</td>\n",
              "    </tr>\n",
              "  </tbody>\n",
              "</table>\n",
              "<p>17092 rows × 3 columns</p>\n",
              "</div>\n",
              "      <button class=\"colab-df-convert\" onclick=\"convertToInteractive('df-84d4d330-7d9e-49a1-9122-748077bc4515')\"\n",
              "              title=\"Convert this dataframe to an interactive table.\"\n",
              "              style=\"display:none;\">\n",
              "\n",
              "  <svg xmlns=\"http://www.w3.org/2000/svg\" height=\"24px\"viewBox=\"0 0 24 24\"\n",
              "       width=\"24px\">\n",
              "    <path d=\"M0 0h24v24H0V0z\" fill=\"none\"/>\n",
              "    <path d=\"M18.56 5.44l.94 2.06.94-2.06 2.06-.94-2.06-.94-.94-2.06-.94 2.06-2.06.94zm-11 1L8.5 8.5l.94-2.06 2.06-.94-2.06-.94L8.5 2.5l-.94 2.06-2.06.94zm10 10l.94 2.06.94-2.06 2.06-.94-2.06-.94-.94-2.06-.94 2.06-2.06.94z\"/><path d=\"M17.41 7.96l-1.37-1.37c-.4-.4-.92-.59-1.43-.59-.52 0-1.04.2-1.43.59L10.3 9.45l-7.72 7.72c-.78.78-.78 2.05 0 2.83L4 21.41c.39.39.9.59 1.41.59.51 0 1.02-.2 1.41-.59l7.78-7.78 2.81-2.81c.8-.78.8-2.07 0-2.86zM5.41 20L4 18.59l7.72-7.72 1.47 1.35L5.41 20z\"/>\n",
              "  </svg>\n",
              "      </button>\n",
              "\n",
              "\n",
              "\n",
              "    <div id=\"df-397b689d-3ede-490c-a9c1-649fec1f5fcc\">\n",
              "      <button class=\"colab-df-quickchart\" onclick=\"quickchart('df-397b689d-3ede-490c-a9c1-649fec1f5fcc')\"\n",
              "              title=\"Suggest charts.\"\n",
              "              style=\"display:none;\">\n",
              "\n",
              "<svg xmlns=\"http://www.w3.org/2000/svg\" height=\"24px\"viewBox=\"0 0 24 24\"\n",
              "     width=\"24px\">\n",
              "    <g>\n",
              "        <path d=\"M19 3H5c-1.1 0-2 .9-2 2v14c0 1.1.9 2 2 2h14c1.1 0 2-.9 2-2V5c0-1.1-.9-2-2-2zM9 17H7v-7h2v7zm4 0h-2V7h2v10zm4 0h-2v-4h2v4z\"/>\n",
              "    </g>\n",
              "</svg>\n",
              "      </button>\n",
              "    </div>\n",
              "\n",
              "<style>\n",
              "  .colab-df-quickchart {\n",
              "    background-color: #E8F0FE;\n",
              "    border: none;\n",
              "    border-radius: 50%;\n",
              "    cursor: pointer;\n",
              "    display: none;\n",
              "    fill: #1967D2;\n",
              "    height: 32px;\n",
              "    padding: 0 0 0 0;\n",
              "    width: 32px;\n",
              "  }\n",
              "\n",
              "  .colab-df-quickchart:hover {\n",
              "    background-color: #E2EBFA;\n",
              "    box-shadow: 0px 1px 2px rgba(60, 64, 67, 0.3), 0px 1px 3px 1px rgba(60, 64, 67, 0.15);\n",
              "    fill: #174EA6;\n",
              "  }\n",
              "\n",
              "  [theme=dark] .colab-df-quickchart {\n",
              "    background-color: #3B4455;\n",
              "    fill: #D2E3FC;\n",
              "  }\n",
              "\n",
              "  [theme=dark] .colab-df-quickchart:hover {\n",
              "    background-color: #434B5C;\n",
              "    box-shadow: 0px 1px 3px 1px rgba(0, 0, 0, 0.15);\n",
              "    filter: drop-shadow(0px 1px 2px rgba(0, 0, 0, 0.3));\n",
              "    fill: #FFFFFF;\n",
              "  }\n",
              "</style>\n",
              "\n",
              "    <script>\n",
              "      async function quickchart(key) {\n",
              "        const containerElement = document.querySelector('#' + key);\n",
              "        const charts = await google.colab.kernel.invokeFunction(\n",
              "            'suggestCharts', [key], {});\n",
              "      }\n",
              "    </script>\n",
              "\n",
              "      <script>\n",
              "\n",
              "function displayQuickchartButton(domScope) {\n",
              "  let quickchartButtonEl =\n",
              "    domScope.querySelector('#df-397b689d-3ede-490c-a9c1-649fec1f5fcc button.colab-df-quickchart');\n",
              "  quickchartButtonEl.style.display =\n",
              "    google.colab.kernel.accessAllowed ? 'block' : 'none';\n",
              "}\n",
              "\n",
              "        displayQuickchartButton(document);\n",
              "      </script>\n",
              "      <style>\n",
              "    .colab-df-container {\n",
              "      display:flex;\n",
              "      flex-wrap:wrap;\n",
              "      gap: 12px;\n",
              "    }\n",
              "\n",
              "    .colab-df-convert {\n",
              "      background-color: #E8F0FE;\n",
              "      border: none;\n",
              "      border-radius: 50%;\n",
              "      cursor: pointer;\n",
              "      display: none;\n",
              "      fill: #1967D2;\n",
              "      height: 32px;\n",
              "      padding: 0 0 0 0;\n",
              "      width: 32px;\n",
              "    }\n",
              "\n",
              "    .colab-df-convert:hover {\n",
              "      background-color: #E2EBFA;\n",
              "      box-shadow: 0px 1px 2px rgba(60, 64, 67, 0.3), 0px 1px 3px 1px rgba(60, 64, 67, 0.15);\n",
              "      fill: #174EA6;\n",
              "    }\n",
              "\n",
              "    [theme=dark] .colab-df-convert {\n",
              "      background-color: #3B4455;\n",
              "      fill: #D2E3FC;\n",
              "    }\n",
              "\n",
              "    [theme=dark] .colab-df-convert:hover {\n",
              "      background-color: #434B5C;\n",
              "      box-shadow: 0px 1px 3px 1px rgba(0, 0, 0, 0.15);\n",
              "      filter: drop-shadow(0px 1px 2px rgba(0, 0, 0, 0.3));\n",
              "      fill: #FFFFFF;\n",
              "    }\n",
              "  </style>\n",
              "\n",
              "      <script>\n",
              "        const buttonEl =\n",
              "          document.querySelector('#df-84d4d330-7d9e-49a1-9122-748077bc4515 button.colab-df-convert');\n",
              "        buttonEl.style.display =\n",
              "          google.colab.kernel.accessAllowed ? 'block' : 'none';\n",
              "\n",
              "        async function convertToInteractive(key) {\n",
              "          const element = document.querySelector('#df-84d4d330-7d9e-49a1-9122-748077bc4515');\n",
              "          const dataTable =\n",
              "            await google.colab.kernel.invokeFunction('convertToInteractive',\n",
              "                                                     [key], {});\n",
              "          if (!dataTable) return;\n",
              "\n",
              "          const docLinkHtml = 'Like what you see? Visit the ' +\n",
              "            '<a target=\"_blank\" href=https://colab.research.google.com/notebooks/data_table.ipynb>data table notebook</a>'\n",
              "            + ' to learn more about interactive tables.';\n",
              "          element.innerHTML = '';\n",
              "          dataTable['output_type'] = 'display_data';\n",
              "          await google.colab.output.renderOutput(dataTable, element);\n",
              "          const docLink = document.createElement('div');\n",
              "          docLink.innerHTML = docLinkHtml;\n",
              "          element.appendChild(docLink);\n",
              "        }\n",
              "      </script>\n",
              "    </div>\n",
              "  </div>\n"
            ],
            "text/plain": [
              "                                                filepath nameLabel  label\n",
              "0        ./PBC_dataset_normal_DIB/basophil/BA_463171.jpg        BA      0\n",
              "1        ./PBC_dataset_normal_DIB/basophil/BA_307830.jpg        BA      0\n",
              "2        ./PBC_dataset_normal_DIB/basophil/BA_317405.jpg        BA      0\n",
              "3          ./PBC_dataset_normal_DIB/basophil/BA_4118.jpg        BA      0\n",
              "4        ./PBC_dataset_normal_DIB/basophil/BA_310106.jpg        BA      0\n",
              "...                                                  ...       ...    ...\n",
              "17087  ./PBC_dataset_normal_DIB/platelet/PLATELET_220...  PLATELET      7\n",
              "17088  ./PBC_dataset_normal_DIB/platelet/PLATELET_235...  PLATELET      7\n",
              "17089  ./PBC_dataset_normal_DIB/platelet/PLATELET_234...  PLATELET      7\n",
              "17090  ./PBC_dataset_normal_DIB/platelet/PLATELET_158...  PLATELET      7\n",
              "17091  ./PBC_dataset_normal_DIB/platelet/PLATELET_896...  PLATELET      7\n",
              "\n",
              "[17092 rows x 3 columns]"
            ]
          },
          "execution_count": 5,
          "metadata": {},
          "output_type": "execute_result"
        }
      ],
      "source": [
        "import glob\n",
        "import pandas as pd\n",
        "\n",
        "# Trouver tous les chemins vers les fichiers qui finissent par .jpg\n",
        "liste = glob.glob('./PBC_dataset_normal_DIB/*/*.jpg')\n",
        "\n",
        "# Création d'une liste comprenant les chemins d'accès aux images ainsi que le label de chaque image\n",
        "liste = list(map(lambda x : [x, x.split('/')[3].split('_')[0]], liste))\n",
        "\n",
        "# Créer un DataFrame pandas\n",
        "df = pd.DataFrame(liste, columns=['filepath', 'nameLabel'])\n",
        "df=df.replace(['SNE','BNE'],'NEUTROPHIL')\n",
        "df=df.replace(['MY','MMY','PMY'],'IG')\n",
        "df['label'] = df['nameLabel'].replace(df.nameLabel.unique(), [*range(len(df.nameLabel.unique()))])\n",
        "df.sort_values('filepath')\n",
        "df"
      ]
    },
    {
      "cell_type": "markdown",
      "metadata": {
        "id": "MBwHfQyxQK2l"
      },
      "source": [
        "### **Information sur le dataset**"
      ]
    },
    {
      "cell_type": "code",
      "execution_count": null,
      "metadata": {
        "colab": {
          "base_uri": "https://localhost:8080/"
        },
        "id": "U1Zd-KG4zP-h",
        "outputId": "44d841e2-cd8a-4daf-d417-58a58257c6b7"
      },
      "outputs": [
        {
          "data": {
            "text/plain": [
              "(17092, 3)"
            ]
          },
          "execution_count": 6,
          "metadata": {},
          "output_type": "execute_result"
        }
      ],
      "source": [
        "# shape\n",
        "df.nameLabel.unique()\n",
        "df.shape"
      ]
    },
    {
      "cell_type": "code",
      "execution_count": null,
      "metadata": {
        "colab": {
          "base_uri": "https://localhost:8080/"
        },
        "id": "Lq2nbg6HQf8m",
        "outputId": "fae1126d-6bd2-4bd9-9313-a4318e1c7761"
      },
      "outputs": [
        {
          "data": {
            "text/plain": [
              "NEUTROPHIL    3329\n",
              "EO            3117\n",
              "IG            2895\n",
              "PLATELET      2348\n",
              "ERB           1551\n",
              "MO            1420\n",
              "BA            1218\n",
              "LY            1214\n",
              "Name: nameLabel, dtype: int64"
            ]
          },
          "execution_count": 7,
          "metadata": {},
          "output_type": "execute_result"
        }
      ],
      "source": [
        "# répartition du nombre d'images selon le label\n",
        "df.nameLabel.value_counts()"
      ]
    },
    {
      "cell_type": "markdown",
      "metadata": {
        "id": "yV0nHXJE1ETU"
      },
      "source": [
        "# **3. Création d'images SEGMENTEES à l'aide du modèle The Segment Anything Model (SAM)**"
      ]
    },
    {
      "cell_type": "markdown",
      "metadata": {
        "id": "tLpk5eZTk9_V"
      },
      "source": [
        "Méthode décrite dans ce notebook :\n",
        "https://github.com/facebookresearch/segment-anything/blob/main/notebooks/predictor_example.ipynb\n"
      ]
    },
    {
      "cell_type": "markdown",
      "metadata": {
        "id": "G9y0vjQVHEje"
      },
      "source": [
        "### **1. Configuration de l'environnement d'exécution**"
      ]
    },
    {
      "cell_type": "code",
      "execution_count": null,
      "metadata": {
        "id": "Md8hKGz-HEFq"
      },
      "outputs": [],
      "source": [
        "using_colab = True"
      ]
    },
    {
      "cell_type": "code",
      "execution_count": null,
      "metadata": {
        "colab": {
          "base_uri": "https://localhost:8080/"
        },
        "id": "NnA1pDYaHVNE",
        "outputId": "b2455b0f-747f-4c07-81c3-cc5e7ebcd92f"
      },
      "outputs": [
        {
          "name": "stdout",
          "output_type": "stream",
          "text": [
            "PyTorch version: 2.0.1+cu118\n",
            "Torchvision version: 0.15.2+cu118\n",
            "CUDA is available: True\n",
            "Requirement already satisfied: opencv-python in /usr/local/lib/python3.10/dist-packages (4.7.0.72)\n",
            "Requirement already satisfied: matplotlib in /usr/local/lib/python3.10/dist-packages (3.7.1)\n",
            "Requirement already satisfied: numpy>=1.21.2 in /usr/local/lib/python3.10/dist-packages (from opencv-python) (1.22.4)\n",
            "Requirement already satisfied: contourpy>=1.0.1 in /usr/local/lib/python3.10/dist-packages (from matplotlib) (1.1.0)\n",
            "Requirement already satisfied: cycler>=0.10 in /usr/local/lib/python3.10/dist-packages (from matplotlib) (0.11.0)\n",
            "Requirement already satisfied: fonttools>=4.22.0 in /usr/local/lib/python3.10/dist-packages (from matplotlib) (4.41.0)\n",
            "Requirement already satisfied: kiwisolver>=1.0.1 in /usr/local/lib/python3.10/dist-packages (from matplotlib) (1.4.4)\n",
            "Requirement already satisfied: packaging>=20.0 in /usr/local/lib/python3.10/dist-packages (from matplotlib) (23.1)\n",
            "Requirement already satisfied: pillow>=6.2.0 in /usr/local/lib/python3.10/dist-packages (from matplotlib) (8.4.0)\n",
            "Requirement already satisfied: pyparsing>=2.3.1 in /usr/local/lib/python3.10/dist-packages (from matplotlib) (3.1.0)\n",
            "Requirement already satisfied: python-dateutil>=2.7 in /usr/local/lib/python3.10/dist-packages (from matplotlib) (2.8.2)\n",
            "Requirement already satisfied: six>=1.5 in /usr/local/lib/python3.10/dist-packages (from python-dateutil>=2.7->matplotlib) (1.16.0)\n",
            "Collecting git+https://github.com/facebookresearch/segment-anything.git\n",
            "  Cloning https://github.com/facebookresearch/segment-anything.git to /tmp/pip-req-build-0rgg6ass\n",
            "  Running command git clone --filter=blob:none --quiet https://github.com/facebookresearch/segment-anything.git /tmp/pip-req-build-0rgg6ass\n",
            "  Resolved https://github.com/facebookresearch/segment-anything.git to commit 6fdee8f2727f4506cfbbe553e23b895e27956588\n",
            "  Preparing metadata (setup.py) ... \u001b[?25l\u001b[?25hdone\n",
            "Building wheels for collected packages: segment-anything\n",
            "  Building wheel for segment-anything (setup.py) ... \u001b[?25l\u001b[?25hdone\n",
            "  Created wheel for segment-anything: filename=segment_anything-1.0-py3-none-any.whl size=36589 sha256=f7d9d6081b4e8e7caebc217fbc48e103347a3bedb342777d35929d5e543ea672\n",
            "  Stored in directory: /tmp/pip-ephem-wheel-cache-vwz5mtt9/wheels/10/cf/59/9ccb2f0a1bcc81d4fbd0e501680b5d088d690c6cfbc02dc99d\n",
            "Successfully built segment-anything\n",
            "Installing collected packages: segment-anything\n",
            "Successfully installed segment-anything-1.0\n",
            "--2023-07-19 11:55:19--  https://dl.fbaipublicfiles.com/segment_anything/sam_vit_h_4b8939.pth\n",
            "Resolving dl.fbaipublicfiles.com (dl.fbaipublicfiles.com)... 52.84.251.15, 52.84.251.114, 52.84.251.106, ...\n",
            "Connecting to dl.fbaipublicfiles.com (dl.fbaipublicfiles.com)|52.84.251.15|:443... connected.\n",
            "HTTP request sent, awaiting response... 200 OK\n",
            "Length: 2564550879 (2.4G) [binary/octet-stream]\n",
            "Saving to: ‘sam_vit_h_4b8939.pth’\n",
            "\n",
            "sam_vit_h_4b8939.pt 100%[===================>]   2.39G   211MB/s    in 12s     \n",
            "\n",
            "2023-07-19 11:55:31 (199 MB/s) - ‘sam_vit_h_4b8939.pth’ saved [2564550879/2564550879]\n",
            "\n"
          ]
        }
      ],
      "source": [
        "if using_colab:\n",
        "    import torch\n",
        "    import torchvision\n",
        "    print(\"PyTorch version:\", torch.__version__)\n",
        "    print(\"Torchvision version:\", torchvision.__version__)\n",
        "    print(\"CUDA is available:\", torch.cuda.is_available())\n",
        "    import sys\n",
        "    !{sys.executable} -m pip install opencv-python matplotlib\n",
        "    !{sys.executable} -m pip install 'git+https://github.com/facebookresearch/segment-anything.git'\n",
        "\n",
        "    !wget https://dl.fbaipublicfiles.com/segment_anything/sam_vit_h_4b8939.pth\n"
      ]
    },
    {
      "cell_type": "code",
      "execution_count": null,
      "metadata": {
        "colab": {
          "base_uri": "https://localhost:8080/"
        },
        "id": "kz-VY-tgIK26",
        "outputId": "1e94c150-7cc0-4131-ed24-dda2b39f9869"
      },
      "outputs": [
        {
          "name": "stdout",
          "output_type": "stream",
          "text": [
            "Collecting supervision\n",
            "  Downloading supervision-0.11.1-py3-none-any.whl (55 kB)\n",
            "\u001b[?25l     \u001b[90m━━━━━━━━━━━━━━━━━━━━━━━━━━━━━━━━━━━━━━━━\u001b[0m \u001b[32m0.0/55.6 kB\u001b[0m \u001b[31m?\u001b[0m eta \u001b[36m-:--:--\u001b[0m\r\u001b[2K     \u001b[90m━━━━━━━━━━━━━━━━━━━━━━━━━━━━━━━━━━━━━━━━\u001b[0m \u001b[32m55.6/55.6 kB\u001b[0m \u001b[31m5.4 MB/s\u001b[0m eta \u001b[36m0:00:00\u001b[0m\n",
            "\u001b[?25hRequirement already satisfied: numpy>=1.20.0 in /usr/local/lib/python3.10/dist-packages (from supervision) (1.22.4)\n",
            "Requirement already satisfied: opencv-python in /usr/local/lib/python3.10/dist-packages (from supervision) (4.7.0.72)\n",
            "Requirement already satisfied: matplotlib in /usr/local/lib/python3.10/dist-packages (from supervision) (3.7.1)\n",
            "Requirement already satisfied: pyyaml in /usr/local/lib/python3.10/dist-packages (from supervision) (6.0)\n",
            "Requirement already satisfied: contourpy>=1.0.1 in /usr/local/lib/python3.10/dist-packages (from matplotlib->supervision) (1.1.0)\n",
            "Requirement already satisfied: cycler>=0.10 in /usr/local/lib/python3.10/dist-packages (from matplotlib->supervision) (0.11.0)\n",
            "Requirement already satisfied: fonttools>=4.22.0 in /usr/local/lib/python3.10/dist-packages (from matplotlib->supervision) (4.41.0)\n",
            "Requirement already satisfied: kiwisolver>=1.0.1 in /usr/local/lib/python3.10/dist-packages (from matplotlib->supervision) (1.4.4)\n",
            "Requirement already satisfied: packaging>=20.0 in /usr/local/lib/python3.10/dist-packages (from matplotlib->supervision) (23.1)\n",
            "Requirement already satisfied: pillow>=6.2.0 in /usr/local/lib/python3.10/dist-packages (from matplotlib->supervision) (8.4.0)\n",
            "Requirement already satisfied: pyparsing>=2.3.1 in /usr/local/lib/python3.10/dist-packages (from matplotlib->supervision) (3.1.0)\n",
            "Requirement already satisfied: python-dateutil>=2.7 in /usr/local/lib/python3.10/dist-packages (from matplotlib->supervision) (2.8.2)\n",
            "Requirement already satisfied: six>=1.5 in /usr/local/lib/python3.10/dist-packages (from python-dateutil>=2.7->matplotlib->supervision) (1.16.0)\n",
            "Installing collected packages: supervision\n",
            "Successfully installed supervision-0.11.1\n"
          ]
        }
      ],
      "source": [
        "# chargement de la librairie supervision pour la visualisation\n",
        "!pip install supervision"
      ]
    },
    {
      "cell_type": "code",
      "execution_count": null,
      "metadata": {
        "id": "D95kkwldHvCp"
      },
      "outputs": [],
      "source": [
        "### Import des modules nécessaires pour l'ensemble du travail\n",
        "import numpy as np\n",
        "import torch\n",
        "import matplotlib.pyplot as plt\n",
        "import cv2\n",
        "import supervision as sv\n",
        "from skimage import io\n",
        "from skimage import filters\n",
        "import sys\n",
        "sys.path.append(\"..\")\n",
        "from segment_anything import sam_model_registry, SamPredictor\n",
        "from google.colab import drive\n",
        "import os\n",
        "from tqdm import tqdm\n",
        "from PIL import Image\n",
        "import imageio\n",
        "import time"
      ]
    },
    {
      "cell_type": "markdown",
      "metadata": {
        "id": "cpfvcMbPBmZN"
      },
      "source": [
        "### **2. Création des fonctions permettant de visualiser la zone d'intérêt de l'image pour la segmentation**"
      ]
    },
    {
      "cell_type": "code",
      "execution_count": null,
      "metadata": {
        "id": "5fjvDOAtH2a8"
      },
      "outputs": [],
      "source": [
        "# affichage de la boxe délimitant la zone de recherche\n",
        "\n",
        "def show_box(box, ax):\n",
        "    x0, y0 = box[0], box[1]\n",
        "    w, h = box[2] - box[0], box[3] - box[1]\n",
        "    ax.add_patch(plt.Rectangle((x0, y0), w, h, edgecolor='green', facecolor=(0,0,0,0), lw=2))\n",
        "\n",
        "# affichage d'un point d'intérêt dans la boxe délimitant la zone de recherche\n",
        "\n",
        "def show_points(coords, labels, ax, marker_size=375):\n",
        "    pos_points = coords[labels==1]\n",
        "    neg_points = coords[labels==0]\n",
        "    ax.scatter(pos_points[:, 0], pos_points[:, 1], color='green', marker='*', s=marker_size, edgecolor='white', linewidth=1.25)\n",
        "    ax.scatter(neg_points[:, 0], neg_points[:, 1], color='red', marker='*', s=marker_size, edgecolor='white', linewidth=1.25)\n",
        "\n",
        "# affichage du masque\n",
        "\n",
        "def show_mask(mask, ax, random_color=False):\n",
        "    if random_color:\n",
        "        color = np.concatenate([np.random.random(3), np.array([0.6])], axis=0)\n",
        "    else:\n",
        "        color = np.array([30/255, 144/255, 255/255, 0.6])\n",
        "    h, w = mask.shape[-2:]\n",
        "    mask_image = mask.reshape(h, w, 1) * color.reshape(1, 1, -1)\n",
        "    ax.imshow(mask_image)"
      ]
    },
    {
      "cell_type": "markdown",
      "metadata": {
        "id": "hWS3dMuaCJVH"
      },
      "source": [
        "### **3. Chargement du modèle et du prédicteur**"
      ]
    },
    {
      "cell_type": "code",
      "execution_count": null,
      "metadata": {
        "id": "bnn3TidB0pdw"
      },
      "outputs": [],
      "source": [
        "# chargement du modèle\n",
        "sam_checkpoint = \"sam_vit_h_4b8939.pth\"\n",
        "model_type = \"vit_h\"\n",
        "\n",
        "device = torch.device('cuda:0' if torch.cuda.is_available() else 'cpu')\n",
        "\n",
        "sam = sam_model_registry[model_type](checkpoint=sam_checkpoint)\n",
        "sam.to(device=device)\n",
        "\n",
        "predictor = SamPredictor(sam)"
      ]
    },
    {
      "cell_type": "markdown",
      "metadata": {
        "id": "hNdQp_QRCuZ8"
      },
      "source": [
        "### **4. Application du modèle sur le dataset d'images**"
      ]
    },
    {
      "cell_type": "markdown",
      "metadata": {
        "id": "jVsfzdMS0EVO"
      },
      "source": [
        "**Création d'un dossier local \"masques\" et des 8 sous-dossiers correspondant aux groupes de cellules**"
      ]
    },
    {
      "cell_type": "code",
      "execution_count": null,
      "metadata": {
        "colab": {
          "base_uri": "https://localhost:8080/"
        },
        "id": "xRICQuOCxU0F",
        "outputId": "bd6b8d13-f2dc-4ed5-dc34-731e1c59569b"
      },
      "outputs": [
        {
          "name": "stdout",
          "output_type": "stream",
          "text": [
            "Le sous-dossier 'masques' existe déjà.\n",
            "['monocyte', 'lymphocyte', 'neutrophil', 'basophil', 'erythroblast', 'platelet', 'ig', 'eosinophil']\n",
            "Le sous-dossier 'monocyte' existe déjà.\n",
            "Le sous-dossier 'lymphocyte' existe déjà.\n",
            "Le sous-dossier 'neutrophil' existe déjà.\n",
            "Le sous-dossier 'basophil' existe déjà.\n",
            "Le sous-dossier 'erythroblast' existe déjà.\n",
            "Le sous-dossier 'platelet' existe déjà.\n",
            "Le sous-dossier 'ig' existe déjà.\n",
            "Le sous-dossier 'eosinophil' existe déjà.\n"
          ]
        }
      ],
      "source": [
        "# Chemin du répertoire principal de Google Drive\n",
        "main_dir_masques='/content/'\n",
        "\n",
        "# Nom du sous-dossier à créer\n",
        "subfolder_name = 'masques'\n",
        "\n",
        "# Chemin complet du sous-dossier à créer\n",
        "subfolder_path = os.path.join(main_dir_masques, subfolder_name)\n",
        "\n",
        "# Vérifier si le sous-dossier existe déjà\n",
        "if not os.path.exists(subfolder_path):\n",
        "    # Créer le sous-dossier\n",
        "    os.makedirs(subfolder_path)\n",
        "    print(\"Le sous-dossier '{}' a été créé avec succès.\".format(subfolder_name))\n",
        "else:\n",
        "    print(\"Le sous-dossier '{}' existe déjà.\".format(subfolder_name))\n",
        "\n",
        "main_dir='/content/PBC_dataset_normal_DIB'\n",
        "\n",
        "liste_dossier=[]\n",
        "for folder_idx, folder in enumerate(os.listdir(path=main_dir)):\n",
        "  liste_dossier.append(folder)\n",
        "\n",
        "print(liste_dossier)\n",
        "\n",
        "for folder_name in liste_dossier:\n",
        "  group_path=os.path.join(subfolder_path,folder_name)\n",
        "\n",
        "  # Vérifier si le sous-dossier existe déjà\n",
        "  if not os.path.exists(group_path):\n",
        "    # Créer le sous-dossier\n",
        "    os.makedirs(group_path)\n",
        "    print(\"Le sous-dossier '{}' a été créé avec succès.\".format(folder_name))\n",
        "  else:\n",
        "    print(\"Le sous-dossier '{}' existe déjà.\".format(folder_name))"
      ]
    },
    {
      "cell_type": "markdown",
      "metadata": {
        "id": "09EOpfGuz5VU"
      },
      "source": [
        "**Génération de masques par groupe de cellules et sauvegarde dans le répertoire local \"masques\":\n",
        "Génération de masques par tranches de 100 images par label**"
      ]
    },
    {
      "cell_type": "code",
      "execution_count": null,
      "metadata": {
        "colab": {
          "base_uri": "https://localhost:8080/"
        },
        "id": "Lwik5Na4_zZ9",
        "outputId": "44c3fc08-de73-40d7-8551-258cc0ba2c7b"
      },
      "outputs": [
        {
          "name": "stderr",
          "output_type": "stream",
          "text": [
            " 50%|█████     | 1/2 [00:02<00:02,  2.05s/it]"
          ]
        },
        {
          "name": "stdout",
          "output_type": "stream",
          "text": [
            "Temps pris par predictor.set_image() : 1.9466114044189453 secondes\n",
            "L'image n° 0 a été enregistrée sous : /content/masques/basophil/BA_785668_mask.png\n"
          ]
        },
        {
          "name": "stderr",
          "output_type": "stream",
          "text": [
            "100%|██████████| 2/2 [00:04<00:00,  2.04s/it]\n"
          ]
        },
        {
          "name": "stdout",
          "output_type": "stream",
          "text": [
            "Temps pris par predictor.set_image() : 1.938373327255249 secondes\n",
            "L'image n° 1 a été enregistrée sous : /content/masques/basophil/BA_598745_mask.png\n"
          ]
        },
        {
          "name": "stderr",
          "output_type": "stream",
          "text": [
            " 50%|█████     | 1/2 [00:02<00:02,  2.04s/it]"
          ]
        },
        {
          "name": "stdout",
          "output_type": "stream",
          "text": [
            "Temps pris par predictor.set_image() : 1.9507510662078857 secondes\n",
            "L'image n° 0 a été enregistrée sous : /content/masques/basophil/BA_785668_mask.png\n"
          ]
        },
        {
          "name": "stderr",
          "output_type": "stream",
          "text": [
            "100%|██████████| 2/2 [00:04<00:00,  2.05s/it]\n"
          ]
        },
        {
          "name": "stdout",
          "output_type": "stream",
          "text": [
            "Temps pris par predictor.set_image() : 1.9621121883392334 secondes\n",
            "L'image n° 1 a été enregistrée sous : /content/masques/basophil/BA_598745_mask.png\n"
          ]
        },
        {
          "name": "stderr",
          "output_type": "stream",
          "text": [
            " 50%|█████     | 1/2 [00:02<00:02,  2.07s/it]"
          ]
        },
        {
          "name": "stdout",
          "output_type": "stream",
          "text": [
            "Temps pris par predictor.set_image() : 1.9781925678253174 secondes\n",
            "L'image n° 0 a été enregistrée sous : /content/masques/basophil/BA_785668_mask.png\n"
          ]
        },
        {
          "name": "stderr",
          "output_type": "stream",
          "text": [
            "100%|██████████| 2/2 [00:04<00:00,  2.08s/it]\n"
          ]
        },
        {
          "name": "stdout",
          "output_type": "stream",
          "text": [
            "Temps pris par predictor.set_image() : 1.9858205318450928 secondes\n",
            "L'image n° 1 a été enregistrée sous : /content/masques/basophil/BA_598745_mask.png\n"
          ]
        },
        {
          "name": "stderr",
          "output_type": "stream",
          "text": [
            " 50%|█████     | 1/2 [00:02<00:02,  2.09s/it]"
          ]
        },
        {
          "name": "stdout",
          "output_type": "stream",
          "text": [
            "Temps pris par predictor.set_image() : 1.9994802474975586 secondes\n",
            "L'image n° 0 a été enregistrée sous : /content/masques/basophil/BA_785668_mask.png\n"
          ]
        },
        {
          "name": "stderr",
          "output_type": "stream",
          "text": [
            "100%|██████████| 2/2 [00:04<00:00,  2.10s/it]\n"
          ]
        },
        {
          "name": "stdout",
          "output_type": "stream",
          "text": [
            "Temps pris par predictor.set_image() : 2.011812448501587 secondes\n",
            "L'image n° 1 a été enregistrée sous : /content/masques/basophil/BA_598745_mask.png\n"
          ]
        },
        {
          "name": "stderr",
          "output_type": "stream",
          "text": [
            " 50%|█████     | 1/2 [00:02<00:02,  2.11s/it]"
          ]
        },
        {
          "name": "stdout",
          "output_type": "stream",
          "text": [
            "Temps pris par predictor.set_image() : 2.01924991607666 secondes\n",
            "L'image n° 0 a été enregistrée sous : /content/masques/basophil/BA_785668_mask.png\n"
          ]
        },
        {
          "name": "stderr",
          "output_type": "stream",
          "text": [
            "100%|██████████| 2/2 [00:04<00:00,  2.12s/it]\n"
          ]
        },
        {
          "name": "stdout",
          "output_type": "stream",
          "text": [
            "Temps pris par predictor.set_image() : 2.027761220932007 secondes\n",
            "L'image n° 1 a été enregistrée sous : /content/masques/basophil/BA_598745_mask.png\n"
          ]
        },
        {
          "name": "stderr",
          "output_type": "stream",
          "text": [
            " 50%|█████     | 1/2 [00:02<00:02,  2.11s/it]"
          ]
        },
        {
          "name": "stdout",
          "output_type": "stream",
          "text": [
            "Temps pris par predictor.set_image() : 2.0218312740325928 secondes\n",
            "L'image n° 0 a été enregistrée sous : /content/masques/basophil/BA_785668_mask.png\n"
          ]
        },
        {
          "name": "stderr",
          "output_type": "stream",
          "text": [
            "100%|██████████| 2/2 [00:04<00:00,  2.11s/it]\n"
          ]
        },
        {
          "name": "stdout",
          "output_type": "stream",
          "text": [
            "Temps pris par predictor.set_image() : 2.009896755218506 secondes\n",
            "L'image n° 1 a été enregistrée sous : /content/masques/basophil/BA_598745_mask.png\n"
          ]
        },
        {
          "name": "stderr",
          "output_type": "stream",
          "text": [
            " 50%|█████     | 1/2 [00:02<00:02,  2.07s/it]"
          ]
        },
        {
          "name": "stdout",
          "output_type": "stream",
          "text": [
            "Temps pris par predictor.set_image() : 1.9834160804748535 secondes\n",
            "L'image n° 0 a été enregistrée sous : /content/masques/basophil/BA_785668_mask.png\n"
          ]
        },
        {
          "name": "stderr",
          "output_type": "stream",
          "text": [
            "100%|██████████| 2/2 [00:04<00:00,  2.08s/it]\n"
          ]
        },
        {
          "name": "stdout",
          "output_type": "stream",
          "text": [
            "Temps pris par predictor.set_image() : 1.9885985851287842 secondes\n",
            "L'image n° 1 a été enregistrée sous : /content/masques/basophil/BA_598745_mask.png\n"
          ]
        },
        {
          "name": "stderr",
          "output_type": "stream",
          "text": [
            " 50%|█████     | 1/2 [00:02<00:02,  2.06s/it]"
          ]
        },
        {
          "name": "stdout",
          "output_type": "stream",
          "text": [
            "Temps pris par predictor.set_image() : 1.9761207103729248 secondes\n",
            "L'image n° 0 a été enregistrée sous : /content/masques/basophil/BA_785668_mask.png\n"
          ]
        },
        {
          "name": "stderr",
          "output_type": "stream",
          "text": [
            "100%|██████████| 2/2 [00:04<00:00,  2.06s/it]"
          ]
        },
        {
          "name": "stdout",
          "output_type": "stream",
          "text": [
            "Temps pris par predictor.set_image() : 1.9633045196533203 secondes\n",
            "L'image n° 1 a été enregistrée sous : /content/masques/basophil/BA_598745_mask.png\n"
          ]
        },
        {
          "name": "stderr",
          "output_type": "stream",
          "text": [
            "\n"
          ]
        }
      ],
      "source": [
        "# Définition des dimensions et positions des boxes et points appliqués sur chaque images pour limiter la segmentation a une partie restreinte de l'image\n",
        "input_box = np.array([90, 90, 270, 270])\n",
        "input_point = np.array([[180, 180]])\n",
        "input_label = np.array([1]) # signifie que les pixels sélectionnés représentant le masque positif de l'image\n",
        "\n",
        "# Copie de df\n",
        "train_df=df\n",
        "\n",
        "# Définition d'une liste contenant les différents labels\n",
        "liste_label =df.nameLabel.unique()\n",
        "\n",
        "# Parcours et écriture des masques de chaque groupe présent dans la liste \"liste_label\"\n",
        "# Ici on prend uniquement une centaine d'images par groupe\n",
        "for label in liste_label :\n",
        "  MASK_DF = train_df.loc[train_df['nameLabel'] == label][400:500]\n",
        "  IMAGE_PATH = np.array(MASK_DF['filepath'])\n",
        "\n",
        "  # Création et enregistrement des masques pour chaque image\n",
        "\n",
        "  for i in tqdm(range(len(MASK_DF))):\n",
        "\n",
        "          # Read image\n",
        "          image_bgr = cv2.imread(IMAGE_PATH[i])\n",
        "          image_rgb = cv2.cvtColor(image_bgr, cv2.COLOR_BGR2RGB)\n",
        "\n",
        "          start_time = time.time()\n",
        "          predictor.set_image(image_rgb)\n",
        "          end_time = time.time()\n",
        "          set_image_time = end_time - start_time\n",
        "          print(\"Temps pris par predictor.set_image() :\", set_image_time, \"secondes\")\n",
        "          start_time = time.time()\n",
        "          masque, _, _ = predictor.predict(\n",
        "            point_coords=None,   # pas de ciblage de la zone d'intérêt avec un point\n",
        "            point_labels=None,\n",
        "            box=input_box,        # ciblage de la zone d'intérêt avec une box\n",
        "            multimask_output=False,\n",
        "            )\n",
        "\n",
        "          # Chemin du dossier où vous souhaitez enregistrer l'image\n",
        "          output_folder = '/content/masques/' + IMAGE_PATH[i].split('/')[2]\n",
        "\n",
        "\n",
        "          # Nom du fichier de sortie\n",
        "          output_filename = str(MASK_DF['filepath'].iloc[i]).split('/')[3].split('.')[0]+'_mask.png'\n",
        "\n",
        "          # Chemin complet du fichier de sortie\n",
        "          output_path = output_folder+'/'+output_filename\n",
        "\n",
        "          mask_image = np.uint8(masque[0] * 255)\n",
        "\n",
        "          # Save the mask image\n",
        "          cv2.imwrite(output_path, mask_image)\n",
        "\n",
        "          # Enregistrez l'image dans le fichier PNG\n",
        "          print('L\\'image n°', i, 'a été enregistrée sous :', output_path)"
      ]
    },
    {
      "cell_type": "markdown",
      "source": [
        "# **4. Tri manuel des images segmentées dans les sous dossiers du dossier masques (suppression des segmentations ratées)**"
      ],
      "metadata": {
        "id": "sHD6duCa15lx"
      }
    },
    {
      "cell_type": "markdown",
      "metadata": {
        "id": "cpDdu1RhRy4d"
      },
      "source": [
        "# **5. Création du dataframe 'df_mask' présentant le chemin d'accès des images segmentées issues du modèle SAM et des images sources correspondantes**"
      ]
    },
    {
      "cell_type": "markdown",
      "metadata": {
        "id": "jnExJgHs0-4N"
      },
      "source": [
        "### **Dataframe**"
      ]
    },
    {
      "cell_type": "code",
      "execution_count": null,
      "metadata": {
        "colab": {
          "base_uri": "https://localhost:8080/",
          "height": 423
        },
        "id": "8xVxsBqr150h",
        "outputId": "90dc21fe-035c-41be-f528-96ebcd773492"
      },
      "outputs": [
        {
          "data": {
            "text/html": [
              "\n",
              "\n",
              "  <div id=\"df-5797f7af-901e-4dbb-ba62-197e3d0f4ff3\">\n",
              "    <div class=\"colab-df-container\">\n",
              "      <div>\n",
              "<style scoped>\n",
              "    .dataframe tbody tr th:only-of-type {\n",
              "        vertical-align: middle;\n",
              "    }\n",
              "\n",
              "    .dataframe tbody tr th {\n",
              "        vertical-align: top;\n",
              "    }\n",
              "\n",
              "    .dataframe thead th {\n",
              "        text-align: right;\n",
              "    }\n",
              "</style>\n",
              "<table border=\"1\" class=\"dataframe\">\n",
              "  <thead>\n",
              "    <tr style=\"text-align: right;\">\n",
              "      <th></th>\n",
              "      <th>maskpath</th>\n",
              "      <th>nameLabel</th>\n",
              "      <th>filepath</th>\n",
              "      <th>label</th>\n",
              "    </tr>\n",
              "  </thead>\n",
              "  <tbody>\n",
              "    <tr>\n",
              "      <th>0</th>\n",
              "      <td>/content/masques/basophil/BA_462792_mask.png</td>\n",
              "      <td>BA</td>\n",
              "      <td>/content/PBC_dataset_normal_DIB/basophil/BA_46...</td>\n",
              "      <td>0</td>\n",
              "    </tr>\n",
              "    <tr>\n",
              "      <th>1</th>\n",
              "      <td>/content/masques/basophil/BA_85940_mask.png</td>\n",
              "      <td>BA</td>\n",
              "      <td>/content/PBC_dataset_normal_DIB/basophil/BA_85...</td>\n",
              "      <td>0</td>\n",
              "    </tr>\n",
              "    <tr>\n",
              "      <th>2</th>\n",
              "      <td>/content/masques/basophil/BA_245418_mask.png</td>\n",
              "      <td>BA</td>\n",
              "      <td>/content/PBC_dataset_normal_DIB/basophil/BA_24...</td>\n",
              "      <td>0</td>\n",
              "    </tr>\n",
              "    <tr>\n",
              "      <th>3</th>\n",
              "      <td>/content/masques/basophil/BA_736344_mask.png</td>\n",
              "      <td>BA</td>\n",
              "      <td>/content/PBC_dataset_normal_DIB/basophil/BA_73...</td>\n",
              "      <td>0</td>\n",
              "    </tr>\n",
              "    <tr>\n",
              "      <th>4</th>\n",
              "      <td>/content/masques/basophil/BA_271614_mask.png</td>\n",
              "      <td>BA</td>\n",
              "      <td>/content/PBC_dataset_normal_DIB/basophil/BA_27...</td>\n",
              "      <td>0</td>\n",
              "    </tr>\n",
              "    <tr>\n",
              "      <th>...</th>\n",
              "      <td>...</td>\n",
              "      <td>...</td>\n",
              "      <td>...</td>\n",
              "      <td>...</td>\n",
              "    </tr>\n",
              "    <tr>\n",
              "      <th>4497</th>\n",
              "      <td>/content/masques/platelet/PLATELET_188467_mask...</td>\n",
              "      <td>PLATELET</td>\n",
              "      <td>/content/PBC_dataset_normal_DIB/platelet/PLATE...</td>\n",
              "      <td>1</td>\n",
              "    </tr>\n",
              "    <tr>\n",
              "      <th>4498</th>\n",
              "      <td>/content/masques/platelet/PLATELET_938834_mask...</td>\n",
              "      <td>PLATELET</td>\n",
              "      <td>/content/PBC_dataset_normal_DIB/platelet/PLATE...</td>\n",
              "      <td>1</td>\n",
              "    </tr>\n",
              "    <tr>\n",
              "      <th>4499</th>\n",
              "      <td>/content/masques/platelet/PLATELET_962630_mask...</td>\n",
              "      <td>PLATELET</td>\n",
              "      <td>/content/PBC_dataset_normal_DIB/platelet/PLATE...</td>\n",
              "      <td>1</td>\n",
              "    </tr>\n",
              "    <tr>\n",
              "      <th>4500</th>\n",
              "      <td>/content/masques/platelet/PLATELET_220047_mask...</td>\n",
              "      <td>PLATELET</td>\n",
              "      <td>/content/PBC_dataset_normal_DIB/platelet/PLATE...</td>\n",
              "      <td>1</td>\n",
              "    </tr>\n",
              "    <tr>\n",
              "      <th>4501</th>\n",
              "      <td>/content/masques/platelet/PLATELET_485297_mask...</td>\n",
              "      <td>PLATELET</td>\n",
              "      <td>/content/PBC_dataset_normal_DIB/platelet/PLATE...</td>\n",
              "      <td>1</td>\n",
              "    </tr>\n",
              "  </tbody>\n",
              "</table>\n",
              "<p>4502 rows × 4 columns</p>\n",
              "</div>\n",
              "      <button class=\"colab-df-convert\" onclick=\"convertToInteractive('df-5797f7af-901e-4dbb-ba62-197e3d0f4ff3')\"\n",
              "              title=\"Convert this dataframe to an interactive table.\"\n",
              "              style=\"display:none;\">\n",
              "\n",
              "  <svg xmlns=\"http://www.w3.org/2000/svg\" height=\"24px\"viewBox=\"0 0 24 24\"\n",
              "       width=\"24px\">\n",
              "    <path d=\"M0 0h24v24H0V0z\" fill=\"none\"/>\n",
              "    <path d=\"M18.56 5.44l.94 2.06.94-2.06 2.06-.94-2.06-.94-.94-2.06-.94 2.06-2.06.94zm-11 1L8.5 8.5l.94-2.06 2.06-.94-2.06-.94L8.5 2.5l-.94 2.06-2.06.94zm10 10l.94 2.06.94-2.06 2.06-.94-2.06-.94-.94-2.06-.94 2.06-2.06.94z\"/><path d=\"M17.41 7.96l-1.37-1.37c-.4-.4-.92-.59-1.43-.59-.52 0-1.04.2-1.43.59L10.3 9.45l-7.72 7.72c-.78.78-.78 2.05 0 2.83L4 21.41c.39.39.9.59 1.41.59.51 0 1.02-.2 1.41-.59l7.78-7.78 2.81-2.81c.8-.78.8-2.07 0-2.86zM5.41 20L4 18.59l7.72-7.72 1.47 1.35L5.41 20z\"/>\n",
              "  </svg>\n",
              "      </button>\n",
              "\n",
              "\n",
              "\n",
              "    <div id=\"df-f7b31cc6-3031-4de7-8aaf-a5e1c7cf703f\">\n",
              "      <button class=\"colab-df-quickchart\" onclick=\"quickchart('df-f7b31cc6-3031-4de7-8aaf-a5e1c7cf703f')\"\n",
              "              title=\"Suggest charts.\"\n",
              "              style=\"display:none;\">\n",
              "\n",
              "<svg xmlns=\"http://www.w3.org/2000/svg\" height=\"24px\"viewBox=\"0 0 24 24\"\n",
              "     width=\"24px\">\n",
              "    <g>\n",
              "        <path d=\"M19 3H5c-1.1 0-2 .9-2 2v14c0 1.1.9 2 2 2h14c1.1 0 2-.9 2-2V5c0-1.1-.9-2-2-2zM9 17H7v-7h2v7zm4 0h-2V7h2v10zm4 0h-2v-4h2v4z\"/>\n",
              "    </g>\n",
              "</svg>\n",
              "      </button>\n",
              "    </div>\n",
              "\n",
              "<style>\n",
              "  .colab-df-quickchart {\n",
              "    background-color: #E8F0FE;\n",
              "    border: none;\n",
              "    border-radius: 50%;\n",
              "    cursor: pointer;\n",
              "    display: none;\n",
              "    fill: #1967D2;\n",
              "    height: 32px;\n",
              "    padding: 0 0 0 0;\n",
              "    width: 32px;\n",
              "  }\n",
              "\n",
              "  .colab-df-quickchart:hover {\n",
              "    background-color: #E2EBFA;\n",
              "    box-shadow: 0px 1px 2px rgba(60, 64, 67, 0.3), 0px 1px 3px 1px rgba(60, 64, 67, 0.15);\n",
              "    fill: #174EA6;\n",
              "  }\n",
              "\n",
              "  [theme=dark] .colab-df-quickchart {\n",
              "    background-color: #3B4455;\n",
              "    fill: #D2E3FC;\n",
              "  }\n",
              "\n",
              "  [theme=dark] .colab-df-quickchart:hover {\n",
              "    background-color: #434B5C;\n",
              "    box-shadow: 0px 1px 3px 1px rgba(0, 0, 0, 0.15);\n",
              "    filter: drop-shadow(0px 1px 2px rgba(0, 0, 0, 0.3));\n",
              "    fill: #FFFFFF;\n",
              "  }\n",
              "</style>\n",
              "\n",
              "    <script>\n",
              "      async function quickchart(key) {\n",
              "        const containerElement = document.querySelector('#' + key);\n",
              "        const charts = await google.colab.kernel.invokeFunction(\n",
              "            'suggestCharts', [key], {});\n",
              "      }\n",
              "    </script>\n",
              "\n",
              "      <script>\n",
              "\n",
              "function displayQuickchartButton(domScope) {\n",
              "  let quickchartButtonEl =\n",
              "    domScope.querySelector('#df-f7b31cc6-3031-4de7-8aaf-a5e1c7cf703f button.colab-df-quickchart');\n",
              "  quickchartButtonEl.style.display =\n",
              "    google.colab.kernel.accessAllowed ? 'block' : 'none';\n",
              "}\n",
              "\n",
              "        displayQuickchartButton(document);\n",
              "      </script>\n",
              "      <style>\n",
              "    .colab-df-container {\n",
              "      display:flex;\n",
              "      flex-wrap:wrap;\n",
              "      gap: 12px;\n",
              "    }\n",
              "\n",
              "    .colab-df-convert {\n",
              "      background-color: #E8F0FE;\n",
              "      border: none;\n",
              "      border-radius: 50%;\n",
              "      cursor: pointer;\n",
              "      display: none;\n",
              "      fill: #1967D2;\n",
              "      height: 32px;\n",
              "      padding: 0 0 0 0;\n",
              "      width: 32px;\n",
              "    }\n",
              "\n",
              "    .colab-df-convert:hover {\n",
              "      background-color: #E2EBFA;\n",
              "      box-shadow: 0px 1px 2px rgba(60, 64, 67, 0.3), 0px 1px 3px 1px rgba(60, 64, 67, 0.15);\n",
              "      fill: #174EA6;\n",
              "    }\n",
              "\n",
              "    [theme=dark] .colab-df-convert {\n",
              "      background-color: #3B4455;\n",
              "      fill: #D2E3FC;\n",
              "    }\n",
              "\n",
              "    [theme=dark] .colab-df-convert:hover {\n",
              "      background-color: #434B5C;\n",
              "      box-shadow: 0px 1px 3px 1px rgba(0, 0, 0, 0.15);\n",
              "      filter: drop-shadow(0px 1px 2px rgba(0, 0, 0, 0.3));\n",
              "      fill: #FFFFFF;\n",
              "    }\n",
              "  </style>\n",
              "\n",
              "      <script>\n",
              "        const buttonEl =\n",
              "          document.querySelector('#df-5797f7af-901e-4dbb-ba62-197e3d0f4ff3 button.colab-df-convert');\n",
              "        buttonEl.style.display =\n",
              "          google.colab.kernel.accessAllowed ? 'block' : 'none';\n",
              "\n",
              "        async function convertToInteractive(key) {\n",
              "          const element = document.querySelector('#df-5797f7af-901e-4dbb-ba62-197e3d0f4ff3');\n",
              "          const dataTable =\n",
              "            await google.colab.kernel.invokeFunction('convertToInteractive',\n",
              "                                                     [key], {});\n",
              "          if (!dataTable) return;\n",
              "\n",
              "          const docLinkHtml = 'Like what you see? Visit the ' +\n",
              "            '<a target=\"_blank\" href=https://colab.research.google.com/notebooks/data_table.ipynb>data table notebook</a>'\n",
              "            + ' to learn more about interactive tables.';\n",
              "          element.innerHTML = '';\n",
              "          dataTable['output_type'] = 'display_data';\n",
              "          await google.colab.output.renderOutput(dataTable, element);\n",
              "          const docLink = document.createElement('div');\n",
              "          docLink.innerHTML = docLinkHtml;\n",
              "          element.appendChild(docLink);\n",
              "        }\n",
              "      </script>\n",
              "    </div>\n",
              "  </div>\n"
            ],
            "text/plain": [
              "                                               maskpath nameLabel  \\\n",
              "0          /content/masques/basophil/BA_462792_mask.png        BA   \n",
              "1           /content/masques/basophil/BA_85940_mask.png        BA   \n",
              "2          /content/masques/basophil/BA_245418_mask.png        BA   \n",
              "3          /content/masques/basophil/BA_736344_mask.png        BA   \n",
              "4          /content/masques/basophil/BA_271614_mask.png        BA   \n",
              "...                                                 ...       ...   \n",
              "4497  /content/masques/platelet/PLATELET_188467_mask...  PLATELET   \n",
              "4498  /content/masques/platelet/PLATELET_938834_mask...  PLATELET   \n",
              "4499  /content/masques/platelet/PLATELET_962630_mask...  PLATELET   \n",
              "4500  /content/masques/platelet/PLATELET_220047_mask...  PLATELET   \n",
              "4501  /content/masques/platelet/PLATELET_485297_mask...  PLATELET   \n",
              "\n",
              "                                               filepath  label  \n",
              "0     /content/PBC_dataset_normal_DIB/basophil/BA_46...      0  \n",
              "1     /content/PBC_dataset_normal_DIB/basophil/BA_85...      0  \n",
              "2     /content/PBC_dataset_normal_DIB/basophil/BA_24...      0  \n",
              "3     /content/PBC_dataset_normal_DIB/basophil/BA_73...      0  \n",
              "4     /content/PBC_dataset_normal_DIB/basophil/BA_27...      0  \n",
              "...                                                 ...    ...  \n",
              "4497  /content/PBC_dataset_normal_DIB/platelet/PLATE...      1  \n",
              "4498  /content/PBC_dataset_normal_DIB/platelet/PLATE...      1  \n",
              "4499  /content/PBC_dataset_normal_DIB/platelet/PLATE...      1  \n",
              "4500  /content/PBC_dataset_normal_DIB/platelet/PLATE...      1  \n",
              "4501  /content/PBC_dataset_normal_DIB/platelet/PLATE...      1  \n",
              "\n",
              "[4502 rows x 4 columns]"
            ]
          },
          "execution_count": 8,
          "metadata": {},
          "output_type": "execute_result"
        }
      ],
      "source": [
        "# Trouver tous les chemins vers les fichiers qui finissent par .jpg\n",
        "liste_mask = glob.glob('/content/masques/*/*.png')\n",
        "\n",
        "# # Création d'une liste comprenant les chemins d'accès aux images ainsi que le label de chaque image\n",
        "liste_mask = list(map(lambda x : [x,\n",
        "                                  x.split('/')[4].split('_')[0],\n",
        "                                  '/content/PBC_dataset_normal_DIB/'+x.split('/')[3]+'/'+ x.split('/')[4].split('_')[0]+'_'+x.split('/')[4].split('_')[1]+'.jpg'],\n",
        "                       liste_mask))\n",
        "\n",
        "# Créer un DataFrame pandas\n",
        "df_mask = pd.DataFrame(liste_mask, columns=['maskpath', 'nameLabel','filepath'])\n",
        "df_mask=df_mask.replace(['SNE','BNE'],'NEUTROPHIL')\n",
        "df_mask=df_mask.replace(['MY','MMY','PMY'],'IG')\n",
        "df_mask['label'] = df['nameLabel'].replace(df_mask.nameLabel.unique(), [*range(len(df_mask.nameLabel.unique()))])\n",
        "df_mask.sort_values('maskpath')\n",
        "df_mask"
      ]
    },
    {
      "cell_type": "markdown",
      "metadata": {
        "id": "z8moRq-MlU-n"
      },
      "source": [
        "### **Information sur le dataset des 4502 images segmentées**"
      ]
    },
    {
      "cell_type": "code",
      "execution_count": null,
      "metadata": {
        "colab": {
          "base_uri": "https://localhost:8080/"
        },
        "id": "BGzpB8NkeKEa",
        "outputId": "9a1550e5-ffc9-4869-d98b-c0706f18b72b"
      },
      "outputs": [
        {
          "data": {
            "text/plain": [
              "BA            756\n",
              "MO            721\n",
              "LY            688\n",
              "ERB           503\n",
              "PLATELET      499\n",
              "EO            455\n",
              "NEUTROPHIL    443\n",
              "IG            437\n",
              "Name: nameLabel, dtype: int64"
            ]
          },
          "execution_count": 9,
          "metadata": {},
          "output_type": "execute_result"
        }
      ],
      "source": [
        "# répartition du nombre d'images selon le label dans le dataframe df_mask\n",
        "df_mask.nameLabel.value_counts()"
      ]
    }
  ],
  "metadata": {
    "accelerator": "GPU",
    "colab": {
      "machine_shape": "hm",
      "provenance": [],
      "include_colab_link": true
    },
    "kernelspec": {
      "display_name": "Python 3",
      "name": "python3"
    },
    "language_info": {
      "name": "python",
      "version": "3.10.9"
    }
  },
  "nbformat": 4,
  "nbformat_minor": 0
}