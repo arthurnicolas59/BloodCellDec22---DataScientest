{
  "cells": [
    {
      "cell_type": "markdown",
      "metadata": {
        "id": "view-in-github",
        "colab_type": "text"
      },
      "source": [
        "<a href=\"https://colab.research.google.com/github/arthurnicolas59/BloodCellDec22---DataScientest/blob/Ludo/7_Comparatif_Mod%C3%A8les_de_classification.ipynb\" target=\"_parent\"><img src=\"https://colab.research.google.com/assets/colab-badge.svg\" alt=\"Open In Colab\"/></a>"
      ]
    },
    {
      "cell_type": "markdown",
      "source": [
        "# **Connexion au drive et import des modules**"
      ],
      "metadata": {
        "id": "um4bdFR5axrf"
      }
    },
    {
      "cell_type": "code",
      "source": [
        "import tensorflow as tf\n",
        "if tf.test.gpu_device_name():\n",
        "    print('Default GPU Device:{}'.format(tf.test.gpu_device_name()))\n",
        "else:\n",
        "    print(\"Please change your hardware accelerator\")"
      ],
      "metadata": {
        "colab": {
          "base_uri": "https://localhost:8080/"
        },
        "id": "n8MLHLWMas6V",
        "outputId": "16e41980-d3c1-4286-9869-5f5718146c4f"
      },
      "execution_count": null,
      "outputs": [
        {
          "output_type": "stream",
          "name": "stdout",
          "text": [
            "Default GPU Device:/device:GPU:0\n"
          ]
        }
      ]
    },
    {
      "cell_type": "code",
      "source": [
        "from google.colab import drive\n",
        "drive.mount('/content/drive',force_remount=True)"
      ],
      "metadata": {
        "colab": {
          "base_uri": "https://localhost:8080/"
        },
        "id": "QLOG6TJyawCM",
        "outputId": "1abbbd1d-1977-4e6c-abd0-ce3252a793b8"
      },
      "execution_count": null,
      "outputs": [
        {
          "output_type": "stream",
          "name": "stdout",
          "text": [
            "Mounted at /content/drive\n"
          ]
        }
      ]
    },
    {
      "cell_type": "code",
      "source": [
        "### Import des modules nécessaires pour l'ensemble du travail\n",
        "\n",
        "import numpy as np\n",
        "import os\n",
        "import glob\n",
        "import cv2\n",
        "from keras import callbacks\n",
        "import pandas as pd\n",
        "import skimage.io as io\n",
        "import skimage.transform as trans\n",
        "import numpy as np\n",
        "import tensorflow as tf\n",
        "import matplotlib.pyplot as plt\n",
        "from sklearn.model_selection import train_test_split\n",
        "from keras.models import *\n",
        "from keras.layers import *\n",
        "from keras.optimizers import *\n",
        "from keras.callbacks import ModelCheckpoint, LearningRateScheduler\n",
        "from keras import backend as keras\n",
        "from keras.applications import VGG16\n",
        "from keras.layers import Multiply, Flatten, Dense, Input\n",
        "from keras.models import Model\n",
        "from keras.layers import BatchNormalization, Dropout\n",
        "from tensorflow.keras.utils import plot_model\n",
        "from tensorflow.keras import layers, models\n",
        "from tensorflow.keras.preprocessing.image import ImageDataGenerator\n",
        "from sklearn.model_selection import train_test_split"
      ],
      "metadata": {
        "id": "bqHXucZLb4Bw"
      },
      "execution_count": null,
      "outputs": []
    },
    {
      "cell_type": "markdown",
      "source": [
        "# **1. Préparation des données de synthèse**"
      ],
      "metadata": {
        "id": "80WVLyptoPmY"
      }
    },
    {
      "cell_type": "markdown",
      "source": [
        "## **1.1. Construction du dataframe 'df_fusion' présentant les chemins d'accès à l'ensemble des images traitées et non traitées**"
      ],
      "metadata": {
        "id": "Y3pSg7FNohzR"
      }
    },
    {
      "cell_type": "code",
      "source": [
        "# Import\n",
        "!unzip -q 'drive/MyDrive/Datascientest/Images_masquees_19082023.zip'"
      ],
      "metadata": {
        "id": "3MjOw2X4bzc4",
        "colab": {
          "base_uri": "https://localhost:8080/"
        },
        "outputId": "eaf70b6b-69b8-43dc-f0c7-b47bca2beb36"
      },
      "execution_count": null,
      "outputs": [
        {
          "output_type": "stream",
          "name": "stdout",
          "text": [
            "replace fusion/basophil/BA_100102_fusion.png? [y]es, [n]o, [A]ll, [N]one, [r]ename: A\n"
          ]
        }
      ]
    },
    {
      "cell_type": "code",
      "source": [
        "# Trouver tous les chemins vers les fichiers qui finissent par .png\n",
        "liste_fusion = glob.glob('/content/fusion/*/*.png')\n",
        "\n",
        "# # Création d'une liste comprenant les chemins d'accès aux images ainsi que le label de chaque image\n",
        "liste_fusion = list(map(lambda x : [\n",
        "    '/content/PBC_dataset_normal_DIB/'+x.split('/')[3]+'/'+ x.split('/')[4].split('_')[0]+'_'+x.split('/')[4].split('_')[1]+'.jpg',\n",
        "    '/content/Images_egalisees/'+x.split('/')[3]+'/'+ x.split('/')[4].split('_')[0]+'_'+x.split('/')[4].split('_')[1]+'.jpg',\n",
        "    '/content/images_egalisation_adaptative/'+x.split('/')[3]+'/'+ x.split('/')[4].split('_')[0]+'_'+x.split('/')[4].split('_')[1]+'.jpg',\n",
        "    x,\n",
        "    x.split('/')[4].split('_')[0]],\n",
        "    liste_fusion))\n",
        "\n",
        "# Créer un DataFrame pandas\n",
        "df_fusion = pd.DataFrame(liste_fusion, columns=['filepath','egalisation_path','egalisation_adaptative_path','fusionpath','nameLabel'])\n",
        "df_fusion=df_fusion.replace(['SNE','BNE'],'NEUTROPHIL')\n",
        "df_fusion=df_fusion.replace(['MY','MMY','PMY'],'IG')\n",
        "df_fusion.sort_values('fusionpath')\n",
        "df_fusion"
      ],
      "metadata": {
        "colab": {
          "base_uri": "https://localhost:8080/",
          "height": 444
        },
        "id": "pCXcoKNtb6_m",
        "outputId": "f1103516-cce4-4c9c-eb64-e78597c79350"
      },
      "execution_count": null,
      "outputs": [
        {
          "output_type": "execute_result",
          "data": {
            "text/plain": [
              "                                                filepath  \\\n",
              "0      /content/PBC_dataset_normal_DIB/neutrophil/BNE...   \n",
              "1      /content/PBC_dataset_normal_DIB/neutrophil/SNE...   \n",
              "2      /content/PBC_dataset_normal_DIB/neutrophil/SNE...   \n",
              "3      /content/PBC_dataset_normal_DIB/neutrophil/SNE...   \n",
              "4      /content/PBC_dataset_normal_DIB/neutrophil/SNE...   \n",
              "...                                                  ...   \n",
              "17087  /content/PBC_dataset_normal_DIB/lymphocyte/LY_...   \n",
              "17088  /content/PBC_dataset_normal_DIB/lymphocyte/LY_...   \n",
              "17089  /content/PBC_dataset_normal_DIB/lymphocyte/LY_...   \n",
              "17090  /content/PBC_dataset_normal_DIB/lymphocyte/LY_...   \n",
              "17091  /content/PBC_dataset_normal_DIB/lymphocyte/LY_...   \n",
              "\n",
              "                                        egalisation_path  \\\n",
              "0      /content/Images_egalisees/neutrophil/BNE_66682...   \n",
              "1      /content/Images_egalisees/neutrophil/SNE_44425...   \n",
              "2      /content/Images_egalisees/neutrophil/SNE_35764...   \n",
              "3      /content/Images_egalisees/neutrophil/SNE_31989...   \n",
              "4      /content/Images_egalisees/neutrophil/SNE_27486...   \n",
              "...                                                  ...   \n",
              "17087  /content/Images_egalisees/lymphocyte/LY_722701...   \n",
              "17088  /content/Images_egalisees/lymphocyte/LY_199801...   \n",
              "17089  /content/Images_egalisees/lymphocyte/LY_967233...   \n",
              "17090  /content/Images_egalisees/lymphocyte/LY_65073.jpg   \n",
              "17091  /content/Images_egalisees/lymphocyte/LY_554492...   \n",
              "\n",
              "                             egalisation_adaptative_path  \\\n",
              "0      /content/images_egalisation_adaptative/neutrop...   \n",
              "1      /content/images_egalisation_adaptative/neutrop...   \n",
              "2      /content/images_egalisation_adaptative/neutrop...   \n",
              "3      /content/images_egalisation_adaptative/neutrop...   \n",
              "4      /content/images_egalisation_adaptative/neutrop...   \n",
              "...                                                  ...   \n",
              "17087  /content/images_egalisation_adaptative/lymphoc...   \n",
              "17088  /content/images_egalisation_adaptative/lymphoc...   \n",
              "17089  /content/images_egalisation_adaptative/lymphoc...   \n",
              "17090  /content/images_egalisation_adaptative/lymphoc...   \n",
              "17091  /content/images_egalisation_adaptative/lymphoc...   \n",
              "\n",
              "                                             fusionpath   nameLabel  \n",
              "0      /content/fusion/neutrophil/BNE_666824_fusion.png  NEUTROPHIL  \n",
              "1      /content/fusion/neutrophil/SNE_444255_fusion.png  NEUTROPHIL  \n",
              "2      /content/fusion/neutrophil/SNE_357649_fusion.png  NEUTROPHIL  \n",
              "3      /content/fusion/neutrophil/SNE_319893_fusion.png  NEUTROPHIL  \n",
              "4      /content/fusion/neutrophil/SNE_274866_fusion.png  NEUTROPHIL  \n",
              "...                                                 ...         ...  \n",
              "17087   /content/fusion/lymphocyte/LY_722701_fusion.png          LY  \n",
              "17088   /content/fusion/lymphocyte/LY_199801_fusion.png          LY  \n",
              "17089   /content/fusion/lymphocyte/LY_967233_fusion.png          LY  \n",
              "17090    /content/fusion/lymphocyte/LY_65073_fusion.png          LY  \n",
              "17091   /content/fusion/lymphocyte/LY_554492_fusion.png          LY  \n",
              "\n",
              "[17092 rows x 5 columns]"
            ],
            "text/html": [
              "\n",
              "  <div id=\"df-18e0e017-ae69-4ca5-b2d1-76f77b57217d\" class=\"colab-df-container\">\n",
              "    <div>\n",
              "<style scoped>\n",
              "    .dataframe tbody tr th:only-of-type {\n",
              "        vertical-align: middle;\n",
              "    }\n",
              "\n",
              "    .dataframe tbody tr th {\n",
              "        vertical-align: top;\n",
              "    }\n",
              "\n",
              "    .dataframe thead th {\n",
              "        text-align: right;\n",
              "    }\n",
              "</style>\n",
              "<table border=\"1\" class=\"dataframe\">\n",
              "  <thead>\n",
              "    <tr style=\"text-align: right;\">\n",
              "      <th></th>\n",
              "      <th>filepath</th>\n",
              "      <th>egalisation_path</th>\n",
              "      <th>egalisation_adaptative_path</th>\n",
              "      <th>fusionpath</th>\n",
              "      <th>nameLabel</th>\n",
              "    </tr>\n",
              "  </thead>\n",
              "  <tbody>\n",
              "    <tr>\n",
              "      <th>0</th>\n",
              "      <td>/content/PBC_dataset_normal_DIB/neutrophil/BNE...</td>\n",
              "      <td>/content/Images_egalisees/neutrophil/BNE_66682...</td>\n",
              "      <td>/content/images_egalisation_adaptative/neutrop...</td>\n",
              "      <td>/content/fusion/neutrophil/BNE_666824_fusion.png</td>\n",
              "      <td>NEUTROPHIL</td>\n",
              "    </tr>\n",
              "    <tr>\n",
              "      <th>1</th>\n",
              "      <td>/content/PBC_dataset_normal_DIB/neutrophil/SNE...</td>\n",
              "      <td>/content/Images_egalisees/neutrophil/SNE_44425...</td>\n",
              "      <td>/content/images_egalisation_adaptative/neutrop...</td>\n",
              "      <td>/content/fusion/neutrophil/SNE_444255_fusion.png</td>\n",
              "      <td>NEUTROPHIL</td>\n",
              "    </tr>\n",
              "    <tr>\n",
              "      <th>2</th>\n",
              "      <td>/content/PBC_dataset_normal_DIB/neutrophil/SNE...</td>\n",
              "      <td>/content/Images_egalisees/neutrophil/SNE_35764...</td>\n",
              "      <td>/content/images_egalisation_adaptative/neutrop...</td>\n",
              "      <td>/content/fusion/neutrophil/SNE_357649_fusion.png</td>\n",
              "      <td>NEUTROPHIL</td>\n",
              "    </tr>\n",
              "    <tr>\n",
              "      <th>3</th>\n",
              "      <td>/content/PBC_dataset_normal_DIB/neutrophil/SNE...</td>\n",
              "      <td>/content/Images_egalisees/neutrophil/SNE_31989...</td>\n",
              "      <td>/content/images_egalisation_adaptative/neutrop...</td>\n",
              "      <td>/content/fusion/neutrophil/SNE_319893_fusion.png</td>\n",
              "      <td>NEUTROPHIL</td>\n",
              "    </tr>\n",
              "    <tr>\n",
              "      <th>4</th>\n",
              "      <td>/content/PBC_dataset_normal_DIB/neutrophil/SNE...</td>\n",
              "      <td>/content/Images_egalisees/neutrophil/SNE_27486...</td>\n",
              "      <td>/content/images_egalisation_adaptative/neutrop...</td>\n",
              "      <td>/content/fusion/neutrophil/SNE_274866_fusion.png</td>\n",
              "      <td>NEUTROPHIL</td>\n",
              "    </tr>\n",
              "    <tr>\n",
              "      <th>...</th>\n",
              "      <td>...</td>\n",
              "      <td>...</td>\n",
              "      <td>...</td>\n",
              "      <td>...</td>\n",
              "      <td>...</td>\n",
              "    </tr>\n",
              "    <tr>\n",
              "      <th>17087</th>\n",
              "      <td>/content/PBC_dataset_normal_DIB/lymphocyte/LY_...</td>\n",
              "      <td>/content/Images_egalisees/lymphocyte/LY_722701...</td>\n",
              "      <td>/content/images_egalisation_adaptative/lymphoc...</td>\n",
              "      <td>/content/fusion/lymphocyte/LY_722701_fusion.png</td>\n",
              "      <td>LY</td>\n",
              "    </tr>\n",
              "    <tr>\n",
              "      <th>17088</th>\n",
              "      <td>/content/PBC_dataset_normal_DIB/lymphocyte/LY_...</td>\n",
              "      <td>/content/Images_egalisees/lymphocyte/LY_199801...</td>\n",
              "      <td>/content/images_egalisation_adaptative/lymphoc...</td>\n",
              "      <td>/content/fusion/lymphocyte/LY_199801_fusion.png</td>\n",
              "      <td>LY</td>\n",
              "    </tr>\n",
              "    <tr>\n",
              "      <th>17089</th>\n",
              "      <td>/content/PBC_dataset_normal_DIB/lymphocyte/LY_...</td>\n",
              "      <td>/content/Images_egalisees/lymphocyte/LY_967233...</td>\n",
              "      <td>/content/images_egalisation_adaptative/lymphoc...</td>\n",
              "      <td>/content/fusion/lymphocyte/LY_967233_fusion.png</td>\n",
              "      <td>LY</td>\n",
              "    </tr>\n",
              "    <tr>\n",
              "      <th>17090</th>\n",
              "      <td>/content/PBC_dataset_normal_DIB/lymphocyte/LY_...</td>\n",
              "      <td>/content/Images_egalisees/lymphocyte/LY_65073.jpg</td>\n",
              "      <td>/content/images_egalisation_adaptative/lymphoc...</td>\n",
              "      <td>/content/fusion/lymphocyte/LY_65073_fusion.png</td>\n",
              "      <td>LY</td>\n",
              "    </tr>\n",
              "    <tr>\n",
              "      <th>17091</th>\n",
              "      <td>/content/PBC_dataset_normal_DIB/lymphocyte/LY_...</td>\n",
              "      <td>/content/Images_egalisees/lymphocyte/LY_554492...</td>\n",
              "      <td>/content/images_egalisation_adaptative/lymphoc...</td>\n",
              "      <td>/content/fusion/lymphocyte/LY_554492_fusion.png</td>\n",
              "      <td>LY</td>\n",
              "    </tr>\n",
              "  </tbody>\n",
              "</table>\n",
              "<p>17092 rows × 5 columns</p>\n",
              "</div>\n",
              "    <div class=\"colab-df-buttons\">\n",
              "\n",
              "  <div class=\"colab-df-container\">\n",
              "    <button class=\"colab-df-convert\" onclick=\"convertToInteractive('df-18e0e017-ae69-4ca5-b2d1-76f77b57217d')\"\n",
              "            title=\"Convert this dataframe to an interactive table.\"\n",
              "            style=\"display:none;\">\n",
              "\n",
              "  <svg xmlns=\"http://www.w3.org/2000/svg\" height=\"24px\" viewBox=\"0 -960 960 960\">\n",
              "    <path d=\"M120-120v-720h720v720H120Zm60-500h600v-160H180v160Zm220 220h160v-160H400v160Zm0 220h160v-160H400v160ZM180-400h160v-160H180v160Zm440 0h160v-160H620v160ZM180-180h160v-160H180v160Zm440 0h160v-160H620v160Z\"/>\n",
              "  </svg>\n",
              "    </button>\n",
              "\n",
              "  <style>\n",
              "    .colab-df-container {\n",
              "      display:flex;\n",
              "      gap: 12px;\n",
              "    }\n",
              "\n",
              "    .colab-df-convert {\n",
              "      background-color: #E8F0FE;\n",
              "      border: none;\n",
              "      border-radius: 50%;\n",
              "      cursor: pointer;\n",
              "      display: none;\n",
              "      fill: #1967D2;\n",
              "      height: 32px;\n",
              "      padding: 0 0 0 0;\n",
              "      width: 32px;\n",
              "    }\n",
              "\n",
              "    .colab-df-convert:hover {\n",
              "      background-color: #E2EBFA;\n",
              "      box-shadow: 0px 1px 2px rgba(60, 64, 67, 0.3), 0px 1px 3px 1px rgba(60, 64, 67, 0.15);\n",
              "      fill: #174EA6;\n",
              "    }\n",
              "\n",
              "    .colab-df-buttons div {\n",
              "      margin-bottom: 4px;\n",
              "    }\n",
              "\n",
              "    [theme=dark] .colab-df-convert {\n",
              "      background-color: #3B4455;\n",
              "      fill: #D2E3FC;\n",
              "    }\n",
              "\n",
              "    [theme=dark] .colab-df-convert:hover {\n",
              "      background-color: #434B5C;\n",
              "      box-shadow: 0px 1px 3px 1px rgba(0, 0, 0, 0.15);\n",
              "      filter: drop-shadow(0px 1px 2px rgba(0, 0, 0, 0.3));\n",
              "      fill: #FFFFFF;\n",
              "    }\n",
              "  </style>\n",
              "\n",
              "    <script>\n",
              "      const buttonEl =\n",
              "        document.querySelector('#df-18e0e017-ae69-4ca5-b2d1-76f77b57217d button.colab-df-convert');\n",
              "      buttonEl.style.display =\n",
              "        google.colab.kernel.accessAllowed ? 'block' : 'none';\n",
              "\n",
              "      async function convertToInteractive(key) {\n",
              "        const element = document.querySelector('#df-18e0e017-ae69-4ca5-b2d1-76f77b57217d');\n",
              "        const dataTable =\n",
              "          await google.colab.kernel.invokeFunction('convertToInteractive',\n",
              "                                                    [key], {});\n",
              "        if (!dataTable) return;\n",
              "\n",
              "        const docLinkHtml = 'Like what you see? Visit the ' +\n",
              "          '<a target=\"_blank\" href=https://colab.research.google.com/notebooks/data_table.ipynb>data table notebook</a>'\n",
              "          + ' to learn more about interactive tables.';\n",
              "        element.innerHTML = '';\n",
              "        dataTable['output_type'] = 'display_data';\n",
              "        await google.colab.output.renderOutput(dataTable, element);\n",
              "        const docLink = document.createElement('div');\n",
              "        docLink.innerHTML = docLinkHtml;\n",
              "        element.appendChild(docLink);\n",
              "      }\n",
              "    </script>\n",
              "  </div>\n",
              "\n",
              "\n",
              "<div id=\"df-a7b722d9-1fe5-4a09-836f-f8ae7a29d582\">\n",
              "  <button class=\"colab-df-quickchart\" onclick=\"quickchart('df-a7b722d9-1fe5-4a09-836f-f8ae7a29d582')\"\n",
              "            title=\"Suggest charts.\"\n",
              "            style=\"display:none;\">\n",
              "\n",
              "<svg xmlns=\"http://www.w3.org/2000/svg\" height=\"24px\"viewBox=\"0 0 24 24\"\n",
              "     width=\"24px\">\n",
              "    <g>\n",
              "        <path d=\"M19 3H5c-1.1 0-2 .9-2 2v14c0 1.1.9 2 2 2h14c1.1 0 2-.9 2-2V5c0-1.1-.9-2-2-2zM9 17H7v-7h2v7zm4 0h-2V7h2v10zm4 0h-2v-4h2v4z\"/>\n",
              "    </g>\n",
              "</svg>\n",
              "  </button>\n",
              "\n",
              "<style>\n",
              "  .colab-df-quickchart {\n",
              "      --bg-color: #E8F0FE;\n",
              "      --fill-color: #1967D2;\n",
              "      --hover-bg-color: #E2EBFA;\n",
              "      --hover-fill-color: #174EA6;\n",
              "      --disabled-fill-color: #AAA;\n",
              "      --disabled-bg-color: #DDD;\n",
              "  }\n",
              "\n",
              "  [theme=dark] .colab-df-quickchart {\n",
              "      --bg-color: #3B4455;\n",
              "      --fill-color: #D2E3FC;\n",
              "      --hover-bg-color: #434B5C;\n",
              "      --hover-fill-color: #FFFFFF;\n",
              "      --disabled-bg-color: #3B4455;\n",
              "      --disabled-fill-color: #666;\n",
              "  }\n",
              "\n",
              "  .colab-df-quickchart {\n",
              "    background-color: var(--bg-color);\n",
              "    border: none;\n",
              "    border-radius: 50%;\n",
              "    cursor: pointer;\n",
              "    display: none;\n",
              "    fill: var(--fill-color);\n",
              "    height: 32px;\n",
              "    padding: 0;\n",
              "    width: 32px;\n",
              "  }\n",
              "\n",
              "  .colab-df-quickchart:hover {\n",
              "    background-color: var(--hover-bg-color);\n",
              "    box-shadow: 0 1px 2px rgba(60, 64, 67, 0.3), 0 1px 3px 1px rgba(60, 64, 67, 0.15);\n",
              "    fill: var(--button-hover-fill-color);\n",
              "  }\n",
              "\n",
              "  .colab-df-quickchart-complete:disabled,\n",
              "  .colab-df-quickchart-complete:disabled:hover {\n",
              "    background-color: var(--disabled-bg-color);\n",
              "    fill: var(--disabled-fill-color);\n",
              "    box-shadow: none;\n",
              "  }\n",
              "\n",
              "  .colab-df-spinner {\n",
              "    border: 2px solid var(--fill-color);\n",
              "    border-color: transparent;\n",
              "    border-bottom-color: var(--fill-color);\n",
              "    animation:\n",
              "      spin 1s steps(1) infinite;\n",
              "  }\n",
              "\n",
              "  @keyframes spin {\n",
              "    0% {\n",
              "      border-color: transparent;\n",
              "      border-bottom-color: var(--fill-color);\n",
              "      border-left-color: var(--fill-color);\n",
              "    }\n",
              "    20% {\n",
              "      border-color: transparent;\n",
              "      border-left-color: var(--fill-color);\n",
              "      border-top-color: var(--fill-color);\n",
              "    }\n",
              "    30% {\n",
              "      border-color: transparent;\n",
              "      border-left-color: var(--fill-color);\n",
              "      border-top-color: var(--fill-color);\n",
              "      border-right-color: var(--fill-color);\n",
              "    }\n",
              "    40% {\n",
              "      border-color: transparent;\n",
              "      border-right-color: var(--fill-color);\n",
              "      border-top-color: var(--fill-color);\n",
              "    }\n",
              "    60% {\n",
              "      border-color: transparent;\n",
              "      border-right-color: var(--fill-color);\n",
              "    }\n",
              "    80% {\n",
              "      border-color: transparent;\n",
              "      border-right-color: var(--fill-color);\n",
              "      border-bottom-color: var(--fill-color);\n",
              "    }\n",
              "    90% {\n",
              "      border-color: transparent;\n",
              "      border-bottom-color: var(--fill-color);\n",
              "    }\n",
              "  }\n",
              "</style>\n",
              "\n",
              "  <script>\n",
              "    async function quickchart(key) {\n",
              "      const quickchartButtonEl =\n",
              "        document.querySelector('#' + key + ' button');\n",
              "      quickchartButtonEl.disabled = true;  // To prevent multiple clicks.\n",
              "      quickchartButtonEl.classList.add('colab-df-spinner');\n",
              "      try {\n",
              "        const charts = await google.colab.kernel.invokeFunction(\n",
              "            'suggestCharts', [key], {});\n",
              "      } catch (error) {\n",
              "        console.error('Error during call to suggestCharts:', error);\n",
              "      }\n",
              "      quickchartButtonEl.classList.remove('colab-df-spinner');\n",
              "      quickchartButtonEl.classList.add('colab-df-quickchart-complete');\n",
              "    }\n",
              "    (() => {\n",
              "      let quickchartButtonEl =\n",
              "        document.querySelector('#df-a7b722d9-1fe5-4a09-836f-f8ae7a29d582 button');\n",
              "      quickchartButtonEl.style.display =\n",
              "        google.colab.kernel.accessAllowed ? 'block' : 'none';\n",
              "    })();\n",
              "  </script>\n",
              "</div>\n",
              "    </div>\n",
              "  </div>\n"
            ]
          },
          "metadata": {},
          "execution_count": 6
        }
      ]
    },
    {
      "cell_type": "markdown",
      "source": [
        "## **1.2. Séparation du jeu de données**"
      ],
      "metadata": {
        "id": "g6QrhKq9edFo"
      }
    },
    {
      "cell_type": "code",
      "source": [
        "# Diviser le dataframe en ensembles d'entraînement, de validation et de test\n",
        "train_df, test_df = train_test_split(df_fusion, test_size=0.2, random_state=42)\n",
        "train_df, val_df = train_test_split(train_df, test_size=0.2, random_state=42)"
      ],
      "metadata": {
        "id": "LNDN5jUPcMO_"
      },
      "execution_count": null,
      "outputs": []
    },
    {
      "cell_type": "markdown",
      "source": [
        "## **1.3. Définition d'une fonction pour la mise en page des matrices de confusion**"
      ],
      "metadata": {
        "id": "qxK88Rv2jG-u"
      }
    },
    {
      "cell_type": "code",
      "source": [
        "from sklearn.metrics import accuracy_score,classification_report, recall_score,confusion_matrix, roc_auc_score, precision_score, f1_score, roc_curve, auc, ConfusionMatrixDisplay, classification_report\n",
        "\n",
        "#Création d'une Matrice de confusion\n",
        "def plot_matrix(y_true, y_pred, label):\n",
        "  cm = confusion_matrix(y_true.classes, y_pred)\n",
        "  disp = ConfusionMatrixDisplay(confusion_matrix=cm, display_labels=label)\n",
        "  print('Vous retrouverez la matrice de confusion du modèle ci-dessous:')\n",
        "  plt.figure()\n",
        "  disp.plot(cmap=plt.cm.Blues)\n",
        "  plt.show()\n",
        "\n",
        "  print('\\nVous retrouverez le rapport de classification du modèle ci-dessous:\\n')\n",
        "  print(classification_report(y_true.classes, y_pred, target_names=label))"
      ],
      "metadata": {
        "id": "1xC1uLAqf275"
      },
      "execution_count": null,
      "outputs": []
    },
    {
      "cell_type": "markdown",
      "source": [
        "## **1.4. Préparation du dataframe 'resultat_df' qui intègrera les performances des modèles de prédiction testés**"
      ],
      "metadata": {
        "id": "ka66rfvheZVF"
      }
    },
    {
      "cell_type": "code",
      "execution_count": null,
      "metadata": {
        "colab": {
          "base_uri": "https://localhost:8080/",
          "height": 53
        },
        "id": "c4US-gbAfK9j",
        "outputId": "b2b12231-1ed9-4283-d79a-c513b06bcf05"
      },
      "outputs": [
        {
          "output_type": "execute_result",
          "data": {
            "text/plain": [
              "Empty DataFrame\n",
              "Columns: [Model Name, Number of Params, Accuracy, Recall, Precision, F1_score]\n",
              "Index: []"
            ],
            "text/html": [
              "\n",
              "  <div id=\"df-6367630d-c703-4e5f-8a78-48364abe6f25\" class=\"colab-df-container\">\n",
              "    <div>\n",
              "<style scoped>\n",
              "    .dataframe tbody tr th:only-of-type {\n",
              "        vertical-align: middle;\n",
              "    }\n",
              "\n",
              "    .dataframe tbody tr th {\n",
              "        vertical-align: top;\n",
              "    }\n",
              "\n",
              "    .dataframe thead th {\n",
              "        text-align: right;\n",
              "    }\n",
              "</style>\n",
              "<table border=\"1\" class=\"dataframe\">\n",
              "  <thead>\n",
              "    <tr style=\"text-align: right;\">\n",
              "      <th></th>\n",
              "      <th>Model Name</th>\n",
              "      <th>Number of Params</th>\n",
              "      <th>Accuracy</th>\n",
              "      <th>Recall</th>\n",
              "      <th>Precision</th>\n",
              "      <th>F1_score</th>\n",
              "    </tr>\n",
              "  </thead>\n",
              "  <tbody>\n",
              "  </tbody>\n",
              "</table>\n",
              "</div>\n",
              "    <div class=\"colab-df-buttons\">\n",
              "\n",
              "  <div class=\"colab-df-container\">\n",
              "    <button class=\"colab-df-convert\" onclick=\"convertToInteractive('df-6367630d-c703-4e5f-8a78-48364abe6f25')\"\n",
              "            title=\"Convert this dataframe to an interactive table.\"\n",
              "            style=\"display:none;\">\n",
              "\n",
              "  <svg xmlns=\"http://www.w3.org/2000/svg\" height=\"24px\" viewBox=\"0 -960 960 960\">\n",
              "    <path d=\"M120-120v-720h720v720H120Zm60-500h600v-160H180v160Zm220 220h160v-160H400v160Zm0 220h160v-160H400v160ZM180-400h160v-160H180v160Zm440 0h160v-160H620v160ZM180-180h160v-160H180v160Zm440 0h160v-160H620v160Z\"/>\n",
              "  </svg>\n",
              "    </button>\n",
              "\n",
              "  <style>\n",
              "    .colab-df-container {\n",
              "      display:flex;\n",
              "      gap: 12px;\n",
              "    }\n",
              "\n",
              "    .colab-df-convert {\n",
              "      background-color: #E8F0FE;\n",
              "      border: none;\n",
              "      border-radius: 50%;\n",
              "      cursor: pointer;\n",
              "      display: none;\n",
              "      fill: #1967D2;\n",
              "      height: 32px;\n",
              "      padding: 0 0 0 0;\n",
              "      width: 32px;\n",
              "    }\n",
              "\n",
              "    .colab-df-convert:hover {\n",
              "      background-color: #E2EBFA;\n",
              "      box-shadow: 0px 1px 2px rgba(60, 64, 67, 0.3), 0px 1px 3px 1px rgba(60, 64, 67, 0.15);\n",
              "      fill: #174EA6;\n",
              "    }\n",
              "\n",
              "    .colab-df-buttons div {\n",
              "      margin-bottom: 4px;\n",
              "    }\n",
              "\n",
              "    [theme=dark] .colab-df-convert {\n",
              "      background-color: #3B4455;\n",
              "      fill: #D2E3FC;\n",
              "    }\n",
              "\n",
              "    [theme=dark] .colab-df-convert:hover {\n",
              "      background-color: #434B5C;\n",
              "      box-shadow: 0px 1px 3px 1px rgba(0, 0, 0, 0.15);\n",
              "      filter: drop-shadow(0px 1px 2px rgba(0, 0, 0, 0.3));\n",
              "      fill: #FFFFFF;\n",
              "    }\n",
              "  </style>\n",
              "\n",
              "    <script>\n",
              "      const buttonEl =\n",
              "        document.querySelector('#df-6367630d-c703-4e5f-8a78-48364abe6f25 button.colab-df-convert');\n",
              "      buttonEl.style.display =\n",
              "        google.colab.kernel.accessAllowed ? 'block' : 'none';\n",
              "\n",
              "      async function convertToInteractive(key) {\n",
              "        const element = document.querySelector('#df-6367630d-c703-4e5f-8a78-48364abe6f25');\n",
              "        const dataTable =\n",
              "          await google.colab.kernel.invokeFunction('convertToInteractive',\n",
              "                                                    [key], {});\n",
              "        if (!dataTable) return;\n",
              "\n",
              "        const docLinkHtml = 'Like what you see? Visit the ' +\n",
              "          '<a target=\"_blank\" href=https://colab.research.google.com/notebooks/data_table.ipynb>data table notebook</a>'\n",
              "          + ' to learn more about interactive tables.';\n",
              "        element.innerHTML = '';\n",
              "        dataTable['output_type'] = 'display_data';\n",
              "        await google.colab.output.renderOutput(dataTable, element);\n",
              "        const docLink = document.createElement('div');\n",
              "        docLink.innerHTML = docLinkHtml;\n",
              "        element.appendChild(docLink);\n",
              "      }\n",
              "    </script>\n",
              "  </div>\n",
              "\n",
              "    </div>\n",
              "  </div>\n"
            ]
          },
          "metadata": {},
          "execution_count": 9
        }
      ],
      "source": [
        "columns = ['Model Name','Number of Params','Accuracy','Recall','Precision','F1_score']\n",
        "resultat_df = pd.DataFrame(columns = columns)\n",
        "resultat_df"
      ]
    },
    {
      "cell_type": "markdown",
      "source": [
        "Création d'une fonction permettant d'ajouter les résultats d'un modèle au dataframe 'resultat_df'"
      ],
      "metadata": {
        "id": "FPDoX-sYpUYm"
      }
    },
    {
      "cell_type": "code",
      "execution_count": null,
      "metadata": {
        "id": "oqFizdP3eznh"
      },
      "outputs": [],
      "source": [
        "def ajout_dataframe(nom_model, y_true, y_pred, num_params, dataframe):\n",
        "  accuracy= []\n",
        "  recall =[]\n",
        "  precision = []\n",
        "  f1 = []\n",
        "\n",
        "  model_names = nom_model\n",
        "  accuracy.append(round(accuracy_score(y_true.classes, y_pred),4))\n",
        "  recall.append(round(recall_score(y_true.classes, y_pred, average='macro'),4))\n",
        "  precision.append(round(precision_score(y_true.classes, y_pred, average='macro'),4))\n",
        "  f1.append(round(f1_score(y_true.classes, y_pred, average='macro'),4))\n",
        "\n",
        "  result_model = {'Model Name': model_names,'Number of Params': num_params,'Accuracy':accuracy,'Recall':recall, 'Precision':precision, 'F1_score': f1}\n",
        "  dataframe = dataframe.append(result_model, ignore_index=True)\n",
        "  return dataframe"
      ]
    },
    {
      "cell_type": "markdown",
      "metadata": {
        "id": "gCZ9yXb-qP1Z"
      },
      "source": [
        "# **2. Prédictions des modèles**"
      ]
    },
    {
      "cell_type": "markdown",
      "source": [
        "## **2.1. Modèle Benchmark images brutes**"
      ],
      "metadata": {
        "id": "m-ayEPfutPx0"
      }
    },
    {
      "cell_type": "markdown",
      "source": [
        "### **Chargement des données**"
      ],
      "metadata": {
        "id": "ggvnIDyHev46"
      }
    },
    {
      "cell_type": "code",
      "source": [
        "# image originale\n",
        "!unzip -q 'drive/MyDrive/Datascientest/PBC_dataset_normal_DIB.zip' > /dev/null 2>&1\n",
        "\n",
        "#suppression d'une image corrompue\n",
        "import os\n",
        "\n",
        "os.remove('/content/PBC_dataset_normal_DIB/neutrophil/.DS_169665.jpg')"
      ],
      "metadata": {
        "id": "KusyJEsdskKH"
      },
      "execution_count": null,
      "outputs": []
    },
    {
      "cell_type": "markdown",
      "source": [
        "### **Génération des données d'entrainement et de test**"
      ],
      "metadata": {
        "id": "HFCaW9Ane3bc"
      }
    },
    {
      "cell_type": "code",
      "source": [
        "datagen_train = ImageDataGenerator(rescale = 1./255, validation_split = 0.2)\n",
        "datagen_test = ImageDataGenerator(rescale = 1./255)\n",
        "\n",
        "batch_size = 32\n",
        "height  = 224 # taille adaptée à VGG16\n",
        "width = 224\n",
        "color = 3\n",
        "\n",
        "train_set = datagen_train.flow_from_dataframe(\n",
        "    dataframe = train_df,\n",
        "    directory=None,\n",
        "    x_col='filepath',\n",
        "    y_col='nameLabel',\n",
        "    target_size=(height, width),\n",
        "    color_mode='rgb',\n",
        "    classes=None,\n",
        "    class_mode='categorical',\n",
        "    batch_size=batch_size,\n",
        "    shuffle=True,\n",
        "    subset = \"training\"\n",
        ")\n",
        "\n",
        "validation_set = datagen_train.flow_from_dataframe(\n",
        "    dataframe = train_df,\n",
        "    directory=None,\n",
        "    x_col='filepath',\n",
        "    y_col='nameLabel',\n",
        "    target_size=(height, width),\n",
        "    color_mode='rgb',\n",
        "    classes=None,\n",
        "    class_mode='categorical',\n",
        "    batch_size=batch_size,\n",
        "    shuffle=False,\n",
        "    subset = \"validation\"\n",
        ")\n",
        "\n",
        "test_set = datagen_test.flow_from_dataframe(\n",
        "    dataframe = test_df,\n",
        "    directory=None,\n",
        "    x_col='filepath',\n",
        "    y_col='nameLabel',\n",
        "    target_size=(height, width),\n",
        "    color_mode = 'rgb',\n",
        "    classes = None,   # utilise y_col\n",
        "    class_mode = 'categorical',\n",
        "    batch_size = batch_size,\n",
        "    shuffle = False)\n",
        "\n",
        "\n",
        "\n",
        "nb_img_train = train_set.samples\n",
        "nb_img_val = validation_set.samples\n",
        "nb_img_test = test_set.samples\n",
        "\n",
        "label_map = train_set.class_indices\n",
        "\n",
        "print(\"le dataframe train est composé de {} images appartenant à {} classes\".format(nb_img_train, len(train_set.class_indices)))\n",
        "print(\"le dataframe validation est composé de {} images appartenant à {} classes\".format(nb_img_val, len(validation_set.class_indices)))\n",
        "print(\"le dataframe validation est composé de {} images appartenant à {} classes\".format(nb_img_test, len(test_set.class_indices)))"
      ],
      "metadata": {
        "colab": {
          "base_uri": "https://localhost:8080/"
        },
        "id": "cdo-ualwcgWF",
        "outputId": "1494508b-428d-4c63-d828-62f7d0964826"
      },
      "execution_count": null,
      "outputs": [
        {
          "output_type": "stream",
          "name": "stdout",
          "text": [
            "Found 8751 validated image filenames belonging to 8 classes.\n",
            "Found 2187 validated image filenames belonging to 8 classes.\n",
            "Found 3419 validated image filenames belonging to 8 classes.\n",
            "le dataframe train est composé de 8751 images appartenant à 8 classes\n",
            "le dataframe validation est composé de 2187 images appartenant à 8 classes\n",
            "le dataframe validation est composé de 3419 images appartenant à 8 classes\n"
          ]
        }
      ]
    },
    {
      "cell_type": "markdown",
      "source": [
        "### **Chargement du modèle**"
      ],
      "metadata": {
        "id": "quuasFfbfErX"
      }
    },
    {
      "cell_type": "code",
      "source": [
        "#Chargement du modèle Benchmark images brutes\n",
        "model_benchmark_images_brutes = tf.keras.models.load_model('/content/drive/MyDrive/Datascientest/Blood_Cell_Project/model_benchmark_images_brutes.h5')"
      ],
      "metadata": {
        "id": "3xd--PskZLar"
      },
      "execution_count": null,
      "outputs": []
    },
    {
      "cell_type": "markdown",
      "source": [
        "### **Prédictions sur le jeu test**"
      ],
      "metadata": {
        "id": "C40ClW05fILt"
      }
    },
    {
      "cell_type": "code",
      "execution_count": null,
      "metadata": {
        "colab": {
          "base_uri": "https://localhost:8080/"
        },
        "id": "83V-gZSpX7Xm",
        "outputId": "78d706a5-476a-4bd1-bb29-18bdb833f3a1"
      },
      "outputs": [
        {
          "output_type": "stream",
          "name": "stdout",
          "text": [
            "107/107 [==============================] - 13s 58ms/step\n"
          ]
        }
      ],
      "source": [
        "#Prediction Modele Benchmark images brutes\n",
        "pred_benchmark_images_brutes = model_benchmark_images_brutes.predict(test_set)\n",
        "y_pred_benchmark_images_brutes = tf.argmax(pred_benchmark_images_brutes, axis = 1)"
      ]
    },
    {
      "cell_type": "markdown",
      "source": [
        "### **Matrice de confusion**"
      ],
      "metadata": {
        "id": "Wr50ayM9fUCs"
      }
    },
    {
      "cell_type": "code",
      "source": [
        "plot_matrix(y_true = test_set, y_pred = y_pred_benchmark_images_brutes,label =label_map)"
      ],
      "metadata": {
        "colab": {
          "base_uri": "https://localhost:8080/",
          "height": 796
        },
        "id": "CpkYA_Nof4DF",
        "outputId": "d29ca419-2a0b-4a52-c7f5-e7a1c56d11bb"
      },
      "execution_count": null,
      "outputs": [
        {
          "output_type": "stream",
          "name": "stdout",
          "text": [
            "Vous retrouverez la matrice de confusion du modèle ci-dessous:\n"
          ]
        },
        {
          "output_type": "display_data",
          "data": {
            "text/plain": [
              "<Figure size 640x480 with 0 Axes>"
            ]
          },
          "metadata": {}
        },
        {
          "output_type": "display_data",
          "data": {
            "text/plain": [
              "<Figure size 640x480 with 2 Axes>"
            ],
            "image/png": "[encoded data removed]"
          },
          "metadata": {}
        },
        {
          "output_type": "stream",
          "name": "stdout",
          "text": [
            "\n",
            "Vous retrouverez le rapport de classification du modèle ci-dessous:\n",
            "\n",
            "              precision    recall  f1-score   support\n",
            "\n",
            "          BA       0.96      0.93      0.94       244\n",
            "          EO       0.99      0.98      0.99       646\n",
            "         ERB       0.98      0.92      0.95       325\n",
            "          IG       0.89      0.91      0.90       562\n",
            "          LY       0.95      0.95      0.95       231\n",
            "          MO       0.87      0.91      0.89       292\n",
            "  NEUTROPHIL       0.96      0.97      0.97       658\n",
            "    PLATELET       0.99      1.00      0.99       461\n",
            "\n",
            "    accuracy                           0.95      3419\n",
            "   macro avg       0.95      0.95      0.95      3419\n",
            "weighted avg       0.95      0.95      0.95      3419\n",
            "\n"
          ]
        }
      ]
    },
    {
      "cell_type": "markdown",
      "source": [
        "### **Intégration des résultats au dataframe de synthèse 'resultat_df'**"
      ],
      "metadata": {
        "id": "nfpUXewTfatb"
      }
    },
    {
      "cell_type": "code",
      "execution_count": null,
      "metadata": {
        "colab": {
          "base_uri": "https://localhost:8080/"
        },
        "id": "jCTrJ487e8TG",
        "outputId": "83232f55-192a-4007-8912-c50b7c9e355a"
      },
      "outputs": [
        {
          "output_type": "stream",
          "name": "stderr",
          "text": [
            "<ipython-input-10-d8eadf42cf35>:14: FutureWarning: The frame.append method is deprecated and will be removed from pandas in a future version. Use pandas.concat instead.\n",
            "  dataframe = dataframe.append(result_model, ignore_index=True)\n"
          ]
        }
      ],
      "source": [
        "resultat_df=ajout_dataframe(nom_model = 'model_benchmark_images_brutes', y_true = test_set, y_pred = y_pred_benchmark_images_brutes, num_params = 16613544, dataframe = resultat_df)\n"
      ]
    },
    {
      "cell_type": "markdown",
      "source": [
        "## **2.2. Modèle Benchmark images égalisées**"
      ],
      "metadata": {
        "id": "I3c8KE47uHy_"
      }
    },
    {
      "cell_type": "markdown",
      "source": [
        "### **Chargement des données**"
      ],
      "metadata": {
        "id": "-aZM83D1ga0y"
      }
    },
    {
      "cell_type": "code",
      "source": [
        "# image égalisées\n",
        "!unzip -q 'drive/MyDrive/Datascientest/images_equalized_2208.zip'"
      ],
      "metadata": {
        "id": "3I_9nOTBuRFc"
      },
      "execution_count": null,
      "outputs": []
    },
    {
      "cell_type": "markdown",
      "source": [
        "### **Génération des données d'entrainement et de test**"
      ],
      "metadata": {
        "id": "vya7eNwBgiMc"
      }
    },
    {
      "cell_type": "code",
      "source": [
        "datagen_train = ImageDataGenerator(rescale = 1./255, validation_split = 0.2)\n",
        "datagen_test = ImageDataGenerator(rescale = 1./255)\n",
        "\n",
        "batch_size = 32\n",
        "height  = 224 # taille adaptée à VGG16\n",
        "width = 224\n",
        "color = 3\n",
        "\n",
        "train_set = datagen_train.flow_from_dataframe(\n",
        "    dataframe = train_df,\n",
        "    directory=None,\n",
        "    x_col='egalisation_path',\n",
        "    y_col='nameLabel',\n",
        "    target_size=(height, width),\n",
        "    color_mode='rgb',\n",
        "    classes=None,\n",
        "    class_mode='categorical',\n",
        "    batch_size=batch_size,\n",
        "    shuffle=True,\n",
        "    subset = \"training\"\n",
        ")\n",
        "\n",
        "validation_set = datagen_train.flow_from_dataframe(\n",
        "    dataframe = train_df,\n",
        "    directory=None,\n",
        "    x_col='egalisation_path',\n",
        "    y_col='nameLabel',\n",
        "    target_size=(height, width),\n",
        "    color_mode='rgb',\n",
        "    classes=None,\n",
        "    class_mode='categorical',\n",
        "    batch_size=batch_size,\n",
        "    shuffle=False,\n",
        "    subset = \"validation\"\n",
        ")\n",
        "\n",
        "test_set = datagen_test.flow_from_dataframe(\n",
        "    dataframe = test_df,\n",
        "    directory=None,\n",
        "    x_col='egalisation_path',\n",
        "    y_col='nameLabel',\n",
        "    target_size=(height, width),\n",
        "    color_mode = 'rgb',\n",
        "    classes = None,   # utilise y_col\n",
        "    class_mode = 'categorical',\n",
        "    batch_size = batch_size,\n",
        "    shuffle = False)\n",
        "\n",
        "\n",
        "\n",
        "nb_img_train = train_set.samples\n",
        "nb_img_val = validation_set.samples\n",
        "nb_img_test = test_set.samples\n",
        "\n",
        "label_map = train_set.class_indices\n",
        "\n",
        "print(\"le dataframe train est composé de {} images appartenant à {} classes\".format(nb_img_train, len(train_set.class_indices)))\n",
        "print(\"le dataframe validation est composé de {} images appartenant à {} classes\".format(nb_img_val, len(validation_set.class_indices)))\n",
        "print(\"le dataframe validation est composé de {} images appartenant à {} classes\".format(nb_img_test, len(test_set.class_indices)))"
      ],
      "metadata": {
        "colab": {
          "base_uri": "https://localhost:8080/"
        },
        "id": "XK-HlydTutt2",
        "outputId": "4a1d690d-5034-4d56-b120-ff139558db14"
      },
      "execution_count": null,
      "outputs": [
        {
          "output_type": "stream",
          "name": "stdout",
          "text": [
            "Found 8751 validated image filenames belonging to 8 classes.\n",
            "Found 2187 validated image filenames belonging to 8 classes.\n",
            "Found 3419 validated image filenames belonging to 8 classes.\n",
            "le dataframe train est composé de 8751 images appartenant à 8 classes\n",
            "le dataframe validation est composé de 2187 images appartenant à 8 classes\n",
            "le dataframe validation est composé de 3419 images appartenant à 8 classes\n"
          ]
        }
      ]
    },
    {
      "cell_type": "markdown",
      "source": [
        "### **Chargement du modèle**"
      ],
      "metadata": {
        "id": "j_frS9HPiMcj"
      }
    },
    {
      "cell_type": "code",
      "source": [
        "#Chargement du modèle Benchmark images égalisées\n",
        "model_benchmark_images_egalisees = tf.keras.models.load_model('/content/drive/MyDrive/Datascientest/Blood_Cell_Project/model_benchmark_images_egalisees.h5')"
      ],
      "metadata": {
        "id": "pWeEp_bFZbfo"
      },
      "execution_count": null,
      "outputs": []
    },
    {
      "cell_type": "markdown",
      "source": [
        "### **Prédictions sur le jeu test**"
      ],
      "metadata": {
        "id": "uzYozuCaif5d"
      }
    },
    {
      "cell_type": "code",
      "source": [
        "#Prediction Modele Benchmark images egalisees\n",
        "pred_benchmark_images_egalisees = model_benchmark_images_egalisees.predict(test_set)\n",
        "y_pred_benchmark_images_egalisees = tf.argmax(pred_benchmark_images_egalisees, axis = 1)"
      ],
      "metadata": {
        "colab": {
          "base_uri": "https://localhost:8080/"
        },
        "id": "vA72c786cnuC",
        "outputId": "30c347b8-f8b6-48f3-8eed-1dfe53c1d660"
      },
      "execution_count": null,
      "outputs": [
        {
          "output_type": "stream",
          "name": "stdout",
          "text": [
            "107/107 [==============================] - 5s 46ms/step\n"
          ]
        }
      ]
    },
    {
      "cell_type": "markdown",
      "source": [
        "### **Matrice de confusion**"
      ],
      "metadata": {
        "id": "a_CjhGEUipa-"
      }
    },
    {
      "cell_type": "code",
      "source": [
        "plot_matrix(y_true = test_set, y_pred = y_pred_benchmark_images_egalisees,label =label_map)"
      ],
      "metadata": {
        "colab": {
          "base_uri": "https://localhost:8080/",
          "height": 796
        },
        "id": "kKGXuPXVgmfw",
        "outputId": "49ab1733-5307-48d3-dde5-93296b90da44"
      },
      "execution_count": null,
      "outputs": [
        {
          "output_type": "stream",
          "name": "stdout",
          "text": [
            "Vous retrouverez la matrice de confusion du modèle ci-dessous:\n"
          ]
        },
        {
          "output_type": "display_data",
          "data": {
            "text/plain": [
              "<Figure size 640x480 with 0 Axes>"
            ]
          },
          "metadata": {}
        },
        {
          "output_type": "display_data",
          "data": {
            "text/plain": [
              "<Figure size 640x480 with 2 Axes>"
            ],
            "image/png": "[encoded data removed]"
          },
          "metadata": {}
        },
        {
          "output_type": "stream",
          "name": "stdout",
          "text": [
            "\n",
            "Vous retrouverez le rapport de classification du modèle ci-dessous:\n",
            "\n",
            "              precision    recall  f1-score   support\n",
            "\n",
            "          BA       0.96      0.61      0.75       244\n",
            "          EO       0.97      0.99      0.98       646\n",
            "         ERB       0.96      0.82      0.89       325\n",
            "          IG       0.73      0.94      0.82       562\n",
            "          LY       0.81      0.96      0.88       231\n",
            "          MO       0.93      0.72      0.81       292\n",
            "  NEUTROPHIL       0.98      0.93      0.95       658\n",
            "    PLATELET       0.96      0.98      0.97       461\n",
            "\n",
            "    accuracy                           0.90      3419\n",
            "   macro avg       0.91      0.87      0.88      3419\n",
            "weighted avg       0.92      0.90      0.90      3419\n",
            "\n"
          ]
        }
      ]
    },
    {
      "cell_type": "markdown",
      "source": [
        "### **Intégration des résultats au dataframe de synthèse 'resultat_df'**"
      ],
      "metadata": {
        "id": "aGxOQ9Wvi1Ep"
      }
    },
    {
      "cell_type": "code",
      "source": [
        "resultat_df=ajout_dataframe(nom_model = 'model_benchmark_images_egalisees', y_true = test_set, y_pred = y_pred_benchmark_images_egalisees, num_params = 16613544, dataframe = resultat_df)"
      ],
      "metadata": {
        "colab": {
          "base_uri": "https://localhost:8080/"
        },
        "id": "Vp9haKBagsRm",
        "outputId": "1d00ce51-b2e2-4dcb-ad00-18ef87839c45"
      },
      "execution_count": null,
      "outputs": [
        {
          "output_type": "stream",
          "name": "stderr",
          "text": [
            "<ipython-input-10-d8eadf42cf35>:14: FutureWarning: The frame.append method is deprecated and will be removed from pandas in a future version. Use pandas.concat instead.\n",
            "  dataframe = dataframe.append(result_model, ignore_index=True)\n"
          ]
        }
      ]
    },
    {
      "cell_type": "markdown",
      "source": [
        "## **2.3. Modèle Benchmark images egalisation adaptative**"
      ],
      "metadata": {
        "id": "2mVtjEm7vHH5"
      }
    },
    {
      "cell_type": "markdown",
      "source": [
        "### **Chargement des données**"
      ],
      "metadata": {
        "id": "TNFQxnO4jZm4"
      }
    },
    {
      "cell_type": "code",
      "source": [
        "# image égalisées\n",
        "!unzip -q 'drive/MyDrive/Datascientest/images_egalisation_adaptative_2508.zip'"
      ],
      "metadata": {
        "id": "YXpQOsthvNTD"
      },
      "execution_count": null,
      "outputs": []
    },
    {
      "cell_type": "markdown",
      "source": [
        "### **Génération des données d'entrainement et de test**"
      ],
      "metadata": {
        "id": "Ha9AoDtIjfpF"
      }
    },
    {
      "cell_type": "code",
      "source": [
        "datagen_train = ImageDataGenerator(rescale = 1./255, validation_split = 0.2)\n",
        "datagen_test = ImageDataGenerator(rescale = 1./255)\n",
        "\n",
        "batch_size = 32\n",
        "height  = 224 # taille adaptée à VGG16\n",
        "width = 224\n",
        "color = 3\n",
        "\n",
        "train_set = datagen_train.flow_from_dataframe(\n",
        "    dataframe = train_df,\n",
        "    directory=None,\n",
        "    x_col='egalisation_adaptative_path',\n",
        "    y_col='nameLabel',\n",
        "    target_size=(height, width),\n",
        "    color_mode='rgb',\n",
        "    classes=None,\n",
        "    class_mode='categorical',\n",
        "    batch_size=batch_size,\n",
        "    shuffle=True,\n",
        "    subset = \"training\"\n",
        ")\n",
        "\n",
        "validation_set = datagen_train.flow_from_dataframe(\n",
        "    dataframe = train_df,\n",
        "    directory=None,\n",
        "    x_col='egalisation_adaptative_path',\n",
        "    y_col='nameLabel',\n",
        "    target_size=(height, width),\n",
        "    color_mode='rgb',\n",
        "    classes=None,\n",
        "    class_mode='categorical',\n",
        "    batch_size=batch_size,\n",
        "    shuffle=False,\n",
        "    subset = \"validation\"\n",
        ")\n",
        "\n",
        "test_set = datagen_test.flow_from_dataframe(\n",
        "    dataframe = test_df,\n",
        "    directory=None,\n",
        "    x_col='egalisation_adaptative_path',\n",
        "    y_col='nameLabel',\n",
        "    target_size=(height, width),\n",
        "    color_mode = 'rgb',\n",
        "    classes = None,   # utilise y_col\n",
        "    class_mode = 'categorical',\n",
        "    batch_size = batch_size,\n",
        "    shuffle = False)\n",
        "\n",
        "\n",
        "\n",
        "nb_img_train = train_set.samples\n",
        "nb_img_val = validation_set.samples\n",
        "nb_img_test = test_set.samples\n",
        "\n",
        "label_map = train_set.class_indices\n",
        "\n",
        "print(\"le dataframe train est composé de {} images appartenant à {} classes\".format(nb_img_train, len(train_set.class_indices)))\n",
        "print(\"le dataframe validation est composé de {} images appartenant à {} classes\".format(nb_img_val, len(validation_set.class_indices)))\n",
        "print(\"le dataframe validation est composé de {} images appartenant à {} classes\".format(nb_img_test, len(test_set.class_indices)))"
      ],
      "metadata": {
        "colab": {
          "base_uri": "https://localhost:8080/"
        },
        "id": "14jmVGF-wnMI",
        "outputId": "2bcf6ce6-3a28-485f-dc07-66e727fe89fd"
      },
      "execution_count": null,
      "outputs": [
        {
          "output_type": "stream",
          "name": "stdout",
          "text": [
            "Found 8751 validated image filenames belonging to 8 classes.\n",
            "Found 2187 validated image filenames belonging to 8 classes.\n",
            "Found 3419 validated image filenames belonging to 8 classes.\n",
            "le dataframe train est composé de 8751 images appartenant à 8 classes\n",
            "le dataframe validation est composé de 2187 images appartenant à 8 classes\n",
            "le dataframe validation est composé de 3419 images appartenant à 8 classes\n"
          ]
        }
      ]
    },
    {
      "cell_type": "markdown",
      "source": [
        "### **Chargement du modèle**"
      ],
      "metadata": {
        "id": "0xFLfv8Zjw5u"
      }
    },
    {
      "cell_type": "code",
      "source": [
        "#Chargement du modèle Benchmark images égalisation adaptative\n",
        "model_benchmark_egalisation_adaptative = tf.keras.models.load_model('/content/drive/MyDrive/Datascientest/Blood_Cell_Project/model_benchmark_images_egalisation_adaptative.h5')"
      ],
      "metadata": {
        "id": "VLWqCZhkZlrN"
      },
      "execution_count": null,
      "outputs": []
    },
    {
      "cell_type": "markdown",
      "source": [
        "### **Prédictions sur le jeu test**"
      ],
      "metadata": {
        "id": "Zm5SJpWFj1MG"
      }
    },
    {
      "cell_type": "code",
      "source": [
        "#Prediction Modele Benchmark images egalisation adaptative\n",
        "pred_benchmark_egalisation_adaptative = model_benchmark_egalisation_adaptative.predict(test_set)\n",
        "y_pred_benchmark_egalisation_adaptative = tf.argmax(pred_benchmark_egalisation_adaptative, axis = 1)"
      ],
      "metadata": {
        "colab": {
          "base_uri": "https://localhost:8080/"
        },
        "id": "YxlVcLXac1Rq",
        "outputId": "8a011129-6072-4e19-b3d9-3efb69d1f353"
      },
      "execution_count": null,
      "outputs": [
        {
          "output_type": "stream",
          "name": "stdout",
          "text": [
            "107/107 [==============================] - 6s 56ms/step\n"
          ]
        }
      ]
    },
    {
      "cell_type": "markdown",
      "source": [
        "### **Matrice de confusion**"
      ],
      "metadata": {
        "id": "kjOx41mlj8gz"
      }
    },
    {
      "cell_type": "code",
      "source": [
        "plot_matrix(y_true = test_set, y_pred = y_pred_benchmark_egalisation_adaptative,label =label_map)"
      ],
      "metadata": {
        "colab": {
          "base_uri": "https://localhost:8080/",
          "height": 796
        },
        "id": "Q9P4WS8oi-17",
        "outputId": "abef8e47-6643-4740-8ffb-d61b3ba39849"
      },
      "execution_count": null,
      "outputs": [
        {
          "output_type": "stream",
          "name": "stdout",
          "text": [
            "Vous retrouverez la matrice de confusion du modèle ci-dessous:\n"
          ]
        },
        {
          "output_type": "display_data",
          "data": {
            "text/plain": [
              "<Figure size 640x480 with 0 Axes>"
            ]
          },
          "metadata": {}
        },
        {
          "output_type": "display_data",
          "data": {
            "text/plain": [
              "<Figure size 640x480 with 2 Axes>"
            ],
            "image/png": "[encoded data removed]"
          },
          "metadata": {}
        },
        {
          "output_type": "stream",
          "name": "stdout",
          "text": [
            "\n",
            "Vous retrouverez le rapport de classification du modèle ci-dessous:\n",
            "\n",
            "              precision    recall  f1-score   support\n",
            "\n",
            "          BA       0.87      0.91      0.89       244\n",
            "          EO       0.99      0.99      0.99       646\n",
            "         ERB       0.96      0.87      0.91       325\n",
            "          IG       0.88      0.75      0.81       562\n",
            "          LY       0.92      0.94      0.93       231\n",
            "          MO       0.68      0.96      0.80       292\n",
            "  NEUTROPHIL       0.99      0.93      0.96       658\n",
            "    PLATELET       0.96      0.99      0.97       461\n",
            "\n",
            "    accuracy                           0.92      3419\n",
            "   macro avg       0.91      0.92      0.91      3419\n",
            "weighted avg       0.93      0.92      0.92      3419\n",
            "\n"
          ]
        }
      ]
    },
    {
      "cell_type": "markdown",
      "source": [
        "### **Intégration des résultats au dataframe de synthèse 'resultat_df'**"
      ],
      "metadata": {
        "id": "tYaBv0GgkMMh"
      }
    },
    {
      "cell_type": "code",
      "source": [
        "resultat_df=ajout_dataframe(nom_model = 'model_benchmark_egalisation_adaptative', y_true = test_set, y_pred = y_pred_benchmark_egalisation_adaptative, num_params = 16613544, dataframe = resultat_df)"
      ],
      "metadata": {
        "colab": {
          "base_uri": "https://localhost:8080/"
        },
        "id": "N8ZIfqqzjTSU",
        "outputId": "1198dc54-23d4-454a-97ae-202719117492"
      },
      "execution_count": null,
      "outputs": [
        {
          "output_type": "stream",
          "name": "stderr",
          "text": [
            "<ipython-input-10-d8eadf42cf35>:14: FutureWarning: The frame.append method is deprecated and will be removed from pandas in a future version. Use pandas.concat instead.\n",
            "  dataframe = dataframe.append(result_model, ignore_index=True)\n"
          ]
        }
      ]
    },
    {
      "cell_type": "markdown",
      "source": [
        "## **2.4. Modèle Benchmark images masquées**"
      ],
      "metadata": {
        "id": "F9VuNKtQkccy"
      }
    },
    {
      "cell_type": "markdown",
      "source": [
        "### **Chargement des données**"
      ],
      "metadata": {
        "id": "Vo64AvtTkjny"
      }
    },
    {
      "cell_type": "markdown",
      "source": [
        "Déjà chargée dans la partie 1. pour la création du dataframe df_fusion pour définir les chemins d'accès à l'ensemble des images"
      ],
      "metadata": {
        "id": "QQlfQrB4kthr"
      }
    },
    {
      "cell_type": "markdown",
      "source": [
        "### **Génération des données d'entrainement et de test**"
      ],
      "metadata": {
        "id": "zYfP_S7_lMbg"
      }
    },
    {
      "cell_type": "code",
      "source": [
        "datagen_train = ImageDataGenerator(rescale = 1./255, validation_split = 0.2)\n",
        "datagen_test = ImageDataGenerator(rescale = 1./255)\n",
        "\n",
        "batch_size = 32\n",
        "height  = 224 # taille adaptée à VGG16\n",
        "width = 224\n",
        "color = 3\n",
        "\n",
        "train_set = datagen_train.flow_from_dataframe(\n",
        "    dataframe = train_df,\n",
        "    directory=None,\n",
        "    x_col='fusionpath',\n",
        "    y_col='nameLabel',\n",
        "    target_size=(height, width),\n",
        "    color_mode='rgb',\n",
        "    classes=None,\n",
        "    class_mode='categorical',\n",
        "    batch_size=batch_size,\n",
        "    shuffle=True,\n",
        "    subset = \"training\"\n",
        ")\n",
        "\n",
        "validation_set = datagen_train.flow_from_dataframe(\n",
        "    dataframe = train_df,\n",
        "    directory=None,\n",
        "    x_col='fusionpath',\n",
        "    y_col='nameLabel',\n",
        "    target_size=(height, width),\n",
        "    color_mode='rgb',\n",
        "    classes=None,\n",
        "    class_mode='categorical',\n",
        "    batch_size=batch_size,\n",
        "    shuffle=False,\n",
        "    subset = \"validation\"\n",
        ")\n",
        "\n",
        "test_set = datagen_test.flow_from_dataframe(\n",
        "    dataframe = test_df,\n",
        "    directory=None,\n",
        "    x_col='fusionpath',\n",
        "    y_col='nameLabel',\n",
        "    target_size=(height, width),\n",
        "    color_mode = 'rgb',\n",
        "    classes = None,   # utilise y_col\n",
        "    class_mode = 'categorical',\n",
        "    batch_size = batch_size,\n",
        "    shuffle = False)\n",
        "\n",
        "\n",
        "\n",
        "nb_img_train = train_set.samples\n",
        "nb_img_val = validation_set.samples\n",
        "nb_img_test = test_set.samples\n",
        "\n",
        "label_map = train_set.class_indices\n",
        "\n",
        "print(\"le dataframe train est composé de {} images appartenant à {} classes\".format(nb_img_train, len(train_set.class_indices)))\n",
        "print(\"le dataframe validation est composé de {} images appartenant à {} classes\".format(nb_img_val, len(validation_set.class_indices)))\n",
        "print(\"le dataframe validation est composé de {} images appartenant à {} classes\".format(nb_img_test, len(test_set.class_indices)))"
      ],
      "metadata": {
        "colab": {
          "base_uri": "https://localhost:8080/"
        },
        "id": "4LW-4ZJvlajP",
        "outputId": "4e538abf-d9fa-4b12-faad-66ed8d3aa51d"
      },
      "execution_count": null,
      "outputs": [
        {
          "output_type": "stream",
          "name": "stdout",
          "text": [
            "Found 8751 validated image filenames belonging to 8 classes.\n",
            "Found 2187 validated image filenames belonging to 8 classes.\n",
            "Found 3419 validated image filenames belonging to 8 classes.\n",
            "le dataframe train est composé de 8751 images appartenant à 8 classes\n",
            "le dataframe validation est composé de 2187 images appartenant à 8 classes\n",
            "le dataframe validation est composé de 3419 images appartenant à 8 classes\n"
          ]
        }
      ]
    },
    {
      "cell_type": "markdown",
      "source": [
        "### **Chargement du modèle**"
      ],
      "metadata": {
        "id": "I3ftUnMglsqS"
      }
    },
    {
      "cell_type": "code",
      "source": [
        "#Chargement du modèle Benchmark images masquées\n",
        "model_benchmark_images_masquees = tf.keras.models.load_model('/content/drive/MyDrive/Datascientest/Blood_Cell_Project/model_benchmark_images_masquees.h5')"
      ],
      "metadata": {
        "id": "y4PsF6oZZHy_"
      },
      "execution_count": null,
      "outputs": []
    },
    {
      "cell_type": "markdown",
      "source": [
        "### **Prédictions sur le jeu test**"
      ],
      "metadata": {
        "id": "ZbJENi8gmAtY"
      }
    },
    {
      "cell_type": "code",
      "source": [
        "#Prediction Modele Benchmark images masquees\n",
        "pred_benchmark_images_masquees = model_benchmark_images_masquees.predict(test_set)\n",
        "y_pred_benchmark_images_masquees = tf.argmax(pred_benchmark_images_masquees, axis = 1)"
      ],
      "metadata": {
        "colab": {
          "base_uri": "https://localhost:8080/"
        },
        "id": "Y9C8r3GPtuGi",
        "outputId": "3bd280ca-cfc8-4d30-9eff-f20bcadbf894"
      },
      "execution_count": null,
      "outputs": [
        {
          "output_type": "stream",
          "name": "stdout",
          "text": [
            "107/107 [==============================] - 6s 52ms/step\n"
          ]
        }
      ]
    },
    {
      "cell_type": "markdown",
      "source": [
        "### **Matrice de confusion**"
      ],
      "metadata": {
        "id": "vhvnxk7pmI-M"
      }
    },
    {
      "cell_type": "code",
      "source": [
        "plot_matrix(y_true = test_set, y_pred = y_pred_benchmark_images_masquees,label =label_map)"
      ],
      "metadata": {
        "colab": {
          "base_uri": "https://localhost:8080/",
          "height": 796
        },
        "id": "GHlVB4nWjinl",
        "outputId": "fb5b4275-458e-4199-d7d9-33ecc0cfa845"
      },
      "execution_count": null,
      "outputs": [
        {
          "output_type": "stream",
          "name": "stdout",
          "text": [
            "Vous retrouverez la matrice de confusion du modèle ci-dessous:\n"
          ]
        },
        {
          "output_type": "display_data",
          "data": {
            "text/plain": [
              "<Figure size 640x480 with 0 Axes>"
            ]
          },
          "metadata": {}
        },
        {
          "output_type": "display_data",
          "data": {
            "text/plain": [
              "<Figure size 640x480 with 2 Axes>"
            ],
            "image/png": "[encoded data removed]"
          },
          "metadata": {}
        },
        {
          "output_type": "stream",
          "name": "stdout",
          "text": [
            "\n",
            "Vous retrouverez le rapport de classification du modèle ci-dessous:\n",
            "\n",
            "              precision    recall  f1-score   support\n",
            "\n",
            "          BA       0.79      0.97      0.87       244\n",
            "          EO       1.00      0.98      0.99       646\n",
            "         ERB       0.95      0.92      0.93       325\n",
            "          IG       0.88      0.83      0.85       562\n",
            "          LY       0.95      0.92      0.94       231\n",
            "          MO       0.88      0.86      0.87       292\n",
            "  NEUTROPHIL       0.95      0.97      0.96       658\n",
            "    PLATELET       0.99      0.98      0.99       461\n",
            "\n",
            "    accuracy                           0.93      3419\n",
            "   macro avg       0.92      0.93      0.92      3419\n",
            "weighted avg       0.93      0.93      0.93      3419\n",
            "\n"
          ]
        }
      ]
    },
    {
      "cell_type": "markdown",
      "source": [
        "### **Intégration des résultats au dataframe de synthèse 'resultat_df'**"
      ],
      "metadata": {
        "id": "QX5_1N1CmSN_"
      }
    },
    {
      "cell_type": "code",
      "source": [
        "resultat_df=ajout_dataframe(nom_model = 'model_benchmark_images_masquees', y_true = test_set, y_pred = y_pred_benchmark_images_masquees, num_params = 16613544, dataframe = resultat_df)"
      ],
      "metadata": {
        "colab": {
          "base_uri": "https://localhost:8080/"
        },
        "id": "cLyVmrJ3jmUf",
        "outputId": "d36f1b42-66f9-43db-d396-6e87d51f131f"
      },
      "execution_count": null,
      "outputs": [
        {
          "output_type": "stream",
          "name": "stderr",
          "text": [
            "<ipython-input-10-d8eadf42cf35>:14: FutureWarning: The frame.append method is deprecated and will be removed from pandas in a future version. Use pandas.concat instead.\n",
            "  dataframe = dataframe.append(result_model, ignore_index=True)\n"
          ]
        }
      ]
    },
    {
      "cell_type": "markdown",
      "source": [
        "## **2.5. Modèle VGG16 images masquées**"
      ],
      "metadata": {
        "id": "7mHYseEpmgTn"
      }
    },
    {
      "cell_type": "markdown",
      "source": [
        "### **Chargement des données**"
      ],
      "metadata": {
        "id": "8N9dLTTpmmOA"
      }
    },
    {
      "cell_type": "markdown",
      "source": [
        "Déjà chargée dans la partie 1. pour la création du dataframe df_fusion pour définir les chemins d'accès à l'ensemble des images"
      ],
      "metadata": {
        "id": "97CV3S03msSw"
      }
    },
    {
      "cell_type": "markdown",
      "source": [
        "### **Génération des données d'entrainement et de test**"
      ],
      "metadata": {
        "id": "WAG9SrAWmtKK"
      }
    },
    {
      "cell_type": "code",
      "source": [
        "datagen_train = ImageDataGenerator(rescale = 1./255, validation_split = 0.2)\n",
        "datagen_test = ImageDataGenerator(rescale = 1./255)\n",
        "\n",
        "batch_size = 32\n",
        "height  = 224 # taille adaptée à VGG16\n",
        "width = 224\n",
        "color = 3\n",
        "\n",
        "train_set = datagen_train.flow_from_dataframe(\n",
        "    dataframe = train_df,\n",
        "    directory=None,\n",
        "    x_col='fusionpath',\n",
        "    y_col='nameLabel',\n",
        "    target_size=(height, width),\n",
        "    color_mode='rgb',\n",
        "    classes=None,\n",
        "    class_mode='categorical',\n",
        "    batch_size=batch_size,\n",
        "    shuffle=True,\n",
        "    subset = \"training\"\n",
        ")\n",
        "\n",
        "validation_set = datagen_train.flow_from_dataframe(\n",
        "    dataframe = train_df,\n",
        "    directory=None,\n",
        "    x_col='fusionpath',\n",
        "    y_col='nameLabel',\n",
        "    target_size=(height, width),\n",
        "    color_mode='rgb',\n",
        "    classes=None,\n",
        "    class_mode='categorical',\n",
        "    batch_size=batch_size,\n",
        "    shuffle=False,\n",
        "    subset = \"validation\"\n",
        ")\n",
        "\n",
        "test_set = datagen_test.flow_from_dataframe(\n",
        "    dataframe = test_df,\n",
        "    directory=None,\n",
        "    x_col='fusionpath',\n",
        "    y_col='nameLabel',\n",
        "    target_size=(height, width),\n",
        "    color_mode = 'rgb',\n",
        "    classes = None,   # utilise y_col\n",
        "    class_mode = 'categorical',\n",
        "    batch_size = batch_size,\n",
        "    shuffle = False)\n",
        "\n",
        "\n",
        "\n",
        "nb_img_train = train_set.samples\n",
        "nb_img_val = validation_set.samples\n",
        "nb_img_test = test_set.samples\n",
        "\n",
        "label_map = train_set.class_indices\n",
        "\n",
        "print(\"le dataframe train est composé de {} images appartenant à {} classes\".format(nb_img_train, len(train_set.class_indices)))\n",
        "print(\"le dataframe validation est composé de {} images appartenant à {} classes\".format(nb_img_val, len(validation_set.class_indices)))\n",
        "print(\"le dataframe validation est composé de {} images appartenant à {} classes\".format(nb_img_test, len(test_set.class_indices)))"
      ],
      "metadata": {
        "colab": {
          "base_uri": "https://localhost:8080/"
        },
        "id": "kDU5FtSKmzmt",
        "outputId": "b6aeae19-5f09-4714-d1b2-5bde38f109a2"
      },
      "execution_count": null,
      "outputs": [
        {
          "output_type": "stream",
          "name": "stdout",
          "text": [
            "Found 8751 validated image filenames belonging to 8 classes.\n",
            "Found 2187 validated image filenames belonging to 8 classes.\n",
            "Found 3419 validated image filenames belonging to 8 classes.\n",
            "le dataframe train est composé de 8751 images appartenant à 8 classes\n",
            "le dataframe validation est composé de 2187 images appartenant à 8 classes\n",
            "le dataframe validation est composé de 3419 images appartenant à 8 classes\n"
          ]
        }
      ]
    },
    {
      "cell_type": "markdown",
      "source": [
        "### **Chargement du modèle**"
      ],
      "metadata": {
        "id": "zuYBGrQUm4bb"
      }
    },
    {
      "cell_type": "code",
      "source": [
        "#Chargement du modèle VGG16 images masquées\n",
        "model_vgg16_images_masquees = tf.keras.models.load_model('/content/drive/MyDrive/Datascientest/Blood_Cell_Project/model_VGG16_images_masquees.h5')"
      ],
      "metadata": {
        "id": "thwe61A_Zh0c"
      },
      "execution_count": null,
      "outputs": []
    },
    {
      "cell_type": "markdown",
      "source": [
        "### **Prédictions sur le jeu test**"
      ],
      "metadata": {
        "id": "UGwd0OOGm87h"
      }
    },
    {
      "cell_type": "code",
      "source": [
        "#Prediction VGG16\n",
        "pred_vgg16_images_masquees = model_vgg16_images_masquees.predict(test_set)\n",
        "y_pred_vgg16_images_masquees = tf.argmax(pred_vgg16_images_masquees, axis = 1)"
      ],
      "metadata": {
        "colab": {
          "base_uri": "https://localhost:8080/"
        },
        "id": "I1TpNiPW1qoT",
        "outputId": "3dac882a-62ce-4e21-a568-67a84355b14f"
      },
      "execution_count": null,
      "outputs": [
        {
          "output_type": "stream",
          "name": "stdout",
          "text": [
            "107/107 [==============================] - 20s 147ms/step\n"
          ]
        }
      ]
    },
    {
      "cell_type": "markdown",
      "source": [
        "### **Matrice de confusion**"
      ],
      "metadata": {
        "id": "myb08Y9unPIM"
      }
    },
    {
      "cell_type": "code",
      "source": [
        "plot_matrix(y_true = test_set, y_pred = y_pred_vgg16_images_masquees,label =label_map)"
      ],
      "metadata": {
        "colab": {
          "base_uri": "https://localhost:8080/",
          "height": 796
        },
        "id": "dZsFH8dpkCDP",
        "outputId": "2b8e088f-288e-44d3-b71c-3030078de70a"
      },
      "execution_count": null,
      "outputs": [
        {
          "output_type": "stream",
          "name": "stdout",
          "text": [
            "Vous retrouverez la matrice de confusion du modèle ci-dessous:\n"
          ]
        },
        {
          "output_type": "display_data",
          "data": {
            "text/plain": [
              "<Figure size 640x480 with 0 Axes>"
            ]
          },
          "metadata": {}
        },
        {
          "output_type": "display_data",
          "data": {
            "text/plain": [
              "<Figure size 640x480 with 2 Axes>"
            ],
            "image/png": "[encoded data removed]"
          },
          "metadata": {}
        },
        {
          "output_type": "stream",
          "name": "stdout",
          "text": [
            "\n",
            "Vous retrouverez le rapport de classification du modèle ci-dessous:\n",
            "\n",
            "              precision    recall  f1-score   support\n",
            "\n",
            "          BA       0.99      0.98      0.99       244\n",
            "          EO       1.00      0.99      1.00       646\n",
            "         ERB       0.99      0.96      0.97       325\n",
            "          IG       0.94      0.98      0.96       562\n",
            "          LY       0.98      0.98      0.98       231\n",
            "          MO       0.99      0.96      0.97       292\n",
            "  NEUTROPHIL       0.99      0.99      0.99       658\n",
            "    PLATELET       1.00      1.00      1.00       461\n",
            "\n",
            "    accuracy                           0.98      3419\n",
            "   macro avg       0.98      0.98      0.98      3419\n",
            "weighted avg       0.98      0.98      0.98      3419\n",
            "\n"
          ]
        }
      ]
    },
    {
      "cell_type": "markdown",
      "source": [
        "### **Intégration des résultats au dataframe de synthèse 'resultat_df'**"
      ],
      "metadata": {
        "id": "QJCw1yRAnYcg"
      }
    },
    {
      "cell_type": "code",
      "source": [
        "resultat_df=ajout_dataframe(nom_model = 'model_vgg16_images_masquees', y_true = test_set, y_pred = y_pred_vgg16_images_masquees, num_params = 16613544, dataframe = resultat_df)"
      ],
      "metadata": {
        "colab": {
          "base_uri": "https://localhost:8080/"
        },
        "id": "VVCddUtukHyE",
        "outputId": "64b9d48f-ae89-4aee-fa7a-7474d6f0100f"
      },
      "execution_count": null,
      "outputs": [
        {
          "output_type": "stream",
          "name": "stderr",
          "text": [
            "<ipython-input-10-d8eadf42cf35>:14: FutureWarning: The frame.append method is deprecated and will be removed from pandas in a future version. Use pandas.concat instead.\n",
            "  dataframe = dataframe.append(result_model, ignore_index=True)\n"
          ]
        }
      ]
    },
    {
      "cell_type": "markdown",
      "source": [
        "## **2.6. Modèle VGG16 images brutes**"
      ],
      "metadata": {
        "id": "SYCG_7Wxq-l8"
      }
    },
    {
      "cell_type": "markdown",
      "source": [
        "### **Chargement des données**"
      ],
      "metadata": {
        "id": "WvspfZa1rEtV"
      }
    },
    {
      "cell_type": "code",
      "source": [
        "# image originale\n",
        "!unzip -q 'drive/MyDrive/Datascientest/PBC_dataset_normal_DIB.zip'\n",
        "\n",
        "#suppression d'une image corrompue\n",
        "import os\n",
        "\n",
        "os.remove('/content/PBC_dataset_normal_DIB/neutrophil/.DS_169665.jpg')"
      ],
      "metadata": {
        "colab": {
          "base_uri": "https://localhost:8080/"
        },
        "id": "wD2iZvEDrKYx",
        "outputId": "d52bd881-4174-4ec1-8592-44d4cac34cbc"
      },
      "execution_count": null,
      "outputs": [
        {
          "output_type": "stream",
          "name": "stdout",
          "text": [
            "replace PBC_dataset_normal_DIB/basophil/BA_689200.jpg? [y]es, [n]o, [A]ll, [N]one, [r]ename: A\n"
          ]
        }
      ]
    },
    {
      "cell_type": "markdown",
      "source": [
        "### **Génération des données d'entrainement et de test**"
      ],
      "metadata": {
        "id": "liEwAxYorRQB"
      }
    },
    {
      "cell_type": "code",
      "source": [
        "datagen_train = ImageDataGenerator(rescale = 1./255, validation_split = 0.2)\n",
        "datagen_test = ImageDataGenerator(rescale = 1./255)\n",
        "\n",
        "batch_size = 32\n",
        "height  = 224 # taille adaptée à VGG16\n",
        "width = 224\n",
        "color = 3\n",
        "\n",
        "train_set = datagen_train.flow_from_dataframe(\n",
        "    dataframe = train_df,\n",
        "    directory=None,\n",
        "    x_col='filepath',\n",
        "    y_col='nameLabel',\n",
        "    target_size=(height, width),\n",
        "    color_mode='rgb',\n",
        "    classes=None,\n",
        "    class_mode='categorical',\n",
        "    batch_size=batch_size,\n",
        "    shuffle=True,\n",
        "    subset = \"training\"\n",
        ")\n",
        "\n",
        "validation_set = datagen_train.flow_from_dataframe(\n",
        "    dataframe = train_df,\n",
        "    directory=None,\n",
        "    x_col='filepath',\n",
        "    y_col='nameLabel',\n",
        "    target_size=(height, width),\n",
        "    color_mode='rgb',\n",
        "    classes=None,\n",
        "    class_mode='categorical',\n",
        "    batch_size=batch_size,\n",
        "    shuffle=False,\n",
        "    subset = \"validation\"\n",
        ")\n",
        "\n",
        "test_set = datagen_test.flow_from_dataframe(\n",
        "    dataframe = test_df,\n",
        "    directory=None,\n",
        "    x_col='filepath',\n",
        "    y_col='nameLabel',\n",
        "    target_size=(height, width),\n",
        "    color_mode = 'rgb',\n",
        "    classes = None,   # utilise y_col\n",
        "    class_mode = 'categorical',\n",
        "    batch_size = batch_size,\n",
        "    shuffle = False)\n",
        "\n",
        "\n",
        "\n",
        "nb_img_train = train_set.samples\n",
        "nb_img_val = validation_set.samples\n",
        "nb_img_test = test_set.samples\n",
        "\n",
        "label_map = train_set.class_indices\n",
        "\n",
        "print(\"le dataframe train est composé de {} images appartenant à {} classes\".format(nb_img_train, len(train_set.class_indices)))\n",
        "print(\"le dataframe validation est composé de {} images appartenant à {} classes\".format(nb_img_val, len(validation_set.class_indices)))\n",
        "print(\"le dataframe validation est composé de {} images appartenant à {} classes\".format(nb_img_test, len(test_set.class_indices)))"
      ],
      "metadata": {
        "colab": {
          "base_uri": "https://localhost:8080/"
        },
        "id": "n_ZjaIPYrXf_",
        "outputId": "dbae6429-e2e3-4423-9394-9d69f3f86dee"
      },
      "execution_count": null,
      "outputs": [
        {
          "output_type": "stream",
          "name": "stdout",
          "text": [
            "Found 8751 validated image filenames belonging to 8 classes.\n",
            "Found 2187 validated image filenames belonging to 8 classes.\n",
            "Found 3419 validated image filenames belonging to 8 classes.\n",
            "le dataframe train est composé de 8751 images appartenant à 8 classes\n",
            "le dataframe validation est composé de 2187 images appartenant à 8 classes\n",
            "le dataframe validation est composé de 3419 images appartenant à 8 classes\n"
          ]
        }
      ]
    },
    {
      "cell_type": "markdown",
      "source": [
        "### **Chargement du modèle**"
      ],
      "metadata": {
        "id": "lllJiDEurWyN"
      }
    },
    {
      "cell_type": "code",
      "source": [
        "#Chargement du modèle VGG16 images masquées\n",
        "model_vgg16_images_brutes = tf.keras.models.load_model('/content/drive/MyDrive/Datascientest/Blood_Cell_Project/model_VGG16_images_brutes.h5')"
      ],
      "metadata": {
        "id": "NDZJIDCDrp1K"
      },
      "execution_count": null,
      "outputs": []
    },
    {
      "cell_type": "markdown",
      "source": [
        "### **Prédictions sur le jeu test**"
      ],
      "metadata": {
        "id": "ppyJvX22r0l-"
      }
    },
    {
      "cell_type": "code",
      "source": [
        "#Prediction Modele Benchmark images masquees\n",
        "pred_vgg16_images_brutes = model_vgg16_images_brutes.predict(test_set)\n",
        "y_pred_vgg16_images_brutes = tf.argmax(pred_vgg16_images_brutes, axis = 1)"
      ],
      "metadata": {
        "colab": {
          "base_uri": "https://localhost:8080/"
        },
        "id": "-xxzG0b3r5wy",
        "outputId": "9ee9da79-023d-42c2-be2f-2edc714977d4"
      },
      "execution_count": null,
      "outputs": [
        {
          "output_type": "stream",
          "name": "stdout",
          "text": [
            "107/107 [==============================] - 13s 122ms/step\n"
          ]
        }
      ]
    },
    {
      "cell_type": "markdown",
      "source": [
        "### **Matrice de confusion**"
      ],
      "metadata": {
        "id": "oGN2E-XBsEWT"
      }
    },
    {
      "cell_type": "code",
      "source": [
        "plot_matrix(y_true = test_set, y_pred = y_pred_vgg16_images_brutes,label =label_map)"
      ],
      "metadata": {
        "colab": {
          "base_uri": "https://localhost:8080/",
          "height": 796
        },
        "id": "-GhRSZ-ysIL_",
        "outputId": "cc41e37c-b21d-4b15-f529-e5f55d033898"
      },
      "execution_count": null,
      "outputs": [
        {
          "output_type": "stream",
          "name": "stdout",
          "text": [
            "Vous retrouverez la matrice de confusion du modèle ci-dessous:\n"
          ]
        },
        {
          "output_type": "display_data",
          "data": {
            "text/plain": [
              "<Figure size 640x480 with 0 Axes>"
            ]
          },
          "metadata": {}
        },
        {
          "output_type": "display_data",
          "data": {
            "text/plain": [
              "<Figure size 640x480 with 2 Axes>"
            ],
            "image/png": "[encoded data removed]"
          },
          "metadata": {}
        },
        {
          "output_type": "stream",
          "name": "stdout",
          "text": [
            "\n",
            "Vous retrouverez le rapport de classification du modèle ci-dessous:\n",
            "\n",
            "              precision    recall  f1-score   support\n",
            "\n",
            "          BA       0.99      0.99      0.99       244\n",
            "          EO       1.00      1.00      1.00       646\n",
            "         ERB       0.99      1.00      0.99       325\n",
            "          IG       0.98      0.98      0.98       562\n",
            "          LY       0.99      0.98      0.99       231\n",
            "          MO       0.99      0.99      0.99       292\n",
            "  NEUTROPHIL       0.99      0.99      0.99       658\n",
            "    PLATELET       1.00      1.00      1.00       461\n",
            "\n",
            "    accuracy                           0.99      3419\n",
            "   macro avg       0.99      0.99      0.99      3419\n",
            "weighted avg       0.99      0.99      0.99      3419\n",
            "\n"
          ]
        }
      ]
    },
    {
      "cell_type": "markdown",
      "source": [
        "### **Intégration des résultats au dataframe de synthès 'resultat_df'**"
      ],
      "metadata": {
        "id": "qmWh-g33sKhf"
      }
    },
    {
      "cell_type": "code",
      "source": [
        "resultat_df=ajout_dataframe(nom_model = 'model_vgg16_images_brutes', y_true = test_set, y_pred = y_pred_vgg16_images_brutes, num_params = 16613544, dataframe = resultat_df)"
      ],
      "metadata": {
        "colab": {
          "base_uri": "https://localhost:8080/"
        },
        "id": "WwrQk23DsX_q",
        "outputId": "406260dd-680c-47ca-adae-7dd4f61dc1f3"
      },
      "execution_count": null,
      "outputs": [
        {
          "output_type": "stream",
          "name": "stderr",
          "text": [
            "<ipython-input-10-d8eadf42cf35>:14: FutureWarning: The frame.append method is deprecated and will be removed from pandas in a future version. Use pandas.concat instead.\n",
            "  dataframe = dataframe.append(result_model, ignore_index=True)\n"
          ]
        }
      ]
    },
    {
      "cell_type": "markdown",
      "source": [
        "# **3. Synthèse des résultats**"
      ],
      "metadata": {
        "id": "dxBvC6yrnmye"
      }
    },
    {
      "cell_type": "code",
      "source": [
        "resultat_df"
      ],
      "metadata": {
        "colab": {
          "base_uri": "https://localhost:8080/",
          "height": 238
        },
        "id": "QoFqae0vkU6L",
        "outputId": "bd99d41b-0aa9-4c66-9b7b-fcda9ab71e4d"
      },
      "execution_count": null,
      "outputs": [
        {
          "output_type": "execute_result",
          "data": {
            "text/plain": [
              "                               Model Name Number of Params  Accuracy  \\\n",
              "0           model_benchmark_images_brutes         16613544  [0.9512]   \n",
              "1        model_benchmark_images_egalisees         16613544  [0.9023]   \n",
              "2  model_benchmark_egalisation_adaptative         16613544  [0.9163]   \n",
              "3         model_benchmark_images_masquees         16613544  [0.9321]   \n",
              "4             model_vgg16_images_masquees         16613544   [0.983]   \n",
              "5               model_VGG16_images_brutes         16613544  [0.9915]   \n",
              "\n",
              "     Recall Precision  F1_score  \n",
              "0  [0.9451]  [0.9487]  [0.9467]  \n",
              "1  [0.8704]  [0.9131]   [0.882]  \n",
              "2  [0.9179]   [0.906]  [0.9078]  \n",
              "3  [0.9281]  [0.9224]  [0.9239]  \n",
              "4  [0.9804]  [0.9845]  [0.9823]  \n",
              "5  [0.9913]  [0.9911]  [0.9912]  "
            ],
            "text/html": [
              "\n",
              "  <div id=\"df-4d696da2-abaf-4abb-b3bd-e32331e328ca\" class=\"colab-df-container\">\n",
              "    <div>\n",
              "<style scoped>\n",
              "    .dataframe tbody tr th:only-of-type {\n",
              "        vertical-align: middle;\n",
              "    }\n",
              "\n",
              "    .dataframe tbody tr th {\n",
              "        vertical-align: top;\n",
              "    }\n",
              "\n",
              "    .dataframe thead th {\n",
              "        text-align: right;\n",
              "    }\n",
              "</style>\n",
              "<table border=\"1\" class=\"dataframe\">\n",
              "  <thead>\n",
              "    <tr style=\"text-align: right;\">\n",
              "      <th></th>\n",
              "      <th>Model Name</th>\n",
              "      <th>Number of Params</th>\n",
              "      <th>Accuracy</th>\n",
              "      <th>Recall</th>\n",
              "      <th>Precision</th>\n",
              "      <th>F1_score</th>\n",
              "    </tr>\n",
              "  </thead>\n",
              "  <tbody>\n",
              "    <tr>\n",
              "      <th>0</th>\n",
              "      <td>model_benchmark_images_brutes</td>\n",
              "      <td>16613544</td>\n",
              "      <td>[0.9512]</td>\n",
              "      <td>[0.9451]</td>\n",
              "      <td>[0.9487]</td>\n",
              "      <td>[0.9467]</td>\n",
              "    </tr>\n",
              "    <tr>\n",
              "      <th>1</th>\n",
              "      <td>model_benchmark_images_egalisees</td>\n",
              "      <td>16613544</td>\n",
              "      <td>[0.9023]</td>\n",
              "      <td>[0.8704]</td>\n",
              "      <td>[0.9131]</td>\n",
              "      <td>[0.882]</td>\n",
              "    </tr>\n",
              "    <tr>\n",
              "      <th>2</th>\n",
              "      <td>model_benchmark_egalisation_adaptative</td>\n",
              "      <td>16613544</td>\n",
              "      <td>[0.9163]</td>\n",
              "      <td>[0.9179]</td>\n",
              "      <td>[0.906]</td>\n",
              "      <td>[0.9078]</td>\n",
              "    </tr>\n",
              "    <tr>\n",
              "      <th>3</th>\n",
              "      <td>model_benchmark_images_masquees</td>\n",
              "      <td>16613544</td>\n",
              "      <td>[0.9321]</td>\n",
              "      <td>[0.9281]</td>\n",
              "      <td>[0.9224]</td>\n",
              "      <td>[0.9239]</td>\n",
              "    </tr>\n",
              "    <tr>\n",
              "      <th>4</th>\n",
              "      <td>model_vgg16_images_masquees</td>\n",
              "      <td>16613544</td>\n",
              "      <td>[0.983]</td>\n",
              "      <td>[0.9804]</td>\n",
              "      <td>[0.9845]</td>\n",
              "      <td>[0.9823]</td>\n",
              "    </tr>\n",
              "    <tr>\n",
              "      <th>5</th>\n",
              "      <td>model_VGG16_images_brutes</td>\n",
              "      <td>16613544</td>\n",
              "      <td>[0.9915]</td>\n",
              "      <td>[0.9913]</td>\n",
              "      <td>[0.9911]</td>\n",
              "      <td>[0.9912]</td>\n",
              "    </tr>\n",
              "  </tbody>\n",
              "</table>\n",
              "</div>\n",
              "    <div class=\"colab-df-buttons\">\n",
              "\n",
              "  <div class=\"colab-df-container\">\n",
              "    <button class=\"colab-df-convert\" onclick=\"convertToInteractive('df-4d696da2-abaf-4abb-b3bd-e32331e328ca')\"\n",
              "            title=\"Convert this dataframe to an interactive table.\"\n",
              "            style=\"display:none;\">\n",
              "\n",
              "  <svg xmlns=\"http://www.w3.org/2000/svg\" height=\"24px\" viewBox=\"0 -960 960 960\">\n",
              "    <path d=\"M120-120v-720h720v720H120Zm60-500h600v-160H180v160Zm220 220h160v-160H400v160Zm0 220h160v-160H400v160ZM180-400h160v-160H180v160Zm440 0h160v-160H620v160ZM180-180h160v-160H180v160Zm440 0h160v-160H620v160Z\"/>\n",
              "  </svg>\n",
              "    </button>\n",
              "\n",
              "  <style>\n",
              "    .colab-df-container {\n",
              "      display:flex;\n",
              "      gap: 12px;\n",
              "    }\n",
              "\n",
              "    .colab-df-convert {\n",
              "      background-color: #E8F0FE;\n",
              "      border: none;\n",
              "      border-radius: 50%;\n",
              "      cursor: pointer;\n",
              "      display: none;\n",
              "      fill: #1967D2;\n",
              "      height: 32px;\n",
              "      padding: 0 0 0 0;\n",
              "      width: 32px;\n",
              "    }\n",
              "\n",
              "    .colab-df-convert:hover {\n",
              "      background-color: #E2EBFA;\n",
              "      box-shadow: 0px 1px 2px rgba(60, 64, 67, 0.3), 0px 1px 3px 1px rgba(60, 64, 67, 0.15);\n",
              "      fill: #174EA6;\n",
              "    }\n",
              "\n",
              "    .colab-df-buttons div {\n",
              "      margin-bottom: 4px;\n",
              "    }\n",
              "\n",
              "    [theme=dark] .colab-df-convert {\n",
              "      background-color: #3B4455;\n",
              "      fill: #D2E3FC;\n",
              "    }\n",
              "\n",
              "    [theme=dark] .colab-df-convert:hover {\n",
              "      background-color: #434B5C;\n",
              "      box-shadow: 0px 1px 3px 1px rgba(0, 0, 0, 0.15);\n",
              "      filter: drop-shadow(0px 1px 2px rgba(0, 0, 0, 0.3));\n",
              "      fill: #FFFFFF;\n",
              "    }\n",
              "  </style>\n",
              "\n",
              "    <script>\n",
              "      const buttonEl =\n",
              "        document.querySelector('#df-4d696da2-abaf-4abb-b3bd-e32331e328ca button.colab-df-convert');\n",
              "      buttonEl.style.display =\n",
              "        google.colab.kernel.accessAllowed ? 'block' : 'none';\n",
              "\n",
              "      async function convertToInteractive(key) {\n",
              "        const element = document.querySelector('#df-4d696da2-abaf-4abb-b3bd-e32331e328ca');\n",
              "        const dataTable =\n",
              "          await google.colab.kernel.invokeFunction('convertToInteractive',\n",
              "                                                    [key], {});\n",
              "        if (!dataTable) return;\n",
              "\n",
              "        const docLinkHtml = 'Like what you see? Visit the ' +\n",
              "          '<a target=\"_blank\" href=https://colab.research.google.com/notebooks/data_table.ipynb>data table notebook</a>'\n",
              "          + ' to learn more about interactive tables.';\n",
              "        element.innerHTML = '';\n",
              "        dataTable['output_type'] = 'display_data';\n",
              "        await google.colab.output.renderOutput(dataTable, element);\n",
              "        const docLink = document.createElement('div');\n",
              "        docLink.innerHTML = docLinkHtml;\n",
              "        element.appendChild(docLink);\n",
              "      }\n",
              "    </script>\n",
              "  </div>\n",
              "\n",
              "\n",
              "<div id=\"df-32d9a87f-71cf-4d4f-95d9-d53f6f052af5\">\n",
              "  <button class=\"colab-df-quickchart\" onclick=\"quickchart('df-32d9a87f-71cf-4d4f-95d9-d53f6f052af5')\"\n",
              "            title=\"Suggest charts.\"\n",
              "            style=\"display:none;\">\n",
              "\n",
              "<svg xmlns=\"http://www.w3.org/2000/svg\" height=\"24px\"viewBox=\"0 0 24 24\"\n",
              "     width=\"24px\">\n",
              "    <g>\n",
              "        <path d=\"M19 3H5c-1.1 0-2 .9-2 2v14c0 1.1.9 2 2 2h14c1.1 0 2-.9 2-2V5c0-1.1-.9-2-2-2zM9 17H7v-7h2v7zm4 0h-2V7h2v10zm4 0h-2v-4h2v4z\"/>\n",
              "    </g>\n",
              "</svg>\n",
              "  </button>\n",
              "\n",
              "<style>\n",
              "  .colab-df-quickchart {\n",
              "      --bg-color: #E8F0FE;\n",
              "      --fill-color: #1967D2;\n",
              "      --hover-bg-color: #E2EBFA;\n",
              "      --hover-fill-color: #174EA6;\n",
              "      --disabled-fill-color: #AAA;\n",
              "      --disabled-bg-color: #DDD;\n",
              "  }\n",
              "\n",
              "  [theme=dark] .colab-df-quickchart {\n",
              "      --bg-color: #3B4455;\n",
              "      --fill-color: #D2E3FC;\n",
              "      --hover-bg-color: #434B5C;\n",
              "      --hover-fill-color: #FFFFFF;\n",
              "      --disabled-bg-color: #3B4455;\n",
              "      --disabled-fill-color: #666;\n",
              "  }\n",
              "\n",
              "  .colab-df-quickchart {\n",
              "    background-color: var(--bg-color);\n",
              "    border: none;\n",
              "    border-radius: 50%;\n",
              "    cursor: pointer;\n",
              "    display: none;\n",
              "    fill: var(--fill-color);\n",
              "    height: 32px;\n",
              "    padding: 0;\n",
              "    width: 32px;\n",
              "  }\n",
              "\n",
              "  .colab-df-quickchart:hover {\n",
              "    background-color: var(--hover-bg-color);\n",
              "    box-shadow: 0 1px 2px rgba(60, 64, 67, 0.3), 0 1px 3px 1px rgba(60, 64, 67, 0.15);\n",
              "    fill: var(--button-hover-fill-color);\n",
              "  }\n",
              "\n",
              "  .colab-df-quickchart-complete:disabled,\n",
              "  .colab-df-quickchart-complete:disabled:hover {\n",
              "    background-color: var(--disabled-bg-color);\n",
              "    fill: var(--disabled-fill-color);\n",
              "    box-shadow: none;\n",
              "  }\n",
              "\n",
              "  .colab-df-spinner {\n",
              "    border: 2px solid var(--fill-color);\n",
              "    border-color: transparent;\n",
              "    border-bottom-color: var(--fill-color);\n",
              "    animation:\n",
              "      spin 1s steps(1) infinite;\n",
              "  }\n",
              "\n",
              "  @keyframes spin {\n",
              "    0% {\n",
              "      border-color: transparent;\n",
              "      border-bottom-color: var(--fill-color);\n",
              "      border-left-color: var(--fill-color);\n",
              "    }\n",
              "    20% {\n",
              "      border-color: transparent;\n",
              "      border-left-color: var(--fill-color);\n",
              "      border-top-color: var(--fill-color);\n",
              "    }\n",
              "    30% {\n",
              "      border-color: transparent;\n",
              "      border-left-color: var(--fill-color);\n",
              "      border-top-color: var(--fill-color);\n",
              "      border-right-color: var(--fill-color);\n",
              "    }\n",
              "    40% {\n",
              "      border-color: transparent;\n",
              "      border-right-color: var(--fill-color);\n",
              "      border-top-color: var(--fill-color);\n",
              "    }\n",
              "    60% {\n",
              "      border-color: transparent;\n",
              "      border-right-color: var(--fill-color);\n",
              "    }\n",
              "    80% {\n",
              "      border-color: transparent;\n",
              "      border-right-color: var(--fill-color);\n",
              "      border-bottom-color: var(--fill-color);\n",
              "    }\n",
              "    90% {\n",
              "      border-color: transparent;\n",
              "      border-bottom-color: var(--fill-color);\n",
              "    }\n",
              "  }\n",
              "</style>\n",
              "\n",
              "  <script>\n",
              "    async function quickchart(key) {\n",
              "      const quickchartButtonEl =\n",
              "        document.querySelector('#' + key + ' button');\n",
              "      quickchartButtonEl.disabled = true;  // To prevent multiple clicks.\n",
              "      quickchartButtonEl.classList.add('colab-df-spinner');\n",
              "      try {\n",
              "        const charts = await google.colab.kernel.invokeFunction(\n",
              "            'suggestCharts', [key], {});\n",
              "      } catch (error) {\n",
              "        console.error('Error during call to suggestCharts:', error);\n",
              "      }\n",
              "      quickchartButtonEl.classList.remove('colab-df-spinner');\n",
              "      quickchartButtonEl.classList.add('colab-df-quickchart-complete');\n",
              "    }\n",
              "    (() => {\n",
              "      let quickchartButtonEl =\n",
              "        document.querySelector('#df-32d9a87f-71cf-4d4f-95d9-d53f6f052af5 button');\n",
              "      quickchartButtonEl.style.display =\n",
              "        google.colab.kernel.accessAllowed ? 'block' : 'none';\n",
              "    })();\n",
              "  </script>\n",
              "</div>\n",
              "    </div>\n",
              "  </div>\n"
            ]
          },
          "metadata": {},
          "execution_count": 50
        }
      ]
    },
    {
      "cell_type": "code",
      "source": [
        "# Transformer les listes en nombres flottants\n",
        "resultat_df['Accuracy'] = resultat_df['Accuracy'].apply(lambda x: x[0] if isinstance(x, list) and len(x) > 0 else x)\n",
        "resultat_df['Recall'] = resultat_df['Recall'].apply(lambda x: x[0] if isinstance(x, list) and len(x) > 0 else x)\n",
        "resultat_df['Precision'] = resultat_df['Precision'].apply(lambda x: x[0] if isinstance(x, list) and len(x) > 0 else x)\n",
        "resultat_df['F1_score'] = resultat_df['F1_score'].apply(lambda x: x[0] if isinstance(x, list) and len(x) > 0 else x)"
      ],
      "metadata": {
        "id": "huuvVF-FuiyN"
      },
      "execution_count": null,
      "outputs": []
    },
    {
      "cell_type": "code",
      "source": [
        "resultat_df=resultat_df.sort_values(by='F1_score')"
      ],
      "metadata": {
        "id": "OiplZZ4MvCQg"
      },
      "execution_count": null,
      "outputs": []
    },
    {
      "cell_type": "code",
      "source": [
        "resultat_df=resultat_df.drop('Number of Params',axis=1)"
      ],
      "metadata": {
        "id": "KJVN0TIxwxML"
      },
      "execution_count": null,
      "outputs": []
    },
    {
      "cell_type": "code",
      "source": [
        "resultat_df"
      ],
      "metadata": {
        "colab": {
          "base_uri": "https://localhost:8080/",
          "height": 238
        },
        "id": "J6_XTbAc0CZs",
        "outputId": "671157be-de98-49eb-eb3d-049ca791917d"
      },
      "execution_count": null,
      "outputs": [
        {
          "output_type": "execute_result",
          "data": {
            "text/plain": [
              "                               Model Name  Accuracy  Recall  Precision  \\\n",
              "1        model_benchmark_images_egalisees    0.9023  0.8704     0.9131   \n",
              "2  model_benchmark_egalisation_adaptative    0.9163  0.9179     0.9060   \n",
              "3         model_benchmark_images_masquees    0.9321  0.9281     0.9224   \n",
              "0           model_benchmark_images_brutes    0.9512  0.9451     0.9487   \n",
              "4             model_vgg16_images_masquees    0.9830  0.9804     0.9845   \n",
              "5               model_VGG16_images_brutes    0.9915  0.9913     0.9911   \n",
              "\n",
              "   F1_score  \n",
              "1    0.8820  \n",
              "2    0.9078  \n",
              "3    0.9239  \n",
              "0    0.9467  \n",
              "4    0.9823  \n",
              "5    0.9912  "
            ],
            "text/html": [
              "\n",
              "  <div id=\"df-35006b2c-290b-45f2-86fd-0b0fc927aa05\" class=\"colab-df-container\">\n",
              "    <div>\n",
              "<style scoped>\n",
              "    .dataframe tbody tr th:only-of-type {\n",
              "        vertical-align: middle;\n",
              "    }\n",
              "\n",
              "    .dataframe tbody tr th {\n",
              "        vertical-align: top;\n",
              "    }\n",
              "\n",
              "    .dataframe thead th {\n",
              "        text-align: right;\n",
              "    }\n",
              "</style>\n",
              "<table border=\"1\" class=\"dataframe\">\n",
              "  <thead>\n",
              "    <tr style=\"text-align: right;\">\n",
              "      <th></th>\n",
              "      <th>Model Name</th>\n",
              "      <th>Accuracy</th>\n",
              "      <th>Recall</th>\n",
              "      <th>Precision</th>\n",
              "      <th>F1_score</th>\n",
              "    </tr>\n",
              "  </thead>\n",
              "  <tbody>\n",
              "    <tr>\n",
              "      <th>1</th>\n",
              "      <td>model_benchmark_images_egalisees</td>\n",
              "      <td>0.9023</td>\n",
              "      <td>0.8704</td>\n",
              "      <td>0.9131</td>\n",
              "      <td>0.8820</td>\n",
              "    </tr>\n",
              "    <tr>\n",
              "      <th>2</th>\n",
              "      <td>model_benchmark_egalisation_adaptative</td>\n",
              "      <td>0.9163</td>\n",
              "      <td>0.9179</td>\n",
              "      <td>0.9060</td>\n",
              "      <td>0.9078</td>\n",
              "    </tr>\n",
              "    <tr>\n",
              "      <th>3</th>\n",
              "      <td>model_benchmark_images_masquees</td>\n",
              "      <td>0.9321</td>\n",
              "      <td>0.9281</td>\n",
              "      <td>0.9224</td>\n",
              "      <td>0.9239</td>\n",
              "    </tr>\n",
              "    <tr>\n",
              "      <th>0</th>\n",
              "      <td>model_benchmark_images_brutes</td>\n",
              "      <td>0.9512</td>\n",
              "      <td>0.9451</td>\n",
              "      <td>0.9487</td>\n",
              "      <td>0.9467</td>\n",
              "    </tr>\n",
              "    <tr>\n",
              "      <th>4</th>\n",
              "      <td>model_vgg16_images_masquees</td>\n",
              "      <td>0.9830</td>\n",
              "      <td>0.9804</td>\n",
              "      <td>0.9845</td>\n",
              "      <td>0.9823</td>\n",
              "    </tr>\n",
              "    <tr>\n",
              "      <th>5</th>\n",
              "      <td>model_VGG16_images_brutes</td>\n",
              "      <td>0.9915</td>\n",
              "      <td>0.9913</td>\n",
              "      <td>0.9911</td>\n",
              "      <td>0.9912</td>\n",
              "    </tr>\n",
              "  </tbody>\n",
              "</table>\n",
              "</div>\n",
              "    <div class=\"colab-df-buttons\">\n",
              "\n",
              "  <div class=\"colab-df-container\">\n",
              "    <button class=\"colab-df-convert\" onclick=\"convertToInteractive('df-35006b2c-290b-45f2-86fd-0b0fc927aa05')\"\n",
              "            title=\"Convert this dataframe to an interactive table.\"\n",
              "            style=\"display:none;\">\n",
              "\n",
              "  <svg xmlns=\"http://www.w3.org/2000/svg\" height=\"24px\" viewBox=\"0 -960 960 960\">\n",
              "    <path d=\"M120-120v-720h720v720H120Zm60-500h600v-160H180v160Zm220 220h160v-160H400v160Zm0 220h160v-160H400v160ZM180-400h160v-160H180v160Zm440 0h160v-160H620v160ZM180-180h160v-160H180v160Zm440 0h160v-160H620v160Z\"/>\n",
              "  </svg>\n",
              "    </button>\n",
              "\n",
              "  <style>\n",
              "    .colab-df-container {\n",
              "      display:flex;\n",
              "      gap: 12px;\n",
              "    }\n",
              "\n",
              "    .colab-df-convert {\n",
              "      background-color: #E8F0FE;\n",
              "      border: none;\n",
              "      border-radius: 50%;\n",
              "      cursor: pointer;\n",
              "      display: none;\n",
              "      fill: #1967D2;\n",
              "      height: 32px;\n",
              "      padding: 0 0 0 0;\n",
              "      width: 32px;\n",
              "    }\n",
              "\n",
              "    .colab-df-convert:hover {\n",
              "      background-color: #E2EBFA;\n",
              "      box-shadow: 0px 1px 2px rgba(60, 64, 67, 0.3), 0px 1px 3px 1px rgba(60, 64, 67, 0.15);\n",
              "      fill: #174EA6;\n",
              "    }\n",
              "\n",
              "    .colab-df-buttons div {\n",
              "      margin-bottom: 4px;\n",
              "    }\n",
              "\n",
              "    [theme=dark] .colab-df-convert {\n",
              "      background-color: #3B4455;\n",
              "      fill: #D2E3FC;\n",
              "    }\n",
              "\n",
              "    [theme=dark] .colab-df-convert:hover {\n",
              "      background-color: #434B5C;\n",
              "      box-shadow: 0px 1px 3px 1px rgba(0, 0, 0, 0.15);\n",
              "      filter: drop-shadow(0px 1px 2px rgba(0, 0, 0, 0.3));\n",
              "      fill: #FFFFFF;\n",
              "    }\n",
              "  </style>\n",
              "\n",
              "    <script>\n",
              "      const buttonEl =\n",
              "        document.querySelector('#df-35006b2c-290b-45f2-86fd-0b0fc927aa05 button.colab-df-convert');\n",
              "      buttonEl.style.display =\n",
              "        google.colab.kernel.accessAllowed ? 'block' : 'none';\n",
              "\n",
              "      async function convertToInteractive(key) {\n",
              "        const element = document.querySelector('#df-35006b2c-290b-45f2-86fd-0b0fc927aa05');\n",
              "        const dataTable =\n",
              "          await google.colab.kernel.invokeFunction('convertToInteractive',\n",
              "                                                    [key], {});\n",
              "        if (!dataTable) return;\n",
              "\n",
              "        const docLinkHtml = 'Like what you see? Visit the ' +\n",
              "          '<a target=\"_blank\" href=https://colab.research.google.com/notebooks/data_table.ipynb>data table notebook</a>'\n",
              "          + ' to learn more about interactive tables.';\n",
              "        element.innerHTML = '';\n",
              "        dataTable['output_type'] = 'display_data';\n",
              "        await google.colab.output.renderOutput(dataTable, element);\n",
              "        const docLink = document.createElement('div');\n",
              "        docLink.innerHTML = docLinkHtml;\n",
              "        element.appendChild(docLink);\n",
              "      }\n",
              "    </script>\n",
              "  </div>\n",
              "\n",
              "\n",
              "<div id=\"df-11dd15f6-70a3-4e16-b9e9-822d43741ed5\">\n",
              "  <button class=\"colab-df-quickchart\" onclick=\"quickchart('df-11dd15f6-70a3-4e16-b9e9-822d43741ed5')\"\n",
              "            title=\"Suggest charts.\"\n",
              "            style=\"display:none;\">\n",
              "\n",
              "<svg xmlns=\"http://www.w3.org/2000/svg\" height=\"24px\"viewBox=\"0 0 24 24\"\n",
              "     width=\"24px\">\n",
              "    <g>\n",
              "        <path d=\"M19 3H5c-1.1 0-2 .9-2 2v14c0 1.1.9 2 2 2h14c1.1 0 2-.9 2-2V5c0-1.1-.9-2-2-2zM9 17H7v-7h2v7zm4 0h-2V7h2v10zm4 0h-2v-4h2v4z\"/>\n",
              "    </g>\n",
              "</svg>\n",
              "  </button>\n",
              "\n",
              "<style>\n",
              "  .colab-df-quickchart {\n",
              "      --bg-color: #E8F0FE;\n",
              "      --fill-color: #1967D2;\n",
              "      --hover-bg-color: #E2EBFA;\n",
              "      --hover-fill-color: #174EA6;\n",
              "      --disabled-fill-color: #AAA;\n",
              "      --disabled-bg-color: #DDD;\n",
              "  }\n",
              "\n",
              "  [theme=dark] .colab-df-quickchart {\n",
              "      --bg-color: #3B4455;\n",
              "      --fill-color: #D2E3FC;\n",
              "      --hover-bg-color: #434B5C;\n",
              "      --hover-fill-color: #FFFFFF;\n",
              "      --disabled-bg-color: #3B4455;\n",
              "      --disabled-fill-color: #666;\n",
              "  }\n",
              "\n",
              "  .colab-df-quickchart {\n",
              "    background-color: var(--bg-color);\n",
              "    border: none;\n",
              "    border-radius: 50%;\n",
              "    cursor: pointer;\n",
              "    display: none;\n",
              "    fill: var(--fill-color);\n",
              "    height: 32px;\n",
              "    padding: 0;\n",
              "    width: 32px;\n",
              "  }\n",
              "\n",
              "  .colab-df-quickchart:hover {\n",
              "    background-color: var(--hover-bg-color);\n",
              "    box-shadow: 0 1px 2px rgba(60, 64, 67, 0.3), 0 1px 3px 1px rgba(60, 64, 67, 0.15);\n",
              "    fill: var(--button-hover-fill-color);\n",
              "  }\n",
              "\n",
              "  .colab-df-quickchart-complete:disabled,\n",
              "  .colab-df-quickchart-complete:disabled:hover {\n",
              "    background-color: var(--disabled-bg-color);\n",
              "    fill: var(--disabled-fill-color);\n",
              "    box-shadow: none;\n",
              "  }\n",
              "\n",
              "  .colab-df-spinner {\n",
              "    border: 2px solid var(--fill-color);\n",
              "    border-color: transparent;\n",
              "    border-bottom-color: var(--fill-color);\n",
              "    animation:\n",
              "      spin 1s steps(1) infinite;\n",
              "  }\n",
              "\n",
              "  @keyframes spin {\n",
              "    0% {\n",
              "      border-color: transparent;\n",
              "      border-bottom-color: var(--fill-color);\n",
              "      border-left-color: var(--fill-color);\n",
              "    }\n",
              "    20% {\n",
              "      border-color: transparent;\n",
              "      border-left-color: var(--fill-color);\n",
              "      border-top-color: var(--fill-color);\n",
              "    }\n",
              "    30% {\n",
              "      border-color: transparent;\n",
              "      border-left-color: var(--fill-color);\n",
              "      border-top-color: var(--fill-color);\n",
              "      border-right-color: var(--fill-color);\n",
              "    }\n",
              "    40% {\n",
              "      border-color: transparent;\n",
              "      border-right-color: var(--fill-color);\n",
              "      border-top-color: var(--fill-color);\n",
              "    }\n",
              "    60% {\n",
              "      border-color: transparent;\n",
              "      border-right-color: var(--fill-color);\n",
              "    }\n",
              "    80% {\n",
              "      border-color: transparent;\n",
              "      border-right-color: var(--fill-color);\n",
              "      border-bottom-color: var(--fill-color);\n",
              "    }\n",
              "    90% {\n",
              "      border-color: transparent;\n",
              "      border-bottom-color: var(--fill-color);\n",
              "    }\n",
              "  }\n",
              "</style>\n",
              "\n",
              "  <script>\n",
              "    async function quickchart(key) {\n",
              "      const quickchartButtonEl =\n",
              "        document.querySelector('#' + key + ' button');\n",
              "      quickchartButtonEl.disabled = true;  // To prevent multiple clicks.\n",
              "      quickchartButtonEl.classList.add('colab-df-spinner');\n",
              "      try {\n",
              "        const charts = await google.colab.kernel.invokeFunction(\n",
              "            'suggestCharts', [key], {});\n",
              "      } catch (error) {\n",
              "        console.error('Error during call to suggestCharts:', error);\n",
              "      }\n",
              "      quickchartButtonEl.classList.remove('colab-df-spinner');\n",
              "      quickchartButtonEl.classList.add('colab-df-quickchart-complete');\n",
              "    }\n",
              "    (() => {\n",
              "      let quickchartButtonEl =\n",
              "        document.querySelector('#df-11dd15f6-70a3-4e16-b9e9-822d43741ed5 button');\n",
              "      quickchartButtonEl.style.display =\n",
              "        google.colab.kernel.accessAllowed ? 'block' : 'none';\n",
              "    })();\n",
              "  </script>\n",
              "</div>\n",
              "    </div>\n",
              "  </div>\n"
            ]
          },
          "metadata": {},
          "execution_count": 64
        }
      ]
    },
    {
      "cell_type": "code",
      "source": [
        "# Créer un diagramme à barres\n",
        "\n",
        "resultat_df.set_index('Model Name', inplace=True)\n",
        "ax = resultat_df.plot(kind='bar', figsize=(10, 7))\n",
        "\n",
        "# Optionnel : Personnalisation du graphique\n",
        "plt.title('Bar plot of multiple columns')\n",
        "plt.ylabel('Value')\n",
        "plt.xlabel('Model Name')\n",
        "plt.xticks(rotation=90)\n",
        "plt.legend(title='Columns')\n",
        "\n",
        "ax.legend(title='Columns', loc='upper center', bbox_to_anchor=(0.4, 1))\n",
        "ax.set_ylim(0.8,None)\n",
        "# Afficher le graphique\n",
        "plt.tight_layout()\n",
        "plt.show()"
      ],
      "metadata": {
        "colab": {
          "base_uri": "https://localhost:8080/",
          "height": 707
        },
        "id": "o4EwJn3lvKsL",
        "outputId": "39b1441d-c2ee-4431-a925-94d6ec1ad90b"
      },
      "execution_count": null,
      "outputs": [
        {
          "output_type": "display_data",
          "data": {
            "text/plain": [
              "<Figure size 1000x700 with 1 Axes>"
            ],
            "image/png": "[encoded data removed]"
          },
          "metadata": {}
        }
      ]
    }
  ],
  "metadata": {
    "accelerator": "GPU",
    "colab": {
      "collapsed_sections": [
        "m-ayEPfutPx0",
        "I3c8KE47uHy_",
        "2mVtjEm7vHH5",
        "7mHYseEpmgTn"
      ],
      "machine_shape": "hm",
      "provenance": [],
      "include_colab_link": true
    },
    "kernelspec": {
      "display_name": "Python 3",
      "name": "python3"
    },
    "language_info": {
      "codemirror_mode": {
        "name": "ipython",
        "version": 3
      },
      "file_extension": ".py",
      "mimetype": "text/x-python",
      "name": "python",
      "nbconvert_exporter": "python",
      "pygments_lexer": "ipython3",
      "version": "3.10.9"
    }
  },
  "nbformat": 4,
  "nbformat_minor": 0
}