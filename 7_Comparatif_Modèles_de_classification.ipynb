{
  "cells": [
    {
      "cell_type": "markdown",
      "metadata": {
        "id": "view-in-github",
        "colab_type": "text"
      },
      "source": [
        "<a href=\"https://colab.research.google.com/github/arthurnicolas59/BloodCellDec22---DataScientest/blob/Ludo/7_Comparatif_Mod%C3%A8les_de_classification.ipynb\" target=\"_parent\"><img src=\"https://colab.research.google.com/assets/colab-badge.svg\" alt=\"Open In Colab\"/></a>"
      ]
    },
    {
      "cell_type": "markdown",
      "source": [
        "# **Connexion au drive et import des modules**"
      ],
      "metadata": {
        "id": "um4bdFR5axrf"
      }
    },
    {
      "cell_type": "code",
      "source": [
        "import tensorflow as tf\n",
        "if tf.test.gpu_device_name():\n",
        "    print('Default GPU Device:{}'.format(tf.test.gpu_device_name()))\n",
        "else:\n",
        "    print(\"Please change your hardware accelerator\")"
      ],
      "metadata": {
        "colab": {
          "base_uri": "https://localhost:8080/"
        },
        "id": "n8MLHLWMas6V",
        "outputId": "0c913d4e-3961-4ad8-918e-682dc54cca96"
      },
      "execution_count": 1,
      "outputs": [
        {
          "output_type": "stream",
          "name": "stdout",
          "text": [
            "Default GPU Device:/device:GPU:0\n"
          ]
        }
      ]
    },
    {
      "cell_type": "code",
      "source": [
        "from google.colab import drive\n",
        "drive.mount('/content/drive',force_remount=True)"
      ],
      "metadata": {
        "colab": {
          "base_uri": "https://localhost:8080/"
        },
        "id": "QLOG6TJyawCM",
        "outputId": "a1820209-6439-4fdf-cdf1-70eb92f2416a"
      },
      "execution_count": 2,
      "outputs": [
        {
          "output_type": "stream",
          "name": "stdout",
          "text": [
            "Mounted at /content/drive\n"
          ]
        }
      ]
    },
    {
      "cell_type": "code",
      "source": [
        "### Import des modules nécessaires pour l'ensemble du travail\n",
        "\n",
        "import numpy as np\n",
        "import os\n",
        "import glob\n",
        "import cv2\n",
        "from keras import callbacks\n",
        "import pandas as pd\n",
        "import skimage.io as io\n",
        "import skimage.transform as trans\n",
        "import numpy as np\n",
        "import tensorflow as tf\n",
        "import matplotlib.pyplot as plt\n",
        "from sklearn.model_selection import train_test_split\n",
        "from keras.models import *\n",
        "from keras.layers import *\n",
        "from keras.optimizers import *\n",
        "from keras.callbacks import ModelCheckpoint, LearningRateScheduler\n",
        "from keras import backend as keras\n",
        "from keras.applications import VGG16\n",
        "from keras.layers import Multiply, Flatten, Dense, Input\n",
        "from keras.models import Model\n",
        "from keras.layers import BatchNormalization, Dropout\n",
        "from tensorflow.keras.utils import plot_model\n",
        "from tensorflow.keras import layers, models\n",
        "from tensorflow.keras.preprocessing.image import ImageDataGenerator\n",
        "from sklearn.model_selection import train_test_split"
      ],
      "metadata": {
        "id": "bqHXucZLb4Bw"
      },
      "execution_count": 3,
      "outputs": []
    },
    {
      "cell_type": "markdown",
      "source": [
        "# **1. Préparation des données de synthèse**"
      ],
      "metadata": {
        "id": "80WVLyptoPmY"
      }
    },
    {
      "cell_type": "markdown",
      "source": [
        "## **1.1. Construction du dataframe 'df_fusion' présentant les chemins d'accès à l'ensemble des images traitées et non traitées**"
      ],
      "metadata": {
        "id": "Y3pSg7FNohzR"
      }
    },
    {
      "cell_type": "code",
      "source": [
        "# Import\n",
        "!unzip 'drive/MyDrive/Datascientest/Images_masquees_19082023.zip'"
      ],
      "metadata": {
        "id": "3MjOw2X4bzc4"
      },
      "execution_count": null,
      "outputs": []
    },
    {
      "cell_type": "code",
      "source": [
        "# Trouver tous les chemins vers les fichiers qui finissent par .png\n",
        "liste_fusion = glob.glob('/content/fusion/*/*.png')\n",
        "\n",
        "# # Création d'une liste comprenant les chemins d'accès aux images ainsi que le label de chaque image\n",
        "liste_fusion = list(map(lambda x : [\n",
        "    '/content/PBC_dataset_normal_DIB/'+x.split('/')[3]+'/'+ x.split('/')[4].split('_')[0]+'_'+x.split('/')[4].split('_')[1]+'.jpg',\n",
        "    '/content/Images_egalisees/'+x.split('/')[3]+'/'+ x.split('/')[4].split('_')[0]+'_'+x.split('/')[4].split('_')[1]+'.jpg',\n",
        "    '/content/images_egalisation_adaptative/'+x.split('/')[3]+'/'+ x.split('/')[4].split('_')[0]+'_'+x.split('/')[4].split('_')[1]+'.jpg',\n",
        "    x,\n",
        "    x.split('/')[4].split('_')[0]],\n",
        "    liste_fusion))\n",
        "\n",
        "# Créer un DataFrame pandas\n",
        "df_fusion = pd.DataFrame(liste_fusion, columns=['filepath','egalisation_path','egalisation_adaptative_path','fusionpath','nameLabel'])\n",
        "df_fusion=df_fusion.replace(['SNE','BNE'],'NEUTROPHIL')\n",
        "df_fusion=df_fusion.replace(['MY','MMY','PMY'],'IG')\n",
        "df_fusion.sort_values('fusionpath')\n",
        "df_fusion"
      ],
      "metadata": {
        "colab": {
          "base_uri": "https://localhost:8080/",
          "height": 444
        },
        "id": "pCXcoKNtb6_m",
        "outputId": "ad48dcd9-0ccb-485b-9e80-9382f553bd51"
      },
      "execution_count": 21,
      "outputs": [
        {
          "output_type": "execute_result",
          "data": {
            "text/plain": [
              "                                                filepath  \\\n",
              "0      /content/PBC_dataset_normal_DIB/lymphocyte/LY_...   \n",
              "1      /content/PBC_dataset_normal_DIB/lymphocyte/LY_...   \n",
              "2      /content/PBC_dataset_normal_DIB/lymphocyte/LY_...   \n",
              "3      /content/PBC_dataset_normal_DIB/lymphocyte/LY_...   \n",
              "4      /content/PBC_dataset_normal_DIB/lymphocyte/LY_...   \n",
              "...                                                  ...   \n",
              "17087  /content/PBC_dataset_normal_DIB/monocyte/MO_23...   \n",
              "17088  /content/PBC_dataset_normal_DIB/monocyte/MO_40...   \n",
              "17089  /content/PBC_dataset_normal_DIB/monocyte/MO_81...   \n",
              "17090  /content/PBC_dataset_normal_DIB/monocyte/MO_98...   \n",
              "17091  /content/PBC_dataset_normal_DIB/monocyte/MO_78...   \n",
              "\n",
              "                                        egalisation_path  \\\n",
              "0      /content/Images_egalisees/lymphocyte/LY_644595...   \n",
              "1      /content/Images_egalisees/lymphocyte/LY_707113...   \n",
              "2      /content/Images_egalisees/lymphocyte/LY_715395...   \n",
              "3      /content/Images_egalisees/lymphocyte/LY_789385...   \n",
              "4      /content/Images_egalisees/lymphocyte/LY_586473...   \n",
              "...                                                  ...   \n",
              "17087   /content/Images_egalisees/monocyte/MO_237869.jpg   \n",
              "17088   /content/Images_egalisees/monocyte/MO_409354.jpg   \n",
              "17089   /content/Images_egalisees/monocyte/MO_812962.jpg   \n",
              "17090   /content/Images_egalisees/monocyte/MO_985517.jpg   \n",
              "17091   /content/Images_egalisees/monocyte/MO_784579.jpg   \n",
              "\n",
              "                             egalisation_adaptative_path  \\\n",
              "0      /content/images_egalisation_adaptative/lymphoc...   \n",
              "1      /content/images_egalisation_adaptative/lymphoc...   \n",
              "2      /content/images_egalisation_adaptative/lymphoc...   \n",
              "3      /content/images_egalisation_adaptative/lymphoc...   \n",
              "4      /content/images_egalisation_adaptative/lymphoc...   \n",
              "...                                                  ...   \n",
              "17087  /content/images_egalisation_adaptative/monocyt...   \n",
              "17088  /content/images_egalisation_adaptative/monocyt...   \n",
              "17089  /content/images_egalisation_adaptative/monocyt...   \n",
              "17090  /content/images_egalisation_adaptative/monocyt...   \n",
              "17091  /content/images_egalisation_adaptative/monocyt...   \n",
              "\n",
              "                                            fusionpath nameLabel  \n",
              "0      /content/fusion/lymphocyte/LY_644595_fusion.png        LY  \n",
              "1      /content/fusion/lymphocyte/LY_707113_fusion.png        LY  \n",
              "2      /content/fusion/lymphocyte/LY_715395_fusion.png        LY  \n",
              "3      /content/fusion/lymphocyte/LY_789385_fusion.png        LY  \n",
              "4      /content/fusion/lymphocyte/LY_586473_fusion.png        LY  \n",
              "...                                                ...       ...  \n",
              "17087    /content/fusion/monocyte/MO_237869_fusion.png        MO  \n",
              "17088    /content/fusion/monocyte/MO_409354_fusion.png        MO  \n",
              "17089    /content/fusion/monocyte/MO_812962_fusion.png        MO  \n",
              "17090    /content/fusion/monocyte/MO_985517_fusion.png        MO  \n",
              "17091    /content/fusion/monocyte/MO_784579_fusion.png        MO  \n",
              "\n",
              "[17092 rows x 5 columns]"
            ],
            "text/html": [
              "\n",
              "  <div id=\"df-61ad4fa3-b68e-413d-8621-472195869483\" class=\"colab-df-container\">\n",
              "    <div>\n",
              "<style scoped>\n",
              "    .dataframe tbody tr th:only-of-type {\n",
              "        vertical-align: middle;\n",
              "    }\n",
              "\n",
              "    .dataframe tbody tr th {\n",
              "        vertical-align: top;\n",
              "    }\n",
              "\n",
              "    .dataframe thead th {\n",
              "        text-align: right;\n",
              "    }\n",
              "</style>\n",
              "<table border=\"1\" class=\"dataframe\">\n",
              "  <thead>\n",
              "    <tr style=\"text-align: right;\">\n",
              "      <th></th>\n",
              "      <th>filepath</th>\n",
              "      <th>egalisation_path</th>\n",
              "      <th>egalisation_adaptative_path</th>\n",
              "      <th>fusionpath</th>\n",
              "      <th>nameLabel</th>\n",
              "    </tr>\n",
              "  </thead>\n",
              "  <tbody>\n",
              "    <tr>\n",
              "      <th>0</th>\n",
              "      <td>/content/PBC_dataset_normal_DIB/lymphocyte/LY_...</td>\n",
              "      <td>/content/Images_egalisees/lymphocyte/LY_644595...</td>\n",
              "      <td>/content/images_egalisation_adaptative/lymphoc...</td>\n",
              "      <td>/content/fusion/lymphocyte/LY_644595_fusion.png</td>\n",
              "      <td>LY</td>\n",
              "    </tr>\n",
              "    <tr>\n",
              "      <th>1</th>\n",
              "      <td>/content/PBC_dataset_normal_DIB/lymphocyte/LY_...</td>\n",
              "      <td>/content/Images_egalisees/lymphocyte/LY_707113...</td>\n",
              "      <td>/content/images_egalisation_adaptative/lymphoc...</td>\n",
              "      <td>/content/fusion/lymphocyte/LY_707113_fusion.png</td>\n",
              "      <td>LY</td>\n",
              "    </tr>\n",
              "    <tr>\n",
              "      <th>2</th>\n",
              "      <td>/content/PBC_dataset_normal_DIB/lymphocyte/LY_...</td>\n",
              "      <td>/content/Images_egalisees/lymphocyte/LY_715395...</td>\n",
              "      <td>/content/images_egalisation_adaptative/lymphoc...</td>\n",
              "      <td>/content/fusion/lymphocyte/LY_715395_fusion.png</td>\n",
              "      <td>LY</td>\n",
              "    </tr>\n",
              "    <tr>\n",
              "      <th>3</th>\n",
              "      <td>/content/PBC_dataset_normal_DIB/lymphocyte/LY_...</td>\n",
              "      <td>/content/Images_egalisees/lymphocyte/LY_789385...</td>\n",
              "      <td>/content/images_egalisation_adaptative/lymphoc...</td>\n",
              "      <td>/content/fusion/lymphocyte/LY_789385_fusion.png</td>\n",
              "      <td>LY</td>\n",
              "    </tr>\n",
              "    <tr>\n",
              "      <th>4</th>\n",
              "      <td>/content/PBC_dataset_normal_DIB/lymphocyte/LY_...</td>\n",
              "      <td>/content/Images_egalisees/lymphocyte/LY_586473...</td>\n",
              "      <td>/content/images_egalisation_adaptative/lymphoc...</td>\n",
              "      <td>/content/fusion/lymphocyte/LY_586473_fusion.png</td>\n",
              "      <td>LY</td>\n",
              "    </tr>\n",
              "    <tr>\n",
              "      <th>...</th>\n",
              "      <td>...</td>\n",
              "      <td>...</td>\n",
              "      <td>...</td>\n",
              "      <td>...</td>\n",
              "      <td>...</td>\n",
              "    </tr>\n",
              "    <tr>\n",
              "      <th>17087</th>\n",
              "      <td>/content/PBC_dataset_normal_DIB/monocyte/MO_23...</td>\n",
              "      <td>/content/Images_egalisees/monocyte/MO_237869.jpg</td>\n",
              "      <td>/content/images_egalisation_adaptative/monocyt...</td>\n",
              "      <td>/content/fusion/monocyte/MO_237869_fusion.png</td>\n",
              "      <td>MO</td>\n",
              "    </tr>\n",
              "    <tr>\n",
              "      <th>17088</th>\n",
              "      <td>/content/PBC_dataset_normal_DIB/monocyte/MO_40...</td>\n",
              "      <td>/content/Images_egalisees/monocyte/MO_409354.jpg</td>\n",
              "      <td>/content/images_egalisation_adaptative/monocyt...</td>\n",
              "      <td>/content/fusion/monocyte/MO_409354_fusion.png</td>\n",
              "      <td>MO</td>\n",
              "    </tr>\n",
              "    <tr>\n",
              "      <th>17089</th>\n",
              "      <td>/content/PBC_dataset_normal_DIB/monocyte/MO_81...</td>\n",
              "      <td>/content/Images_egalisees/monocyte/MO_812962.jpg</td>\n",
              "      <td>/content/images_egalisation_adaptative/monocyt...</td>\n",
              "      <td>/content/fusion/monocyte/MO_812962_fusion.png</td>\n",
              "      <td>MO</td>\n",
              "    </tr>\n",
              "    <tr>\n",
              "      <th>17090</th>\n",
              "      <td>/content/PBC_dataset_normal_DIB/monocyte/MO_98...</td>\n",
              "      <td>/content/Images_egalisees/monocyte/MO_985517.jpg</td>\n",
              "      <td>/content/images_egalisation_adaptative/monocyt...</td>\n",
              "      <td>/content/fusion/monocyte/MO_985517_fusion.png</td>\n",
              "      <td>MO</td>\n",
              "    </tr>\n",
              "    <tr>\n",
              "      <th>17091</th>\n",
              "      <td>/content/PBC_dataset_normal_DIB/monocyte/MO_78...</td>\n",
              "      <td>/content/Images_egalisees/monocyte/MO_784579.jpg</td>\n",
              "      <td>/content/images_egalisation_adaptative/monocyt...</td>\n",
              "      <td>/content/fusion/monocyte/MO_784579_fusion.png</td>\n",
              "      <td>MO</td>\n",
              "    </tr>\n",
              "  </tbody>\n",
              "</table>\n",
              "<p>17092 rows × 5 columns</p>\n",
              "</div>\n",
              "    <div class=\"colab-df-buttons\">\n",
              "\n",
              "  <div class=\"colab-df-container\">\n",
              "    <button class=\"colab-df-convert\" onclick=\"convertToInteractive('df-61ad4fa3-b68e-413d-8621-472195869483')\"\n",
              "            title=\"Convert this dataframe to an interactive table.\"\n",
              "            style=\"display:none;\">\n",
              "\n",
              "  <svg xmlns=\"http://www.w3.org/2000/svg\" height=\"24px\" viewBox=\"0 -960 960 960\">\n",
              "    <path d=\"M120-120v-720h720v720H120Zm60-500h600v-160H180v160Zm220 220h160v-160H400v160Zm0 220h160v-160H400v160ZM180-400h160v-160H180v160Zm440 0h160v-160H620v160ZM180-180h160v-160H180v160Zm440 0h160v-160H620v160Z\"/>\n",
              "  </svg>\n",
              "    </button>\n",
              "\n",
              "  <style>\n",
              "    .colab-df-container {\n",
              "      display:flex;\n",
              "      gap: 12px;\n",
              "    }\n",
              "\n",
              "    .colab-df-convert {\n",
              "      background-color: #E8F0FE;\n",
              "      border: none;\n",
              "      border-radius: 50%;\n",
              "      cursor: pointer;\n",
              "      display: none;\n",
              "      fill: #1967D2;\n",
              "      height: 32px;\n",
              "      padding: 0 0 0 0;\n",
              "      width: 32px;\n",
              "    }\n",
              "\n",
              "    .colab-df-convert:hover {\n",
              "      background-color: #E2EBFA;\n",
              "      box-shadow: 0px 1px 2px rgba(60, 64, 67, 0.3), 0px 1px 3px 1px rgba(60, 64, 67, 0.15);\n",
              "      fill: #174EA6;\n",
              "    }\n",
              "\n",
              "    .colab-df-buttons div {\n",
              "      margin-bottom: 4px;\n",
              "    }\n",
              "\n",
              "    [theme=dark] .colab-df-convert {\n",
              "      background-color: #3B4455;\n",
              "      fill: #D2E3FC;\n",
              "    }\n",
              "\n",
              "    [theme=dark] .colab-df-convert:hover {\n",
              "      background-color: #434B5C;\n",
              "      box-shadow: 0px 1px 3px 1px rgba(0, 0, 0, 0.15);\n",
              "      filter: drop-shadow(0px 1px 2px rgba(0, 0, 0, 0.3));\n",
              "      fill: #FFFFFF;\n",
              "    }\n",
              "  </style>\n",
              "\n",
              "    <script>\n",
              "      const buttonEl =\n",
              "        document.querySelector('#df-61ad4fa3-b68e-413d-8621-472195869483 button.colab-df-convert');\n",
              "      buttonEl.style.display =\n",
              "        google.colab.kernel.accessAllowed ? 'block' : 'none';\n",
              "\n",
              "      async function convertToInteractive(key) {\n",
              "        const element = document.querySelector('#df-61ad4fa3-b68e-413d-8621-472195869483');\n",
              "        const dataTable =\n",
              "          await google.colab.kernel.invokeFunction('convertToInteractive',\n",
              "                                                    [key], {});\n",
              "        if (!dataTable) return;\n",
              "\n",
              "        const docLinkHtml = 'Like what you see? Visit the ' +\n",
              "          '<a target=\"_blank\" href=https://colab.research.google.com/notebooks/data_table.ipynb>data table notebook</a>'\n",
              "          + ' to learn more about interactive tables.';\n",
              "        element.innerHTML = '';\n",
              "        dataTable['output_type'] = 'display_data';\n",
              "        await google.colab.output.renderOutput(dataTable, element);\n",
              "        const docLink = document.createElement('div');\n",
              "        docLink.innerHTML = docLinkHtml;\n",
              "        element.appendChild(docLink);\n",
              "      }\n",
              "    </script>\n",
              "  </div>\n",
              "\n",
              "\n",
              "<div id=\"df-bd3d0dc1-1301-4903-a03d-22228db1b062\">\n",
              "  <button class=\"colab-df-quickchart\" onclick=\"quickchart('df-bd3d0dc1-1301-4903-a03d-22228db1b062')\"\n",
              "            title=\"Suggest charts.\"\n",
              "            style=\"display:none;\">\n",
              "\n",
              "<svg xmlns=\"http://www.w3.org/2000/svg\" height=\"24px\"viewBox=\"0 0 24 24\"\n",
              "     width=\"24px\">\n",
              "    <g>\n",
              "        <path d=\"M19 3H5c-1.1 0-2 .9-2 2v14c0 1.1.9 2 2 2h14c1.1 0 2-.9 2-2V5c0-1.1-.9-2-2-2zM9 17H7v-7h2v7zm4 0h-2V7h2v10zm4 0h-2v-4h2v4z\"/>\n",
              "    </g>\n",
              "</svg>\n",
              "  </button>\n",
              "\n",
              "<style>\n",
              "  .colab-df-quickchart {\n",
              "      --bg-color: #E8F0FE;\n",
              "      --fill-color: #1967D2;\n",
              "      --hover-bg-color: #E2EBFA;\n",
              "      --hover-fill-color: #174EA6;\n",
              "      --disabled-fill-color: #AAA;\n",
              "      --disabled-bg-color: #DDD;\n",
              "  }\n",
              "\n",
              "  [theme=dark] .colab-df-quickchart {\n",
              "      --bg-color: #3B4455;\n",
              "      --fill-color: #D2E3FC;\n",
              "      --hover-bg-color: #434B5C;\n",
              "      --hover-fill-color: #FFFFFF;\n",
              "      --disabled-bg-color: #3B4455;\n",
              "      --disabled-fill-color: #666;\n",
              "  }\n",
              "\n",
              "  .colab-df-quickchart {\n",
              "    background-color: var(--bg-color);\n",
              "    border: none;\n",
              "    border-radius: 50%;\n",
              "    cursor: pointer;\n",
              "    display: none;\n",
              "    fill: var(--fill-color);\n",
              "    height: 32px;\n",
              "    padding: 0;\n",
              "    width: 32px;\n",
              "  }\n",
              "\n",
              "  .colab-df-quickchart:hover {\n",
              "    background-color: var(--hover-bg-color);\n",
              "    box-shadow: 0 1px 2px rgba(60, 64, 67, 0.3), 0 1px 3px 1px rgba(60, 64, 67, 0.15);\n",
              "    fill: var(--button-hover-fill-color);\n",
              "  }\n",
              "\n",
              "  .colab-df-quickchart-complete:disabled,\n",
              "  .colab-df-quickchart-complete:disabled:hover {\n",
              "    background-color: var(--disabled-bg-color);\n",
              "    fill: var(--disabled-fill-color);\n",
              "    box-shadow: none;\n",
              "  }\n",
              "\n",
              "  .colab-df-spinner {\n",
              "    border: 2px solid var(--fill-color);\n",
              "    border-color: transparent;\n",
              "    border-bottom-color: var(--fill-color);\n",
              "    animation:\n",
              "      spin 1s steps(1) infinite;\n",
              "  }\n",
              "\n",
              "  @keyframes spin {\n",
              "    0% {\n",
              "      border-color: transparent;\n",
              "      border-bottom-color: var(--fill-color);\n",
              "      border-left-color: var(--fill-color);\n",
              "    }\n",
              "    20% {\n",
              "      border-color: transparent;\n",
              "      border-left-color: var(--fill-color);\n",
              "      border-top-color: var(--fill-color);\n",
              "    }\n",
              "    30% {\n",
              "      border-color: transparent;\n",
              "      border-left-color: var(--fill-color);\n",
              "      border-top-color: var(--fill-color);\n",
              "      border-right-color: var(--fill-color);\n",
              "    }\n",
              "    40% {\n",
              "      border-color: transparent;\n",
              "      border-right-color: var(--fill-color);\n",
              "      border-top-color: var(--fill-color);\n",
              "    }\n",
              "    60% {\n",
              "      border-color: transparent;\n",
              "      border-right-color: var(--fill-color);\n",
              "    }\n",
              "    80% {\n",
              "      border-color: transparent;\n",
              "      border-right-color: var(--fill-color);\n",
              "      border-bottom-color: var(--fill-color);\n",
              "    }\n",
              "    90% {\n",
              "      border-color: transparent;\n",
              "      border-bottom-color: var(--fill-color);\n",
              "    }\n",
              "  }\n",
              "</style>\n",
              "\n",
              "  <script>\n",
              "    async function quickchart(key) {\n",
              "      const quickchartButtonEl =\n",
              "        document.querySelector('#' + key + ' button');\n",
              "      quickchartButtonEl.disabled = true;  // To prevent multiple clicks.\n",
              "      quickchartButtonEl.classList.add('colab-df-spinner');\n",
              "      try {\n",
              "        const charts = await google.colab.kernel.invokeFunction(\n",
              "            'suggestCharts', [key], {});\n",
              "      } catch (error) {\n",
              "        console.error('Error during call to suggestCharts:', error);\n",
              "      }\n",
              "      quickchartButtonEl.classList.remove('colab-df-spinner');\n",
              "      quickchartButtonEl.classList.add('colab-df-quickchart-complete');\n",
              "    }\n",
              "    (() => {\n",
              "      let quickchartButtonEl =\n",
              "        document.querySelector('#df-bd3d0dc1-1301-4903-a03d-22228db1b062 button');\n",
              "      quickchartButtonEl.style.display =\n",
              "        google.colab.kernel.accessAllowed ? 'block' : 'none';\n",
              "    })();\n",
              "  </script>\n",
              "</div>\n",
              "    </div>\n",
              "  </div>\n"
            ]
          },
          "metadata": {},
          "execution_count": 21
        }
      ]
    },
    {
      "cell_type": "markdown",
      "source": [
        "## **1.2. Séparation du jeu de données**"
      ],
      "metadata": {
        "id": "g6QrhKq9edFo"
      }
    },
    {
      "cell_type": "code",
      "source": [
        "# Diviser le dataframe en ensembles d'entraînement, de validation et de test\n",
        "train_df, test_df = train_test_split(df_fusion, test_size=0.2, random_state=42)\n",
        "train_df, val_df = train_test_split(train_df, test_size=0.2, random_state=42)"
      ],
      "metadata": {
        "id": "LNDN5jUPcMO_"
      },
      "execution_count": 22,
      "outputs": []
    },
    {
      "cell_type": "markdown",
      "source": [
        "## **1.3. Définition d'une fonction pour la mise en page des matrices de confusion**"
      ],
      "metadata": {
        "id": "qxK88Rv2jG-u"
      }
    },
    {
      "cell_type": "code",
      "source": [
        "from sklearn.metrics import accuracy_score,classification_report, recall_score,confusion_matrix, roc_auc_score, precision_score, f1_score, roc_curve, auc, ConfusionMatrixDisplay, classification_report\n",
        "\n",
        "#Création d'une Matrice de confusion\n",
        "def plot_matrix(y_true, y_pred, label):\n",
        "  cm = confusion_matrix(y_true.classes, y_pred)\n",
        "  disp = ConfusionMatrixDisplay(confusion_matrix=cm, display_labels=label)\n",
        "  print('Vous retrouverez la matrice de confusion du modèle ci-dessous:')\n",
        "  plt.figure()\n",
        "  disp.plot(cmap=plt.cm.Blues)\n",
        "  plt.show()\n",
        "\n",
        "  print('\\nVous retrouverez le rapport de classification du modèle ci-dessous:\\n')\n",
        "  print(classification_report(y_true.classes, y_pred, target_names=label))"
      ],
      "metadata": {
        "id": "1xC1uLAqf275"
      },
      "execution_count": 14,
      "outputs": []
    },
    {
      "cell_type": "markdown",
      "source": [
        "## **1.4. Préparation du dataframe 'resultat_df' qui intègrera les performances des modèles de prédiction testés**"
      ],
      "metadata": {
        "id": "ka66rfvheZVF"
      }
    },
    {
      "cell_type": "code",
      "execution_count": 8,
      "metadata": {
        "colab": {
          "base_uri": "https://localhost:8080/",
          "height": 53
        },
        "id": "c4US-gbAfK9j",
        "outputId": "f4ac2db3-a70f-47cd-dc47-2efefd309651"
      },
      "outputs": [
        {
          "output_type": "execute_result",
          "data": {
            "text/plain": [
              "Empty DataFrame\n",
              "Columns: [Model Name, Number of Params, Accuracy, Recall, Precision, F1_score]\n",
              "Index: []"
            ],
            "text/html": [
              "\n",
              "  <div id=\"df-252ab3fa-d7b1-4f04-8f2e-1bbe95fbb96b\" class=\"colab-df-container\">\n",
              "    <div>\n",
              "<style scoped>\n",
              "    .dataframe tbody tr th:only-of-type {\n",
              "        vertical-align: middle;\n",
              "    }\n",
              "\n",
              "    .dataframe tbody tr th {\n",
              "        vertical-align: top;\n",
              "    }\n",
              "\n",
              "    .dataframe thead th {\n",
              "        text-align: right;\n",
              "    }\n",
              "</style>\n",
              "<table border=\"1\" class=\"dataframe\">\n",
              "  <thead>\n",
              "    <tr style=\"text-align: right;\">\n",
              "      <th></th>\n",
              "      <th>Model Name</th>\n",
              "      <th>Number of Params</th>\n",
              "      <th>Accuracy</th>\n",
              "      <th>Recall</th>\n",
              "      <th>Precision</th>\n",
              "      <th>F1_score</th>\n",
              "    </tr>\n",
              "  </thead>\n",
              "  <tbody>\n",
              "  </tbody>\n",
              "</table>\n",
              "</div>\n",
              "    <div class=\"colab-df-buttons\">\n",
              "\n",
              "  <div class=\"colab-df-container\">\n",
              "    <button class=\"colab-df-convert\" onclick=\"convertToInteractive('df-252ab3fa-d7b1-4f04-8f2e-1bbe95fbb96b')\"\n",
              "            title=\"Convert this dataframe to an interactive table.\"\n",
              "            style=\"display:none;\">\n",
              "\n",
              "  <svg xmlns=\"http://www.w3.org/2000/svg\" height=\"24px\" viewBox=\"0 -960 960 960\">\n",
              "    <path d=\"M120-120v-720h720v720H120Zm60-500h600v-160H180v160Zm220 220h160v-160H400v160Zm0 220h160v-160H400v160ZM180-400h160v-160H180v160Zm440 0h160v-160H620v160ZM180-180h160v-160H180v160Zm440 0h160v-160H620v160Z\"/>\n",
              "  </svg>\n",
              "    </button>\n",
              "\n",
              "  <style>\n",
              "    .colab-df-container {\n",
              "      display:flex;\n",
              "      gap: 12px;\n",
              "    }\n",
              "\n",
              "    .colab-df-convert {\n",
              "      background-color: #E8F0FE;\n",
              "      border: none;\n",
              "      border-radius: 50%;\n",
              "      cursor: pointer;\n",
              "      display: none;\n",
              "      fill: #1967D2;\n",
              "      height: 32px;\n",
              "      padding: 0 0 0 0;\n",
              "      width: 32px;\n",
              "    }\n",
              "\n",
              "    .colab-df-convert:hover {\n",
              "      background-color: #E2EBFA;\n",
              "      box-shadow: 0px 1px 2px rgba(60, 64, 67, 0.3), 0px 1px 3px 1px rgba(60, 64, 67, 0.15);\n",
              "      fill: #174EA6;\n",
              "    }\n",
              "\n",
              "    .colab-df-buttons div {\n",
              "      margin-bottom: 4px;\n",
              "    }\n",
              "\n",
              "    [theme=dark] .colab-df-convert {\n",
              "      background-color: #3B4455;\n",
              "      fill: #D2E3FC;\n",
              "    }\n",
              "\n",
              "    [theme=dark] .colab-df-convert:hover {\n",
              "      background-color: #434B5C;\n",
              "      box-shadow: 0px 1px 3px 1px rgba(0, 0, 0, 0.15);\n",
              "      filter: drop-shadow(0px 1px 2px rgba(0, 0, 0, 0.3));\n",
              "      fill: #FFFFFF;\n",
              "    }\n",
              "  </style>\n",
              "\n",
              "    <script>\n",
              "      const buttonEl =\n",
              "        document.querySelector('#df-252ab3fa-d7b1-4f04-8f2e-1bbe95fbb96b button.colab-df-convert');\n",
              "      buttonEl.style.display =\n",
              "        google.colab.kernel.accessAllowed ? 'block' : 'none';\n",
              "\n",
              "      async function convertToInteractive(key) {\n",
              "        const element = document.querySelector('#df-252ab3fa-d7b1-4f04-8f2e-1bbe95fbb96b');\n",
              "        const dataTable =\n",
              "          await google.colab.kernel.invokeFunction('convertToInteractive',\n",
              "                                                    [key], {});\n",
              "        if (!dataTable) return;\n",
              "\n",
              "        const docLinkHtml = 'Like what you see? Visit the ' +\n",
              "          '<a target=\"_blank\" href=https://colab.research.google.com/notebooks/data_table.ipynb>data table notebook</a>'\n",
              "          + ' to learn more about interactive tables.';\n",
              "        element.innerHTML = '';\n",
              "        dataTable['output_type'] = 'display_data';\n",
              "        await google.colab.output.renderOutput(dataTable, element);\n",
              "        const docLink = document.createElement('div');\n",
              "        docLink.innerHTML = docLinkHtml;\n",
              "        element.appendChild(docLink);\n",
              "      }\n",
              "    </script>\n",
              "  </div>\n",
              "\n",
              "    </div>\n",
              "  </div>\n"
            ]
          },
          "metadata": {},
          "execution_count": 8
        }
      ],
      "source": [
        "columns = ['Model Name','Number of Params','Accuracy','Recall','Precision','F1_score']\n",
        "resultat_df = pd.DataFrame(columns = columns)\n",
        "resultat_df"
      ]
    },
    {
      "cell_type": "markdown",
      "source": [
        "Création d'une fonction permettant d'ajouter les résultats d'un modèle au dataframe 'resultat_df'"
      ],
      "metadata": {
        "id": "FPDoX-sYpUYm"
      }
    },
    {
      "cell_type": "code",
      "execution_count": 9,
      "metadata": {
        "id": "oqFizdP3eznh"
      },
      "outputs": [],
      "source": [
        "def ajout_dataframe(nom_model, y_true, y_pred, num_params, dataframe):\n",
        "  accuracy= []\n",
        "  recall =[]\n",
        "  precision = []\n",
        "  f1 = []\n",
        "\n",
        "  model_names = nom_model\n",
        "  accuracy.append(round(accuracy_score(y_true.classes, y_pred),4))\n",
        "  recall.append(round(recall_score(y_true.classes, y_pred, average='macro'),4))\n",
        "  precision.append(round(precision_score(y_true.classes, y_pred, average='macro'),4))\n",
        "  f1.append(round(f1_score(y_true.classes, y_pred, average='macro'),4))\n",
        "\n",
        "  result_model = {'Model Name': model_names,'Number of Params': num_params,'Accuracy':accuracy,'Recall':recall, 'Precision':precision, 'F1_score': f1}\n",
        "  dataframe = dataframe.append(result_model, ignore_index=True)\n",
        "  return dataframe"
      ]
    },
    {
      "cell_type": "markdown",
      "metadata": {
        "id": "gCZ9yXb-qP1Z"
      },
      "source": [
        "# **2. Prédictions des modèles**"
      ]
    },
    {
      "cell_type": "markdown",
      "source": [
        "## **2.1. Modèle Benchmark images brutes**"
      ],
      "metadata": {
        "id": "m-ayEPfutPx0"
      }
    },
    {
      "cell_type": "markdown",
      "source": [
        "### **Chargement des données**"
      ],
      "metadata": {
        "id": "ggvnIDyHev46"
      }
    },
    {
      "cell_type": "code",
      "source": [
        "# image originale\n",
        "!unzip -q 'drive/MyDrive/Datascientest/PBC_dataset_normal_DIB.zip' > /dev/null 2>&1\n",
        "\n",
        "#suppression d'une image corrompue\n",
        "import os\n",
        "\n",
        "os.remove('/content/PBC_dataset_normal_DIB/neutrophil/.DS_169665.jpg')"
      ],
      "metadata": {
        "id": "KusyJEsdskKH"
      },
      "execution_count": 10,
      "outputs": []
    },
    {
      "cell_type": "markdown",
      "source": [
        "### **Génération des données d'entrainement et de test**"
      ],
      "metadata": {
        "id": "HFCaW9Ane3bc"
      }
    },
    {
      "cell_type": "code",
      "source": [
        "datagen_train = ImageDataGenerator(rescale = 1./255, validation_split = 0.2)\n",
        "datagen_test = ImageDataGenerator(rescale = 1./255)\n",
        "\n",
        "batch_size = 32\n",
        "height  = 224 # taille adaptée à VGG16\n",
        "width = 224\n",
        "color = 3\n",
        "\n",
        "train_set = datagen_train.flow_from_dataframe(\n",
        "    dataframe = train_df,\n",
        "    directory=None,\n",
        "    x_col='filepath',\n",
        "    y_col='nameLabel',\n",
        "    target_size=(height, width),\n",
        "    color_mode='rgb',\n",
        "    classes=None,\n",
        "    class_mode='categorical',\n",
        "    batch_size=batch_size,\n",
        "    shuffle=True,\n",
        "    subset = \"training\"\n",
        ")\n",
        "\n",
        "validation_set = datagen_train.flow_from_dataframe(\n",
        "    dataframe = train_df,\n",
        "    directory=None,\n",
        "    x_col='filepath',\n",
        "    y_col='nameLabel',\n",
        "    target_size=(height, width),\n",
        "    color_mode='rgb',\n",
        "    classes=None,\n",
        "    class_mode='categorical',\n",
        "    batch_size=batch_size,\n",
        "    shuffle=False,\n",
        "    subset = \"validation\"\n",
        ")\n",
        "\n",
        "test_set = datagen_test.flow_from_dataframe(\n",
        "    dataframe = test_df,\n",
        "    directory=None,\n",
        "    x_col='filepath',\n",
        "    y_col='nameLabel',\n",
        "    target_size=(height, width),\n",
        "    color_mode = 'rgb',\n",
        "    classes = None,   # utilise y_col\n",
        "    class_mode = 'categorical',\n",
        "    batch_size = batch_size,\n",
        "    shuffle = False)\n",
        "\n",
        "\n",
        "\n",
        "nb_img_train = train_set.samples\n",
        "nb_img_val = validation_set.samples\n",
        "nb_img_test = test_set.samples\n",
        "\n",
        "label_map = train_set.class_indices\n",
        "\n",
        "print(\"le dataframe train est composé de {} images appartenant à {} classes\".format(nb_img_train, len(train_set.class_indices)))\n",
        "print(\"le dataframe validation est composé de {} images appartenant à {} classes\".format(nb_img_val, len(validation_set.class_indices)))\n",
        "print(\"le dataframe validation est composé de {} images appartenant à {} classes\".format(nb_img_test, len(test_set.class_indices)))"
      ],
      "metadata": {
        "colab": {
          "base_uri": "https://localhost:8080/"
        },
        "id": "cdo-ualwcgWF",
        "outputId": "83840ec4-a157-4a5f-f68a-4f75115e1303"
      },
      "execution_count": 11,
      "outputs": [
        {
          "output_type": "stream",
          "name": "stdout",
          "text": [
            "Found 8751 validated image filenames belonging to 8 classes.\n",
            "Found 2187 validated image filenames belonging to 8 classes.\n",
            "Found 3419 validated image filenames belonging to 8 classes.\n",
            "le dataframe train est composé de 8751 images appartenant à 8 classes\n",
            "le dataframe validation est composé de 2187 images appartenant à 8 classes\n",
            "le dataframe validation est composé de 3419 images appartenant à 8 classes\n"
          ]
        }
      ]
    },
    {
      "cell_type": "markdown",
      "source": [
        "### **Chargement du modèle**"
      ],
      "metadata": {
        "id": "quuasFfbfErX"
      }
    },
    {
      "cell_type": "code",
      "source": [
        "#Chargement du modèle Benchmark images brutes\n",
        "model_benchmark_images_brutes = tf.keras.models.load_model('/content/drive/MyDrive/Datascientest/Blood_Cell_Project/model_benchmark_images_brutes.h5')"
      ],
      "metadata": {
        "id": "3xd--PskZLar"
      },
      "execution_count": 12,
      "outputs": []
    },
    {
      "cell_type": "markdown",
      "source": [
        "### **Prédictions sur le jeu test**"
      ],
      "metadata": {
        "id": "C40ClW05fILt"
      }
    },
    {
      "cell_type": "code",
      "execution_count": 13,
      "metadata": {
        "colab": {
          "base_uri": "https://localhost:8080/"
        },
        "id": "83V-gZSpX7Xm",
        "outputId": "d0834491-3d96-449d-e53d-4bcfa3febb3d"
      },
      "outputs": [
        {
          "output_type": "stream",
          "name": "stdout",
          "text": [
            "107/107 [==============================] - 13s 57ms/step\n"
          ]
        }
      ],
      "source": [
        "#Prediction Modele Benchmark images brutes\n",
        "pred_benchmark_images_brutes = model_benchmark_images_brutes.predict(test_set)\n",
        "y_pred_benchmark_images_brutes = tf.argmax(pred_benchmark_images_brutes, axis = 1)"
      ]
    },
    {
      "cell_type": "markdown",
      "source": [
        "### **Matrice de confusion**"
      ],
      "metadata": {
        "id": "Wr50ayM9fUCs"
      }
    },
    {
      "cell_type": "code",
      "source": [
        "plot_matrix(y_true = test_set, y_pred = y_pred_benchmark_images_brutes,label =label_map)"
      ],
      "metadata": {
        "colab": {
          "base_uri": "https://localhost:8080/",
          "height": 796
        },
        "id": "CpkYA_Nof4DF",
        "outputId": "2d038c9b-6e30-4011-bcc7-802c6552b715"
      },
      "execution_count": 15,
      "outputs": [
        {
          "output_type": "stream",
          "name": "stdout",
          "text": [
            "Vous retrouverez la matrice de confusion du modèle ci-dessous:\n"
          ]
        },
        {
          "output_type": "display_data",
          "data": {
            "text/plain": [
              "<Figure size 640x480 with 0 Axes>"
            ]
          },
          "metadata": {}
        },
        {
          "output_type": "display_data",
          "data": {
            "text/plain": [
              "<Figure size 640x480 with 2 Axes>"
            ],
            "image/png": "[encoded data removed]"
          },
          "metadata": {}
        },
        {
          "output_type": "stream",
          "name": "stdout",
          "text": [
            "\n",
            "Vous retrouverez le rapport de classification du modèle ci-dessous:\n",
            "\n",
            "              precision    recall  f1-score   support\n",
            "\n",
            "          BA       0.94      0.91      0.93       223\n",
            "          EO       0.99      0.99      0.99       632\n",
            "         ERB       0.97      0.92      0.94       309\n",
            "          IG       0.91      0.87      0.89       600\n",
            "          LY       0.94      0.95      0.95       236\n",
            "          MO       0.83      0.95      0.89       272\n",
            "  NEUTROPHIL       0.96      0.97      0.97       661\n",
            "    PLATELET       1.00      1.00      1.00       486\n",
            "\n",
            "    accuracy                           0.95      3419\n",
            "   macro avg       0.94      0.95      0.94      3419\n",
            "weighted avg       0.95      0.95      0.95      3419\n",
            "\n"
          ]
        }
      ]
    },
    {
      "cell_type": "markdown",
      "source": [
        "### **Intégration des résultats au dataframe de synthèse 'resultat_df'**"
      ],
      "metadata": {
        "id": "nfpUXewTfatb"
      }
    },
    {
      "cell_type": "code",
      "execution_count": 16,
      "metadata": {
        "colab": {
          "base_uri": "https://localhost:8080/"
        },
        "id": "jCTrJ487e8TG",
        "outputId": "50eab2ed-66d3-4f19-fb37-411e3a573d2a"
      },
      "outputs": [
        {
          "output_type": "stream",
          "name": "stderr",
          "text": [
            "<ipython-input-9-d8eadf42cf35>:14: FutureWarning: The frame.append method is deprecated and will be removed from pandas in a future version. Use pandas.concat instead.\n",
            "  dataframe = dataframe.append(result_model, ignore_index=True)\n"
          ]
        }
      ],
      "source": [
        "resultat_df=ajout_dataframe(nom_model = 'model_benchmark_images_brutes', y_true = test_set, y_pred = y_pred_benchmark_images_brutes, num_params = 16613544, dataframe = resultat_df)\n"
      ]
    },
    {
      "cell_type": "markdown",
      "source": [
        "## **2.2. Modèle Benchmark images égalisées**"
      ],
      "metadata": {
        "id": "I3c8KE47uHy_"
      }
    },
    {
      "cell_type": "markdown",
      "source": [
        "### **Chargement des données**"
      ],
      "metadata": {
        "id": "-aZM83D1ga0y"
      }
    },
    {
      "cell_type": "code",
      "source": [
        "# image égalisées\n",
        "!unzip -q 'drive/MyDrive/Datascientest/images_equalized_2208.zip'"
      ],
      "metadata": {
        "id": "3I_9nOTBuRFc"
      },
      "execution_count": 17,
      "outputs": []
    },
    {
      "cell_type": "markdown",
      "source": [
        "### **Génération des données d'entrainement et de test**"
      ],
      "metadata": {
        "id": "vya7eNwBgiMc"
      }
    },
    {
      "cell_type": "code",
      "source": [
        "datagen_train = ImageDataGenerator(rescale = 1./255, validation_split = 0.2)\n",
        "datagen_test = ImageDataGenerator(rescale = 1./255)\n",
        "\n",
        "batch_size = 32\n",
        "height  = 224 # taille adaptée à VGG16\n",
        "width = 224\n",
        "color = 3\n",
        "\n",
        "train_set = datagen_train.flow_from_dataframe(\n",
        "    dataframe = train_df,\n",
        "    directory=None,\n",
        "    x_col='egalisation_path',\n",
        "    y_col='nameLabel',\n",
        "    target_size=(height, width),\n",
        "    color_mode='rgb',\n",
        "    classes=None,\n",
        "    class_mode='categorical',\n",
        "    batch_size=batch_size,\n",
        "    shuffle=True,\n",
        "    subset = \"training\"\n",
        ")\n",
        "\n",
        "validation_set = datagen_train.flow_from_dataframe(\n",
        "    dataframe = train_df,\n",
        "    directory=None,\n",
        "    x_col='egalisation_path',\n",
        "    y_col='nameLabel',\n",
        "    target_size=(height, width),\n",
        "    color_mode='rgb',\n",
        "    classes=None,\n",
        "    class_mode='categorical',\n",
        "    batch_size=batch_size,\n",
        "    shuffle=False,\n",
        "    subset = \"validation\"\n",
        ")\n",
        "\n",
        "test_set = datagen_test.flow_from_dataframe(\n",
        "    dataframe = test_df,\n",
        "    directory=None,\n",
        "    x_col='egalisation_path',\n",
        "    y_col='nameLabel',\n",
        "    target_size=(height, width),\n",
        "    color_mode = 'rgb',\n",
        "    classes = None,   # utilise y_col\n",
        "    class_mode = 'categorical',\n",
        "    batch_size = batch_size,\n",
        "    shuffle = False)\n",
        "\n",
        "\n",
        "\n",
        "nb_img_train = train_set.samples\n",
        "nb_img_val = validation_set.samples\n",
        "nb_img_test = test_set.samples\n",
        "\n",
        "label_map = train_set.class_indices\n",
        "\n",
        "print(\"le dataframe train est composé de {} images appartenant à {} classes\".format(nb_img_train, len(train_set.class_indices)))\n",
        "print(\"le dataframe validation est composé de {} images appartenant à {} classes\".format(nb_img_val, len(validation_set.class_indices)))\n",
        "print(\"le dataframe validation est composé de {} images appartenant à {} classes\".format(nb_img_test, len(test_set.class_indices)))"
      ],
      "metadata": {
        "colab": {
          "base_uri": "https://localhost:8080/"
        },
        "id": "XK-HlydTutt2",
        "outputId": "aea17324-a678-4d55-d0d7-ee8d84489cf9"
      },
      "execution_count": 23,
      "outputs": [
        {
          "output_type": "stream",
          "name": "stdout",
          "text": [
            "Found 8751 validated image filenames belonging to 8 classes.\n",
            "Found 2187 validated image filenames belonging to 8 classes.\n",
            "Found 3419 validated image filenames belonging to 8 classes.\n",
            "le dataframe train est composé de 8751 images appartenant à 8 classes\n",
            "le dataframe validation est composé de 2187 images appartenant à 8 classes\n",
            "le dataframe validation est composé de 3419 images appartenant à 8 classes\n"
          ]
        }
      ]
    },
    {
      "cell_type": "markdown",
      "source": [
        "### **Chargement du modèle**"
      ],
      "metadata": {
        "id": "j_frS9HPiMcj"
      }
    },
    {
      "cell_type": "code",
      "source": [
        "#Chargement du modèle Benchmark images égalisées\n",
        "model_benchmark_images_egalisees = tf.keras.models.load_model('/content/drive/MyDrive/Datascientest/Blood_Cell_Project/model_benchmark_images_egalisees.h5')"
      ],
      "metadata": {
        "id": "pWeEp_bFZbfo"
      },
      "execution_count": 25,
      "outputs": []
    },
    {
      "cell_type": "markdown",
      "source": [
        "### **Prédictions sur le jeu test**"
      ],
      "metadata": {
        "id": "uzYozuCaif5d"
      }
    },
    {
      "cell_type": "code",
      "source": [
        "#Prediction Modele Benchmark images egalisees\n",
        "pred_benchmark_images_egalisees = model_benchmark_images_egalisees.predict(test_set)\n",
        "y_pred_benchmark_images_egalisees = tf.argmax(pred_benchmark_images_egalisees, axis = 1)"
      ],
      "metadata": {
        "colab": {
          "base_uri": "https://localhost:8080/"
        },
        "id": "vA72c786cnuC",
        "outputId": "3dacf6ed-98d0-4688-8012-e54e021a11a1"
      },
      "execution_count": 26,
      "outputs": [
        {
          "output_type": "stream",
          "name": "stdout",
          "text": [
            "107/107 [==============================] - 5s 46ms/step\n"
          ]
        }
      ]
    },
    {
      "cell_type": "markdown",
      "source": [
        "### **Matrice de confusion**"
      ],
      "metadata": {
        "id": "a_CjhGEUipa-"
      }
    },
    {
      "cell_type": "code",
      "source": [
        "plot_matrix(y_true = test_set, y_pred = y_pred_benchmark_images_egalisees,label =label_map)"
      ],
      "metadata": {
        "colab": {
          "base_uri": "https://localhost:8080/",
          "height": 796
        },
        "id": "kKGXuPXVgmfw",
        "outputId": "4bb2c9e4-6a6e-4db4-8a05-c96bf8986a50"
      },
      "execution_count": 27,
      "outputs": [
        {
          "output_type": "stream",
          "name": "stdout",
          "text": [
            "Vous retrouverez la matrice de confusion du modèle ci-dessous:\n"
          ]
        },
        {
          "output_type": "display_data",
          "data": {
            "text/plain": [
              "<Figure size 640x480 with 0 Axes>"
            ]
          },
          "metadata": {}
        },
        {
          "output_type": "display_data",
          "data": {
            "text/plain": [
              "<Figure size 640x480 with 2 Axes>"
            ],
            "image/png": "[encoded data removed]"
          },
          "metadata": {}
        },
        {
          "output_type": "stream",
          "name": "stdout",
          "text": [
            "\n",
            "Vous retrouverez le rapport de classification du modèle ci-dessous:\n",
            "\n",
            "              precision    recall  f1-score   support\n",
            "\n",
            "          BA       0.96      0.66      0.78       223\n",
            "          EO       0.96      0.99      0.98       632\n",
            "         ERB       0.95      0.82      0.88       309\n",
            "          IG       0.76      0.94      0.84       600\n",
            "          LY       0.82      0.96      0.88       236\n",
            "          MO       0.95      0.72      0.82       272\n",
            "  NEUTROPHIL       0.98      0.93      0.96       661\n",
            "    PLATELET       0.97      0.99      0.98       486\n",
            "\n",
            "    accuracy                           0.91      3419\n",
            "   macro avg       0.92      0.88      0.89      3419\n",
            "weighted avg       0.92      0.91      0.91      3419\n",
            "\n"
          ]
        }
      ]
    },
    {
      "cell_type": "markdown",
      "source": [
        "### **Intégration des résultats au dataframe de synthèse 'resultat_df'**"
      ],
      "metadata": {
        "id": "aGxOQ9Wvi1Ep"
      }
    },
    {
      "cell_type": "code",
      "source": [
        "resultat_df=ajout_dataframe(nom_model = 'model_benchmark_images_egalisees', y_true = test_set, y_pred = y_pred_benchmark_images_egalisees, num_params = 16613544, dataframe = resultat_df)"
      ],
      "metadata": {
        "colab": {
          "base_uri": "https://localhost:8080/"
        },
        "id": "Vp9haKBagsRm",
        "outputId": "59c72ace-ccba-4e44-8bde-3f3c440d062b"
      },
      "execution_count": 28,
      "outputs": [
        {
          "output_type": "stream",
          "name": "stderr",
          "text": [
            "<ipython-input-9-d8eadf42cf35>:14: FutureWarning: The frame.append method is deprecated and will be removed from pandas in a future version. Use pandas.concat instead.\n",
            "  dataframe = dataframe.append(result_model, ignore_index=True)\n"
          ]
        }
      ]
    },
    {
      "cell_type": "markdown",
      "source": [
        "## **2.3. Modèle Benchmark images egalisation adaptative**"
      ],
      "metadata": {
        "id": "2mVtjEm7vHH5"
      }
    },
    {
      "cell_type": "markdown",
      "source": [
        "### **Chargement des données**"
      ],
      "metadata": {
        "id": "TNFQxnO4jZm4"
      }
    },
    {
      "cell_type": "code",
      "source": [
        "# image égalisées\n",
        "!unzip -q 'drive/MyDrive/Datascientest/images_egalisation_adaptative_2508.zip'"
      ],
      "metadata": {
        "id": "YXpQOsthvNTD"
      },
      "execution_count": 29,
      "outputs": []
    },
    {
      "cell_type": "markdown",
      "source": [
        "### **Génération des données d'entrainement et de test**"
      ],
      "metadata": {
        "id": "Ha9AoDtIjfpF"
      }
    },
    {
      "cell_type": "code",
      "source": [
        "datagen_train = ImageDataGenerator(rescale = 1./255, validation_split = 0.2)\n",
        "datagen_test = ImageDataGenerator(rescale = 1./255)\n",
        "\n",
        "batch_size = 32\n",
        "height  = 224 # taille adaptée à VGG16\n",
        "width = 224\n",
        "color = 3\n",
        "\n",
        "train_set = datagen_train.flow_from_dataframe(\n",
        "    dataframe = train_df,\n",
        "    directory=None,\n",
        "    x_col='egalisation_adaptative_path',\n",
        "    y_col='nameLabel',\n",
        "    target_size=(height, width),\n",
        "    color_mode='rgb',\n",
        "    classes=None,\n",
        "    class_mode='categorical',\n",
        "    batch_size=batch_size,\n",
        "    shuffle=True,\n",
        "    subset = \"training\"\n",
        ")\n",
        "\n",
        "validation_set = datagen_train.flow_from_dataframe(\n",
        "    dataframe = train_df,\n",
        "    directory=None,\n",
        "    x_col='egalisation_adaptative_path',\n",
        "    y_col='nameLabel',\n",
        "    target_size=(height, width),\n",
        "    color_mode='rgb',\n",
        "    classes=None,\n",
        "    class_mode='categorical',\n",
        "    batch_size=batch_size,\n",
        "    shuffle=False,\n",
        "    subset = \"validation\"\n",
        ")\n",
        "\n",
        "test_set = datagen_test.flow_from_dataframe(\n",
        "    dataframe = test_df,\n",
        "    directory=None,\n",
        "    x_col='egalisation_adaptative_path',\n",
        "    y_col='nameLabel',\n",
        "    target_size=(height, width),\n",
        "    color_mode = 'rgb',\n",
        "    classes = None,   # utilise y_col\n",
        "    class_mode = 'categorical',\n",
        "    batch_size = batch_size,\n",
        "    shuffle = False)\n",
        "\n",
        "\n",
        "\n",
        "nb_img_train = train_set.samples\n",
        "nb_img_val = validation_set.samples\n",
        "nb_img_test = test_set.samples\n",
        "\n",
        "label_map = train_set.class_indices\n",
        "\n",
        "print(\"le dataframe train est composé de {} images appartenant à {} classes\".format(nb_img_train, len(train_set.class_indices)))\n",
        "print(\"le dataframe validation est composé de {} images appartenant à {} classes\".format(nb_img_val, len(validation_set.class_indices)))\n",
        "print(\"le dataframe validation est composé de {} images appartenant à {} classes\".format(nb_img_test, len(test_set.class_indices)))"
      ],
      "metadata": {
        "colab": {
          "base_uri": "https://localhost:8080/"
        },
        "id": "14jmVGF-wnMI",
        "outputId": "27afe475-4c80-4769-ff3d-7ed03bb2a215"
      },
      "execution_count": 30,
      "outputs": [
        {
          "output_type": "stream",
          "name": "stdout",
          "text": [
            "Found 8751 validated image filenames belonging to 8 classes.\n",
            "Found 2187 validated image filenames belonging to 8 classes.\n",
            "Found 3419 validated image filenames belonging to 8 classes.\n",
            "le dataframe train est composé de 8751 images appartenant à 8 classes\n",
            "le dataframe validation est composé de 2187 images appartenant à 8 classes\n",
            "le dataframe validation est composé de 3419 images appartenant à 8 classes\n"
          ]
        }
      ]
    },
    {
      "cell_type": "markdown",
      "source": [
        "### **Chargement du modèle**"
      ],
      "metadata": {
        "id": "0xFLfv8Zjw5u"
      }
    },
    {
      "cell_type": "code",
      "source": [
        "#Chargement du modèle Benchmark images égalisation adaptative\n",
        "model_benchmark_egalisation_adaptative = tf.keras.models.load_model('/content/drive/MyDrive/Datascientest/Blood_Cell_Project/model_benchmark_images_egalisation_adaptative.h5')"
      ],
      "metadata": {
        "id": "VLWqCZhkZlrN"
      },
      "execution_count": 31,
      "outputs": []
    },
    {
      "cell_type": "markdown",
      "source": [
        "### **Prédictions sur le jeu test**"
      ],
      "metadata": {
        "id": "Zm5SJpWFj1MG"
      }
    },
    {
      "cell_type": "code",
      "source": [
        "#Prediction Modele Benchmark images egalisation adaptative\n",
        "pred_benchmark_egalisation_adaptative = model_benchmark_egalisation_adaptative.predict(test_set)\n",
        "y_pred_benchmark_egalisation_adaptative = tf.argmax(pred_benchmark_egalisation_adaptative, axis = 1)"
      ],
      "metadata": {
        "colab": {
          "base_uri": "https://localhost:8080/"
        },
        "id": "YxlVcLXac1Rq",
        "outputId": "4f10ab9f-9be6-4c5e-8fc8-be46922ab9fa"
      },
      "execution_count": 32,
      "outputs": [
        {
          "output_type": "stream",
          "name": "stdout",
          "text": [
            "107/107 [==============================] - 6s 57ms/step\n"
          ]
        }
      ]
    },
    {
      "cell_type": "markdown",
      "source": [
        "### **Matrice de confusion**"
      ],
      "metadata": {
        "id": "kjOx41mlj8gz"
      }
    },
    {
      "cell_type": "code",
      "source": [
        "plot_matrix(y_true = test_set, y_pred = y_pred_benchmark_egalisation_adaptative,label =label_map)"
      ],
      "metadata": {
        "colab": {
          "base_uri": "https://localhost:8080/",
          "height": 796
        },
        "id": "Q9P4WS8oi-17",
        "outputId": "d4768974-1961-48df-9b1f-b3a7ea9d87a1"
      },
      "execution_count": 33,
      "outputs": [
        {
          "output_type": "stream",
          "name": "stdout",
          "text": [
            "Vous retrouverez la matrice de confusion du modèle ci-dessous:\n"
          ]
        },
        {
          "output_type": "display_data",
          "data": {
            "text/plain": [
              "<Figure size 640x480 with 0 Axes>"
            ]
          },
          "metadata": {}
        },
        {
          "output_type": "display_data",
          "data": {
            "text/plain": [
              "<Figure size 640x480 with 2 Axes>"
            ],
            "image/png": "[encoded data removed]"
          },
          "metadata": {}
        },
        {
          "output_type": "stream",
          "name": "stdout",
          "text": [
            "\n",
            "Vous retrouverez le rapport de classification du modèle ci-dessous:\n",
            "\n",
            "              precision    recall  f1-score   support\n",
            "\n",
            "          BA       0.86      0.92      0.89       223\n",
            "          EO       0.99      0.99      0.99       632\n",
            "         ERB       0.96      0.89      0.92       309\n",
            "          IG       0.90      0.75      0.82       600\n",
            "          LY       0.92      0.95      0.94       236\n",
            "          MO       0.65      0.96      0.78       272\n",
            "  NEUTROPHIL       0.98      0.94      0.96       661\n",
            "    PLATELET       0.98      0.99      0.98       486\n",
            "\n",
            "    accuracy                           0.92      3419\n",
            "   macro avg       0.91      0.92      0.91      3419\n",
            "weighted avg       0.93      0.92      0.92      3419\n",
            "\n"
          ]
        }
      ]
    },
    {
      "cell_type": "markdown",
      "source": [
        "### **Intégration des résultats au dataframe de synthèse 'resultat_df'**"
      ],
      "metadata": {
        "id": "tYaBv0GgkMMh"
      }
    },
    {
      "cell_type": "code",
      "source": [
        "resultat_df=ajout_dataframe(nom_model = 'model_benchmark_egalisation_adaptative', y_true = test_set, y_pred = y_pred_benchmark_egalisation_adaptative, num_params = 16613544, dataframe = resultat_df)"
      ],
      "metadata": {
        "colab": {
          "base_uri": "https://localhost:8080/"
        },
        "id": "N8ZIfqqzjTSU",
        "outputId": "7e0dc756-fcbf-4995-d791-06aa50ca7454"
      },
      "execution_count": 34,
      "outputs": [
        {
          "output_type": "stream",
          "name": "stderr",
          "text": [
            "<ipython-input-9-d8eadf42cf35>:14: FutureWarning: The frame.append method is deprecated and will be removed from pandas in a future version. Use pandas.concat instead.\n",
            "  dataframe = dataframe.append(result_model, ignore_index=True)\n"
          ]
        }
      ]
    },
    {
      "cell_type": "markdown",
      "source": [
        "## **2.4. Modèle Benchmark images masquées**"
      ],
      "metadata": {
        "id": "F9VuNKtQkccy"
      }
    },
    {
      "cell_type": "markdown",
      "source": [
        "### **Chargement des données**"
      ],
      "metadata": {
        "id": "Vo64AvtTkjny"
      }
    },
    {
      "cell_type": "markdown",
      "source": [
        "Déjà chargée dans la partie 1. pour la création du dataframe df_fusion pour définir les chemins d'accès à l'ensemble des images"
      ],
      "metadata": {
        "id": "QQlfQrB4kthr"
      }
    },
    {
      "cell_type": "markdown",
      "source": [
        "### **Génération des données d'entrainement et de test**"
      ],
      "metadata": {
        "id": "zYfP_S7_lMbg"
      }
    },
    {
      "cell_type": "code",
      "source": [
        "datagen_train = ImageDataGenerator(rescale = 1./255, validation_split = 0.2)\n",
        "datagen_test = ImageDataGenerator(rescale = 1./255)\n",
        "\n",
        "batch_size = 32\n",
        "height  = 224 # taille adaptée à VGG16\n",
        "width = 224\n",
        "color = 3\n",
        "\n",
        "train_set = datagen_train.flow_from_dataframe(\n",
        "    dataframe = train_df,\n",
        "    directory=None,\n",
        "    x_col='fusionpath',\n",
        "    y_col='nameLabel',\n",
        "    target_size=(height, width),\n",
        "    color_mode='rgb',\n",
        "    classes=None,\n",
        "    class_mode='categorical',\n",
        "    batch_size=batch_size,\n",
        "    shuffle=True,\n",
        "    subset = \"training\"\n",
        ")\n",
        "\n",
        "validation_set = datagen_train.flow_from_dataframe(\n",
        "    dataframe = train_df,\n",
        "    directory=None,\n",
        "    x_col='fusionpath',\n",
        "    y_col='nameLabel',\n",
        "    target_size=(height, width),\n",
        "    color_mode='rgb',\n",
        "    classes=None,\n",
        "    class_mode='categorical',\n",
        "    batch_size=batch_size,\n",
        "    shuffle=False,\n",
        "    subset = \"validation\"\n",
        ")\n",
        "\n",
        "test_set = datagen_test.flow_from_dataframe(\n",
        "    dataframe = test_df,\n",
        "    directory=None,\n",
        "    x_col='fusionpath',\n",
        "    y_col='nameLabel',\n",
        "    target_size=(height, width),\n",
        "    color_mode = 'rgb',\n",
        "    classes = None,   # utilise y_col\n",
        "    class_mode = 'categorical',\n",
        "    batch_size = batch_size,\n",
        "    shuffle = False)\n",
        "\n",
        "\n",
        "\n",
        "nb_img_train = train_set.samples\n",
        "nb_img_val = validation_set.samples\n",
        "nb_img_test = test_set.samples\n",
        "\n",
        "label_map = train_set.class_indices\n",
        "\n",
        "print(\"le dataframe train est composé de {} images appartenant à {} classes\".format(nb_img_train, len(train_set.class_indices)))\n",
        "print(\"le dataframe validation est composé de {} images appartenant à {} classes\".format(nb_img_val, len(validation_set.class_indices)))\n",
        "print(\"le dataframe validation est composé de {} images appartenant à {} classes\".format(nb_img_test, len(test_set.class_indices)))"
      ],
      "metadata": {
        "colab": {
          "base_uri": "https://localhost:8080/"
        },
        "id": "4LW-4ZJvlajP",
        "outputId": "623a38cc-7e93-49b5-9049-2bf34262f947"
      },
      "execution_count": 35,
      "outputs": [
        {
          "output_type": "stream",
          "name": "stdout",
          "text": [
            "Found 8751 validated image filenames belonging to 8 classes.\n",
            "Found 2187 validated image filenames belonging to 8 classes.\n",
            "Found 3419 validated image filenames belonging to 8 classes.\n",
            "le dataframe train est composé de 8751 images appartenant à 8 classes\n",
            "le dataframe validation est composé de 2187 images appartenant à 8 classes\n",
            "le dataframe validation est composé de 3419 images appartenant à 8 classes\n"
          ]
        }
      ]
    },
    {
      "cell_type": "markdown",
      "source": [
        "### **Chargement du modèle**"
      ],
      "metadata": {
        "id": "I3ftUnMglsqS"
      }
    },
    {
      "cell_type": "code",
      "source": [
        "#Chargement du modèle Benchmark images masquées\n",
        "model_benchmark_images_masquees = tf.keras.models.load_model('/content/drive/MyDrive/Datascientest/Blood_Cell_Project/model_benchmark_images_masquees.h5')"
      ],
      "metadata": {
        "id": "y4PsF6oZZHy_"
      },
      "execution_count": 36,
      "outputs": []
    },
    {
      "cell_type": "markdown",
      "source": [
        "### **Prédictions sur le jeu test**"
      ],
      "metadata": {
        "id": "ZbJENi8gmAtY"
      }
    },
    {
      "cell_type": "code",
      "source": [
        "#Prediction Modele Benchmark images masquees\n",
        "pred_benchmark_images_masquees = model_benchmark_images_masquees.predict(test_set)\n",
        "y_pred_benchmark_images_masquees = tf.argmax(pred_benchmark_images_masquees, axis = 1)"
      ],
      "metadata": {
        "colab": {
          "base_uri": "https://localhost:8080/"
        },
        "id": "Y9C8r3GPtuGi",
        "outputId": "afefeef1-8a87-49cb-c6f5-3a2f8b083c01"
      },
      "execution_count": 37,
      "outputs": [
        {
          "output_type": "stream",
          "name": "stdout",
          "text": [
            "107/107 [==============================] - 6s 56ms/step\n"
          ]
        }
      ]
    },
    {
      "cell_type": "markdown",
      "source": [
        "### **Matrice de confusion**"
      ],
      "metadata": {
        "id": "vhvnxk7pmI-M"
      }
    },
    {
      "cell_type": "code",
      "source": [
        "plot_matrix(y_true = test_set, y_pred = y_pred_benchmark_images_masquees,label =label_map)"
      ],
      "metadata": {
        "colab": {
          "base_uri": "https://localhost:8080/",
          "height": 796
        },
        "id": "GHlVB4nWjinl",
        "outputId": "7cdd0c05-30c7-49ff-d135-6f59fcd02bfe"
      },
      "execution_count": 38,
      "outputs": [
        {
          "output_type": "stream",
          "name": "stdout",
          "text": [
            "Vous retrouverez la matrice de confusion du modèle ci-dessous:\n"
          ]
        },
        {
          "output_type": "display_data",
          "data": {
            "text/plain": [
              "<Figure size 640x480 with 0 Axes>"
            ]
          },
          "metadata": {}
        },
        {
          "output_type": "display_data",
          "data": {
            "text/plain": [
              "<Figure size 640x480 with 2 Axes>"
            ],
            "image/png": "[encoded data removed]"
          },
          "metadata": {}
        },
        {
          "output_type": "stream",
          "name": "stdout",
          "text": [
            "\n",
            "Vous retrouverez le rapport de classification du modèle ci-dessous:\n",
            "\n",
            "              precision    recall  f1-score   support\n",
            "\n",
            "          BA       0.80      0.94      0.86       223\n",
            "          EO       1.00      0.97      0.98       632\n",
            "         ERB       0.95      0.91      0.93       309\n",
            "          IG       0.85      0.83      0.84       600\n",
            "          LY       0.96      0.93      0.95       236\n",
            "          MO       0.83      0.81      0.82       272\n",
            "  NEUTROPHIL       0.95      0.97      0.96       661\n",
            "    PLATELET       0.99      0.99      0.99       486\n",
            "\n",
            "    accuracy                           0.93      3419\n",
            "   macro avg       0.92      0.92      0.92      3419\n",
            "weighted avg       0.93      0.93      0.93      3419\n",
            "\n"
          ]
        }
      ]
    },
    {
      "cell_type": "markdown",
      "source": [
        "### **Intégration des résultats au dataframe de synthèse 'resultat_df'**"
      ],
      "metadata": {
        "id": "QX5_1N1CmSN_"
      }
    },
    {
      "cell_type": "code",
      "source": [
        "resultat_df=ajout_dataframe(nom_model = 'model_benchmark_images_masquees', y_true = test_set, y_pred = y_pred_benchmark_images_masquees, num_params = 16613544, dataframe = resultat_df)"
      ],
      "metadata": {
        "colab": {
          "base_uri": "https://localhost:8080/"
        },
        "id": "cLyVmrJ3jmUf",
        "outputId": "0a3331ee-6b95-4b86-96a8-e54e9ed8178a"
      },
      "execution_count": 39,
      "outputs": [
        {
          "output_type": "stream",
          "name": "stderr",
          "text": [
            "<ipython-input-9-d8eadf42cf35>:14: FutureWarning: The frame.append method is deprecated and will be removed from pandas in a future version. Use pandas.concat instead.\n",
            "  dataframe = dataframe.append(result_model, ignore_index=True)\n"
          ]
        }
      ]
    },
    {
      "cell_type": "markdown",
      "source": [
        "## **2.5. Modèle VGG16 images masquées**"
      ],
      "metadata": {
        "id": "7mHYseEpmgTn"
      }
    },
    {
      "cell_type": "markdown",
      "source": [
        "### **Chargement des données**"
      ],
      "metadata": {
        "id": "8N9dLTTpmmOA"
      }
    },
    {
      "cell_type": "markdown",
      "source": [
        "Déjà chargée dans la partie 1. pour la création du dataframe df_fusion pour définir les chemins d'accès à l'ensemble des images"
      ],
      "metadata": {
        "id": "97CV3S03msSw"
      }
    },
    {
      "cell_type": "markdown",
      "source": [
        "### **Génération des données d'entrainement et de test**"
      ],
      "metadata": {
        "id": "WAG9SrAWmtKK"
      }
    },
    {
      "cell_type": "code",
      "source": [
        "datagen_train = ImageDataGenerator(rescale = 1./255, validation_split = 0.2)\n",
        "datagen_test = ImageDataGenerator(rescale = 1./255)\n",
        "\n",
        "batch_size = 32\n",
        "height  = 224 # taille adaptée à VGG16\n",
        "width = 224\n",
        "color = 3\n",
        "\n",
        "train_set = datagen_train.flow_from_dataframe(\n",
        "    dataframe = train_df,\n",
        "    directory=None,\n",
        "    x_col='fusionpath',\n",
        "    y_col='nameLabel',\n",
        "    target_size=(height, width),\n",
        "    color_mode='rgb',\n",
        "    classes=None,\n",
        "    class_mode='categorical',\n",
        "    batch_size=batch_size,\n",
        "    shuffle=True,\n",
        "    subset = \"training\"\n",
        ")\n",
        "\n",
        "validation_set = datagen_train.flow_from_dataframe(\n",
        "    dataframe = train_df,\n",
        "    directory=None,\n",
        "    x_col='fusionpath',\n",
        "    y_col='nameLabel',\n",
        "    target_size=(height, width),\n",
        "    color_mode='rgb',\n",
        "    classes=None,\n",
        "    class_mode='categorical',\n",
        "    batch_size=batch_size,\n",
        "    shuffle=False,\n",
        "    subset = \"validation\"\n",
        ")\n",
        "\n",
        "test_set = datagen_test.flow_from_dataframe(\n",
        "    dataframe = test_df,\n",
        "    directory=None,\n",
        "    x_col='fusionpath',\n",
        "    y_col='nameLabel',\n",
        "    target_size=(height, width),\n",
        "    color_mode = 'rgb',\n",
        "    classes = None,   # utilise y_col\n",
        "    class_mode = 'categorical',\n",
        "    batch_size = batch_size,\n",
        "    shuffle = False)\n",
        "\n",
        "\n",
        "\n",
        "nb_img_train = train_set.samples\n",
        "nb_img_val = validation_set.samples\n",
        "nb_img_test = test_set.samples\n",
        "\n",
        "label_map = train_set.class_indices\n",
        "\n",
        "print(\"le dataframe train est composé de {} images appartenant à {} classes\".format(nb_img_train, len(train_set.class_indices)))\n",
        "print(\"le dataframe validation est composé de {} images appartenant à {} classes\".format(nb_img_val, len(validation_set.class_indices)))\n",
        "print(\"le dataframe validation est composé de {} images appartenant à {} classes\".format(nb_img_test, len(test_set.class_indices)))"
      ],
      "metadata": {
        "colab": {
          "base_uri": "https://localhost:8080/"
        },
        "id": "kDU5FtSKmzmt",
        "outputId": "e99bf4bf-6a80-4f07-d81b-f22dd8522dd4"
      },
      "execution_count": 40,
      "outputs": [
        {
          "output_type": "stream",
          "name": "stdout",
          "text": [
            "Found 8751 validated image filenames belonging to 8 classes.\n",
            "Found 2187 validated image filenames belonging to 8 classes.\n",
            "Found 3419 validated image filenames belonging to 8 classes.\n",
            "le dataframe train est composé de 8751 images appartenant à 8 classes\n",
            "le dataframe validation est composé de 2187 images appartenant à 8 classes\n",
            "le dataframe validation est composé de 3419 images appartenant à 8 classes\n"
          ]
        }
      ]
    },
    {
      "cell_type": "markdown",
      "source": [
        "### **Chargement du modèle**"
      ],
      "metadata": {
        "id": "zuYBGrQUm4bb"
      }
    },
    {
      "cell_type": "code",
      "source": [
        "#Chargement du modèle VGG16 images masquées\n",
        "model_vgg16_images_masquees = tf.keras.models.load_model('/content/drive/MyDrive/Datascientest/Blood_Cell_Project/model_VGG16_images_masquees.h5')"
      ],
      "metadata": {
        "id": "thwe61A_Zh0c"
      },
      "execution_count": 41,
      "outputs": []
    },
    {
      "cell_type": "markdown",
      "source": [
        "### **Prédictions sur le jeu test**"
      ],
      "metadata": {
        "id": "UGwd0OOGm87h"
      }
    },
    {
      "cell_type": "code",
      "source": [
        "#Prediction VGG16\n",
        "pred_vgg16_images_masquees = model_vgg16_images_masquees.predict(test_set)\n",
        "y_pred_vgg16_images_masquees = tf.argmax(pred_vgg16_images_masquees, axis = 1)"
      ],
      "metadata": {
        "colab": {
          "base_uri": "https://localhost:8080/"
        },
        "id": "I1TpNiPW1qoT",
        "outputId": "a76e7347-b6af-4abe-9f19-451f876f3522"
      },
      "execution_count": 42,
      "outputs": [
        {
          "output_type": "stream",
          "name": "stdout",
          "text": [
            "107/107 [==============================] - 20s 146ms/step\n"
          ]
        }
      ]
    },
    {
      "cell_type": "markdown",
      "source": [
        "### **Matrice de confusion**"
      ],
      "metadata": {
        "id": "myb08Y9unPIM"
      }
    },
    {
      "cell_type": "code",
      "source": [
        "plot_matrix(y_true = test_set, y_pred = y_pred_vgg16_images_masquees,label =label_map)"
      ],
      "metadata": {
        "colab": {
          "base_uri": "https://localhost:8080/",
          "height": 796
        },
        "id": "dZsFH8dpkCDP",
        "outputId": "33646e32-b571-4feb-c732-cf51e136f8dc"
      },
      "execution_count": 43,
      "outputs": [
        {
          "output_type": "stream",
          "name": "stdout",
          "text": [
            "Vous retrouverez la matrice de confusion du modèle ci-dessous:\n"
          ]
        },
        {
          "output_type": "display_data",
          "data": {
            "text/plain": [
              "<Figure size 640x480 with 0 Axes>"
            ]
          },
          "metadata": {}
        },
        {
          "output_type": "display_data",
          "data": {
            "text/plain": [
              "<Figure size 640x480 with 2 Axes>"
            ],
            "image/png": "[encoded data removed]"
          },
          "metadata": {}
        },
        {
          "output_type": "stream",
          "name": "stdout",
          "text": [
            "\n",
            "Vous retrouverez le rapport de classification du modèle ci-dessous:\n",
            "\n",
            "              precision    recall  f1-score   support\n",
            "\n",
            "          BA       1.00      0.98      0.99       223\n",
            "          EO       1.00      1.00      1.00       632\n",
            "         ERB       0.99      0.97      0.98       309\n",
            "          IG       0.95      0.98      0.96       600\n",
            "          LY       0.99      1.00      0.99       236\n",
            "          MO       1.00      0.96      0.98       272\n",
            "  NEUTROPHIL       0.99      0.98      0.98       661\n",
            "    PLATELET       1.00      1.00      1.00       486\n",
            "\n",
            "    accuracy                           0.99      3419\n",
            "   macro avg       0.99      0.98      0.99      3419\n",
            "weighted avg       0.99      0.99      0.99      3419\n",
            "\n"
          ]
        }
      ]
    },
    {
      "cell_type": "markdown",
      "source": [
        "### **Intégration des résultats au dataframe de synthèse 'resultat_df'**"
      ],
      "metadata": {
        "id": "QJCw1yRAnYcg"
      }
    },
    {
      "cell_type": "code",
      "source": [
        "resultat_df=ajout_dataframe(nom_model = 'model_vgg16_images_masquees', y_true = test_set, y_pred = y_pred_vgg16_images_masquees, num_params = 16613544, dataframe = resultat_df)"
      ],
      "metadata": {
        "colab": {
          "base_uri": "https://localhost:8080/"
        },
        "id": "VVCddUtukHyE",
        "outputId": "b8b80552-489c-4114-dc14-bea5b2f063e4"
      },
      "execution_count": 44,
      "outputs": [
        {
          "output_type": "stream",
          "name": "stderr",
          "text": [
            "<ipython-input-9-d8eadf42cf35>:14: FutureWarning: The frame.append method is deprecated and will be removed from pandas in a future version. Use pandas.concat instead.\n",
            "  dataframe = dataframe.append(result_model, ignore_index=True)\n"
          ]
        }
      ]
    },
    {
      "cell_type": "markdown",
      "source": [
        "# **3. Synthèse des résultats**"
      ],
      "metadata": {
        "id": "dxBvC6yrnmye"
      }
    },
    {
      "cell_type": "code",
      "source": [
        "resultat_df"
      ],
      "metadata": {
        "colab": {
          "base_uri": "https://localhost:8080/",
          "height": 206
        },
        "id": "QoFqae0vkU6L",
        "outputId": "a2f90807-f8d5-42ca-a94d-2689bc67c8f2"
      },
      "execution_count": 48,
      "outputs": [
        {
          "output_type": "execute_result",
          "data": {
            "text/plain": [
              "                               Model Name Number of Params  Accuracy  \\\n",
              "0           model_benchmark_images_brutes         16613544  [0.9491]   \n",
              "1        model_benchmark_images_egalisees         16613544  [0.9105]   \n",
              "2  model_benchmark_egalisation_adaptative         16613544  [0.9193]   \n",
              "3         model_benchmark_images_masquees         16613544  [0.9275]   \n",
              "4             model_vgg16_images_masquees         16613544  [0.9857]   \n",
              "\n",
              "     Recall Precision  F1_score  \n",
              "0  [0.9457]   [0.942]  [0.9432]  \n",
              "1  [0.8766]  [0.9202]  [0.8903]  \n",
              "2  [0.9236]  [0.9067]  [0.9103]  \n",
              "3  [0.9205]  [0.9169]  [0.9178]  \n",
              "4  [0.9837]  [0.9886]   [0.986]  "
            ],
            "text/html": [
              "\n",
              "  <div id=\"df-799bd08b-c2da-400e-a068-13a7a7617733\" class=\"colab-df-container\">\n",
              "    <div>\n",
              "<style scoped>\n",
              "    .dataframe tbody tr th:only-of-type {\n",
              "        vertical-align: middle;\n",
              "    }\n",
              "\n",
              "    .dataframe tbody tr th {\n",
              "        vertical-align: top;\n",
              "    }\n",
              "\n",
              "    .dataframe thead th {\n",
              "        text-align: right;\n",
              "    }\n",
              "</style>\n",
              "<table border=\"1\" class=\"dataframe\">\n",
              "  <thead>\n",
              "    <tr style=\"text-align: right;\">\n",
              "      <th></th>\n",
              "      <th>Model Name</th>\n",
              "      <th>Number of Params</th>\n",
              "      <th>Accuracy</th>\n",
              "      <th>Recall</th>\n",
              "      <th>Precision</th>\n",
              "      <th>F1_score</th>\n",
              "    </tr>\n",
              "  </thead>\n",
              "  <tbody>\n",
              "    <tr>\n",
              "      <th>0</th>\n",
              "      <td>model_benchmark_images_brutes</td>\n",
              "      <td>16613544</td>\n",
              "      <td>[0.9491]</td>\n",
              "      <td>[0.9457]</td>\n",
              "      <td>[0.942]</td>\n",
              "      <td>[0.9432]</td>\n",
              "    </tr>\n",
              "    <tr>\n",
              "      <th>1</th>\n",
              "      <td>model_benchmark_images_egalisees</td>\n",
              "      <td>16613544</td>\n",
              "      <td>[0.9105]</td>\n",
              "      <td>[0.8766]</td>\n",
              "      <td>[0.9202]</td>\n",
              "      <td>[0.8903]</td>\n",
              "    </tr>\n",
              "    <tr>\n",
              "      <th>2</th>\n",
              "      <td>model_benchmark_egalisation_adaptative</td>\n",
              "      <td>16613544</td>\n",
              "      <td>[0.9193]</td>\n",
              "      <td>[0.9236]</td>\n",
              "      <td>[0.9067]</td>\n",
              "      <td>[0.9103]</td>\n",
              "    </tr>\n",
              "    <tr>\n",
              "      <th>3</th>\n",
              "      <td>model_benchmark_images_masquees</td>\n",
              "      <td>16613544</td>\n",
              "      <td>[0.9275]</td>\n",
              "      <td>[0.9205]</td>\n",
              "      <td>[0.9169]</td>\n",
              "      <td>[0.9178]</td>\n",
              "    </tr>\n",
              "    <tr>\n",
              "      <th>4</th>\n",
              "      <td>model_vgg16_images_masquees</td>\n",
              "      <td>16613544</td>\n",
              "      <td>[0.9857]</td>\n",
              "      <td>[0.9837]</td>\n",
              "      <td>[0.9886]</td>\n",
              "      <td>[0.986]</td>\n",
              "    </tr>\n",
              "  </tbody>\n",
              "</table>\n",
              "</div>\n",
              "    <div class=\"colab-df-buttons\">\n",
              "\n",
              "  <div class=\"colab-df-container\">\n",
              "    <button class=\"colab-df-convert\" onclick=\"convertToInteractive('df-799bd08b-c2da-400e-a068-13a7a7617733')\"\n",
              "            title=\"Convert this dataframe to an interactive table.\"\n",
              "            style=\"display:none;\">\n",
              "\n",
              "  <svg xmlns=\"http://www.w3.org/2000/svg\" height=\"24px\" viewBox=\"0 -960 960 960\">\n",
              "    <path d=\"M120-120v-720h720v720H120Zm60-500h600v-160H180v160Zm220 220h160v-160H400v160Zm0 220h160v-160H400v160ZM180-400h160v-160H180v160Zm440 0h160v-160H620v160ZM180-180h160v-160H180v160Zm440 0h160v-160H620v160Z\"/>\n",
              "  </svg>\n",
              "    </button>\n",
              "\n",
              "  <style>\n",
              "    .colab-df-container {\n",
              "      display:flex;\n",
              "      gap: 12px;\n",
              "    }\n",
              "\n",
              "    .colab-df-convert {\n",
              "      background-color: #E8F0FE;\n",
              "      border: none;\n",
              "      border-radius: 50%;\n",
              "      cursor: pointer;\n",
              "      display: none;\n",
              "      fill: #1967D2;\n",
              "      height: 32px;\n",
              "      padding: 0 0 0 0;\n",
              "      width: 32px;\n",
              "    }\n",
              "\n",
              "    .colab-df-convert:hover {\n",
              "      background-color: #E2EBFA;\n",
              "      box-shadow: 0px 1px 2px rgba(60, 64, 67, 0.3), 0px 1px 3px 1px rgba(60, 64, 67, 0.15);\n",
              "      fill: #174EA6;\n",
              "    }\n",
              "\n",
              "    .colab-df-buttons div {\n",
              "      margin-bottom: 4px;\n",
              "    }\n",
              "\n",
              "    [theme=dark] .colab-df-convert {\n",
              "      background-color: #3B4455;\n",
              "      fill: #D2E3FC;\n",
              "    }\n",
              "\n",
              "    [theme=dark] .colab-df-convert:hover {\n",
              "      background-color: #434B5C;\n",
              "      box-shadow: 0px 1px 3px 1px rgba(0, 0, 0, 0.15);\n",
              "      filter: drop-shadow(0px 1px 2px rgba(0, 0, 0, 0.3));\n",
              "      fill: #FFFFFF;\n",
              "    }\n",
              "  </style>\n",
              "\n",
              "    <script>\n",
              "      const buttonEl =\n",
              "        document.querySelector('#df-799bd08b-c2da-400e-a068-13a7a7617733 button.colab-df-convert');\n",
              "      buttonEl.style.display =\n",
              "        google.colab.kernel.accessAllowed ? 'block' : 'none';\n",
              "\n",
              "      async function convertToInteractive(key) {\n",
              "        const element = document.querySelector('#df-799bd08b-c2da-400e-a068-13a7a7617733');\n",
              "        const dataTable =\n",
              "          await google.colab.kernel.invokeFunction('convertToInteractive',\n",
              "                                                    [key], {});\n",
              "        if (!dataTable) return;\n",
              "\n",
              "        const docLinkHtml = 'Like what you see? Visit the ' +\n",
              "          '<a target=\"_blank\" href=https://colab.research.google.com/notebooks/data_table.ipynb>data table notebook</a>'\n",
              "          + ' to learn more about interactive tables.';\n",
              "        element.innerHTML = '';\n",
              "        dataTable['output_type'] = 'display_data';\n",
              "        await google.colab.output.renderOutput(dataTable, element);\n",
              "        const docLink = document.createElement('div');\n",
              "        docLink.innerHTML = docLinkHtml;\n",
              "        element.appendChild(docLink);\n",
              "      }\n",
              "    </script>\n",
              "  </div>\n",
              "\n",
              "\n",
              "<div id=\"df-37e8f552-21ab-4c17-a54f-986b38ff93e2\">\n",
              "  <button class=\"colab-df-quickchart\" onclick=\"quickchart('df-37e8f552-21ab-4c17-a54f-986b38ff93e2')\"\n",
              "            title=\"Suggest charts.\"\n",
              "            style=\"display:none;\">\n",
              "\n",
              "<svg xmlns=\"http://www.w3.org/2000/svg\" height=\"24px\"viewBox=\"0 0 24 24\"\n",
              "     width=\"24px\">\n",
              "    <g>\n",
              "        <path d=\"M19 3H5c-1.1 0-2 .9-2 2v14c0 1.1.9 2 2 2h14c1.1 0 2-.9 2-2V5c0-1.1-.9-2-2-2zM9 17H7v-7h2v7zm4 0h-2V7h2v10zm4 0h-2v-4h2v4z\"/>\n",
              "    </g>\n",
              "</svg>\n",
              "  </button>\n",
              "\n",
              "<style>\n",
              "  .colab-df-quickchart {\n",
              "      --bg-color: #E8F0FE;\n",
              "      --fill-color: #1967D2;\n",
              "      --hover-bg-color: #E2EBFA;\n",
              "      --hover-fill-color: #174EA6;\n",
              "      --disabled-fill-color: #AAA;\n",
              "      --disabled-bg-color: #DDD;\n",
              "  }\n",
              "\n",
              "  [theme=dark] .colab-df-quickchart {\n",
              "      --bg-color: #3B4455;\n",
              "      --fill-color: #D2E3FC;\n",
              "      --hover-bg-color: #434B5C;\n",
              "      --hover-fill-color: #FFFFFF;\n",
              "      --disabled-bg-color: #3B4455;\n",
              "      --disabled-fill-color: #666;\n",
              "  }\n",
              "\n",
              "  .colab-df-quickchart {\n",
              "    background-color: var(--bg-color);\n",
              "    border: none;\n",
              "    border-radius: 50%;\n",
              "    cursor: pointer;\n",
              "    display: none;\n",
              "    fill: var(--fill-color);\n",
              "    height: 32px;\n",
              "    padding: 0;\n",
              "    width: 32px;\n",
              "  }\n",
              "\n",
              "  .colab-df-quickchart:hover {\n",
              "    background-color: var(--hover-bg-color);\n",
              "    box-shadow: 0 1px 2px rgba(60, 64, 67, 0.3), 0 1px 3px 1px rgba(60, 64, 67, 0.15);\n",
              "    fill: var(--button-hover-fill-color);\n",
              "  }\n",
              "\n",
              "  .colab-df-quickchart-complete:disabled,\n",
              "  .colab-df-quickchart-complete:disabled:hover {\n",
              "    background-color: var(--disabled-bg-color);\n",
              "    fill: var(--disabled-fill-color);\n",
              "    box-shadow: none;\n",
              "  }\n",
              "\n",
              "  .colab-df-spinner {\n",
              "    border: 2px solid var(--fill-color);\n",
              "    border-color: transparent;\n",
              "    border-bottom-color: var(--fill-color);\n",
              "    animation:\n",
              "      spin 1s steps(1) infinite;\n",
              "  }\n",
              "\n",
              "  @keyframes spin {\n",
              "    0% {\n",
              "      border-color: transparent;\n",
              "      border-bottom-color: var(--fill-color);\n",
              "      border-left-color: var(--fill-color);\n",
              "    }\n",
              "    20% {\n",
              "      border-color: transparent;\n",
              "      border-left-color: var(--fill-color);\n",
              "      border-top-color: var(--fill-color);\n",
              "    }\n",
              "    30% {\n",
              "      border-color: transparent;\n",
              "      border-left-color: var(--fill-color);\n",
              "      border-top-color: var(--fill-color);\n",
              "      border-right-color: var(--fill-color);\n",
              "    }\n",
              "    40% {\n",
              "      border-color: transparent;\n",
              "      border-right-color: var(--fill-color);\n",
              "      border-top-color: var(--fill-color);\n",
              "    }\n",
              "    60% {\n",
              "      border-color: transparent;\n",
              "      border-right-color: var(--fill-color);\n",
              "    }\n",
              "    80% {\n",
              "      border-color: transparent;\n",
              "      border-right-color: var(--fill-color);\n",
              "      border-bottom-color: var(--fill-color);\n",
              "    }\n",
              "    90% {\n",
              "      border-color: transparent;\n",
              "      border-bottom-color: var(--fill-color);\n",
              "    }\n",
              "  }\n",
              "</style>\n",
              "\n",
              "  <script>\n",
              "    async function quickchart(key) {\n",
              "      const quickchartButtonEl =\n",
              "        document.querySelector('#' + key + ' button');\n",
              "      quickchartButtonEl.disabled = true;  // To prevent multiple clicks.\n",
              "      quickchartButtonEl.classList.add('colab-df-spinner');\n",
              "      try {\n",
              "        const charts = await google.colab.kernel.invokeFunction(\n",
              "            'suggestCharts', [key], {});\n",
              "      } catch (error) {\n",
              "        console.error('Error during call to suggestCharts:', error);\n",
              "      }\n",
              "      quickchartButtonEl.classList.remove('colab-df-spinner');\n",
              "      quickchartButtonEl.classList.add('colab-df-quickchart-complete');\n",
              "    }\n",
              "    (() => {\n",
              "      let quickchartButtonEl =\n",
              "        document.querySelector('#df-37e8f552-21ab-4c17-a54f-986b38ff93e2 button');\n",
              "      quickchartButtonEl.style.display =\n",
              "        google.colab.kernel.accessAllowed ? 'block' : 'none';\n",
              "    })();\n",
              "  </script>\n",
              "</div>\n",
              "    </div>\n",
              "  </div>\n"
            ]
          },
          "metadata": {},
          "execution_count": 48
        }
      ]
    },
    {
      "cell_type": "code",
      "source": [
        "# Transformer les listes en nombres flottants\n",
        "resultat_df['Accuracy'] = resultat_df['Accuracy'].apply(lambda x: x[0] if isinstance(x, list) and len(x) > 0 else x)\n",
        "resultat_df['Recall'] = resultat_df['Recall'].apply(lambda x: x[0] if isinstance(x, list) and len(x) > 0 else x)\n",
        "resultat_df['Precision'] = resultat_df['Precision'].apply(lambda x: x[0] if isinstance(x, list) and len(x) > 0 else x)\n",
        "resultat_df['F1_score'] = resultat_df['F1_score'].apply(lambda x: x[0] if isinstance(x, list) and len(x) > 0 else x)"
      ],
      "metadata": {
        "id": "huuvVF-FuiyN"
      },
      "execution_count": 52,
      "outputs": []
    },
    {
      "cell_type": "code",
      "source": [
        "resultat_df"
      ],
      "metadata": {
        "colab": {
          "base_uri": "https://localhost:8080/",
          "height": 206
        },
        "id": "OiplZZ4MvCQg",
        "outputId": "d4b267e7-062d-4336-a244-5b65e778b14b"
      },
      "execution_count": 53,
      "outputs": [
        {
          "output_type": "execute_result",
          "data": {
            "text/plain": [
              "                               Model Name Number of Params  Accuracy  Recall  \\\n",
              "0           model_benchmark_images_brutes         16613544    0.9491  0.9457   \n",
              "1        model_benchmark_images_egalisees         16613544    0.9105  0.8766   \n",
              "2  model_benchmark_egalisation_adaptative         16613544    0.9193  0.9236   \n",
              "3         model_benchmark_images_masquees         16613544    0.9275  0.9205   \n",
              "4             model_vgg16_images_masquees         16613544    0.9857  0.9837   \n",
              "\n",
              "   Precision  F1_score  \n",
              "0     0.9420    0.9432  \n",
              "1     0.9202    0.8903  \n",
              "2     0.9067    0.9103  \n",
              "3     0.9169    0.9178  \n",
              "4     0.9886    0.9860  "
            ],
            "text/html": [
              "\n",
              "  <div id=\"df-13b2c9ad-defe-4df4-a201-d1eae006c15b\" class=\"colab-df-container\">\n",
              "    <div>\n",
              "<style scoped>\n",
              "    .dataframe tbody tr th:only-of-type {\n",
              "        vertical-align: middle;\n",
              "    }\n",
              "\n",
              "    .dataframe tbody tr th {\n",
              "        vertical-align: top;\n",
              "    }\n",
              "\n",
              "    .dataframe thead th {\n",
              "        text-align: right;\n",
              "    }\n",
              "</style>\n",
              "<table border=\"1\" class=\"dataframe\">\n",
              "  <thead>\n",
              "    <tr style=\"text-align: right;\">\n",
              "      <th></th>\n",
              "      <th>Model Name</th>\n",
              "      <th>Number of Params</th>\n",
              "      <th>Accuracy</th>\n",
              "      <th>Recall</th>\n",
              "      <th>Precision</th>\n",
              "      <th>F1_score</th>\n",
              "    </tr>\n",
              "  </thead>\n",
              "  <tbody>\n",
              "    <tr>\n",
              "      <th>0</th>\n",
              "      <td>model_benchmark_images_brutes</td>\n",
              "      <td>16613544</td>\n",
              "      <td>0.9491</td>\n",
              "      <td>0.9457</td>\n",
              "      <td>0.9420</td>\n",
              "      <td>0.9432</td>\n",
              "    </tr>\n",
              "    <tr>\n",
              "      <th>1</th>\n",
              "      <td>model_benchmark_images_egalisees</td>\n",
              "      <td>16613544</td>\n",
              "      <td>0.9105</td>\n",
              "      <td>0.8766</td>\n",
              "      <td>0.9202</td>\n",
              "      <td>0.8903</td>\n",
              "    </tr>\n",
              "    <tr>\n",
              "      <th>2</th>\n",
              "      <td>model_benchmark_egalisation_adaptative</td>\n",
              "      <td>16613544</td>\n",
              "      <td>0.9193</td>\n",
              "      <td>0.9236</td>\n",
              "      <td>0.9067</td>\n",
              "      <td>0.9103</td>\n",
              "    </tr>\n",
              "    <tr>\n",
              "      <th>3</th>\n",
              "      <td>model_benchmark_images_masquees</td>\n",
              "      <td>16613544</td>\n",
              "      <td>0.9275</td>\n",
              "      <td>0.9205</td>\n",
              "      <td>0.9169</td>\n",
              "      <td>0.9178</td>\n",
              "    </tr>\n",
              "    <tr>\n",
              "      <th>4</th>\n",
              "      <td>model_vgg16_images_masquees</td>\n",
              "      <td>16613544</td>\n",
              "      <td>0.9857</td>\n",
              "      <td>0.9837</td>\n",
              "      <td>0.9886</td>\n",
              "      <td>0.9860</td>\n",
              "    </tr>\n",
              "  </tbody>\n",
              "</table>\n",
              "</div>\n",
              "    <div class=\"colab-df-buttons\">\n",
              "\n",
              "  <div class=\"colab-df-container\">\n",
              "    <button class=\"colab-df-convert\" onclick=\"convertToInteractive('df-13b2c9ad-defe-4df4-a201-d1eae006c15b')\"\n",
              "            title=\"Convert this dataframe to an interactive table.\"\n",
              "            style=\"display:none;\">\n",
              "\n",
              "  <svg xmlns=\"http://www.w3.org/2000/svg\" height=\"24px\" viewBox=\"0 -960 960 960\">\n",
              "    <path d=\"M120-120v-720h720v720H120Zm60-500h600v-160H180v160Zm220 220h160v-160H400v160Zm0 220h160v-160H400v160ZM180-400h160v-160H180v160Zm440 0h160v-160H620v160ZM180-180h160v-160H180v160Zm440 0h160v-160H620v160Z\"/>\n",
              "  </svg>\n",
              "    </button>\n",
              "\n",
              "  <style>\n",
              "    .colab-df-container {\n",
              "      display:flex;\n",
              "      gap: 12px;\n",
              "    }\n",
              "\n",
              "    .colab-df-convert {\n",
              "      background-color: #E8F0FE;\n",
              "      border: none;\n",
              "      border-radius: 50%;\n",
              "      cursor: pointer;\n",
              "      display: none;\n",
              "      fill: #1967D2;\n",
              "      height: 32px;\n",
              "      padding: 0 0 0 0;\n",
              "      width: 32px;\n",
              "    }\n",
              "\n",
              "    .colab-df-convert:hover {\n",
              "      background-color: #E2EBFA;\n",
              "      box-shadow: 0px 1px 2px rgba(60, 64, 67, 0.3), 0px 1px 3px 1px rgba(60, 64, 67, 0.15);\n",
              "      fill: #174EA6;\n",
              "    }\n",
              "\n",
              "    .colab-df-buttons div {\n",
              "      margin-bottom: 4px;\n",
              "    }\n",
              "\n",
              "    [theme=dark] .colab-df-convert {\n",
              "      background-color: #3B4455;\n",
              "      fill: #D2E3FC;\n",
              "    }\n",
              "\n",
              "    [theme=dark] .colab-df-convert:hover {\n",
              "      background-color: #434B5C;\n",
              "      box-shadow: 0px 1px 3px 1px rgba(0, 0, 0, 0.15);\n",
              "      filter: drop-shadow(0px 1px 2px rgba(0, 0, 0, 0.3));\n",
              "      fill: #FFFFFF;\n",
              "    }\n",
              "  </style>\n",
              "\n",
              "    <script>\n",
              "      const buttonEl =\n",
              "        document.querySelector('#df-13b2c9ad-defe-4df4-a201-d1eae006c15b button.colab-df-convert');\n",
              "      buttonEl.style.display =\n",
              "        google.colab.kernel.accessAllowed ? 'block' : 'none';\n",
              "\n",
              "      async function convertToInteractive(key) {\n",
              "        const element = document.querySelector('#df-13b2c9ad-defe-4df4-a201-d1eae006c15b');\n",
              "        const dataTable =\n",
              "          await google.colab.kernel.invokeFunction('convertToInteractive',\n",
              "                                                    [key], {});\n",
              "        if (!dataTable) return;\n",
              "\n",
              "        const docLinkHtml = 'Like what you see? Visit the ' +\n",
              "          '<a target=\"_blank\" href=https://colab.research.google.com/notebooks/data_table.ipynb>data table notebook</a>'\n",
              "          + ' to learn more about interactive tables.';\n",
              "        element.innerHTML = '';\n",
              "        dataTable['output_type'] = 'display_data';\n",
              "        await google.colab.output.renderOutput(dataTable, element);\n",
              "        const docLink = document.createElement('div');\n",
              "        docLink.innerHTML = docLinkHtml;\n",
              "        element.appendChild(docLink);\n",
              "      }\n",
              "    </script>\n",
              "  </div>\n",
              "\n",
              "\n",
              "<div id=\"df-241ebcaf-12a6-429f-95b8-4e7bb34c6cdb\">\n",
              "  <button class=\"colab-df-quickchart\" onclick=\"quickchart('df-241ebcaf-12a6-429f-95b8-4e7bb34c6cdb')\"\n",
              "            title=\"Suggest charts.\"\n",
              "            style=\"display:none;\">\n",
              "\n",
              "<svg xmlns=\"http://www.w3.org/2000/svg\" height=\"24px\"viewBox=\"0 0 24 24\"\n",
              "     width=\"24px\">\n",
              "    <g>\n",
              "        <path d=\"M19 3H5c-1.1 0-2 .9-2 2v14c0 1.1.9 2 2 2h14c1.1 0 2-.9 2-2V5c0-1.1-.9-2-2-2zM9 17H7v-7h2v7zm4 0h-2V7h2v10zm4 0h-2v-4h2v4z\"/>\n",
              "    </g>\n",
              "</svg>\n",
              "  </button>\n",
              "\n",
              "<style>\n",
              "  .colab-df-quickchart {\n",
              "      --bg-color: #E8F0FE;\n",
              "      --fill-color: #1967D2;\n",
              "      --hover-bg-color: #E2EBFA;\n",
              "      --hover-fill-color: #174EA6;\n",
              "      --disabled-fill-color: #AAA;\n",
              "      --disabled-bg-color: #DDD;\n",
              "  }\n",
              "\n",
              "  [theme=dark] .colab-df-quickchart {\n",
              "      --bg-color: #3B4455;\n",
              "      --fill-color: #D2E3FC;\n",
              "      --hover-bg-color: #434B5C;\n",
              "      --hover-fill-color: #FFFFFF;\n",
              "      --disabled-bg-color: #3B4455;\n",
              "      --disabled-fill-color: #666;\n",
              "  }\n",
              "\n",
              "  .colab-df-quickchart {\n",
              "    background-color: var(--bg-color);\n",
              "    border: none;\n",
              "    border-radius: 50%;\n",
              "    cursor: pointer;\n",
              "    display: none;\n",
              "    fill: var(--fill-color);\n",
              "    height: 32px;\n",
              "    padding: 0;\n",
              "    width: 32px;\n",
              "  }\n",
              "\n",
              "  .colab-df-quickchart:hover {\n",
              "    background-color: var(--hover-bg-color);\n",
              "    box-shadow: 0 1px 2px rgba(60, 64, 67, 0.3), 0 1px 3px 1px rgba(60, 64, 67, 0.15);\n",
              "    fill: var(--button-hover-fill-color);\n",
              "  }\n",
              "\n",
              "  .colab-df-quickchart-complete:disabled,\n",
              "  .colab-df-quickchart-complete:disabled:hover {\n",
              "    background-color: var(--disabled-bg-color);\n",
              "    fill: var(--disabled-fill-color);\n",
              "    box-shadow: none;\n",
              "  }\n",
              "\n",
              "  .colab-df-spinner {\n",
              "    border: 2px solid var(--fill-color);\n",
              "    border-color: transparent;\n",
              "    border-bottom-color: var(--fill-color);\n",
              "    animation:\n",
              "      spin 1s steps(1) infinite;\n",
              "  }\n",
              "\n",
              "  @keyframes spin {\n",
              "    0% {\n",
              "      border-color: transparent;\n",
              "      border-bottom-color: var(--fill-color);\n",
              "      border-left-color: var(--fill-color);\n",
              "    }\n",
              "    20% {\n",
              "      border-color: transparent;\n",
              "      border-left-color: var(--fill-color);\n",
              "      border-top-color: var(--fill-color);\n",
              "    }\n",
              "    30% {\n",
              "      border-color: transparent;\n",
              "      border-left-color: var(--fill-color);\n",
              "      border-top-color: var(--fill-color);\n",
              "      border-right-color: var(--fill-color);\n",
              "    }\n",
              "    40% {\n",
              "      border-color: transparent;\n",
              "      border-right-color: var(--fill-color);\n",
              "      border-top-color: var(--fill-color);\n",
              "    }\n",
              "    60% {\n",
              "      border-color: transparent;\n",
              "      border-right-color: var(--fill-color);\n",
              "    }\n",
              "    80% {\n",
              "      border-color: transparent;\n",
              "      border-right-color: var(--fill-color);\n",
              "      border-bottom-color: var(--fill-color);\n",
              "    }\n",
              "    90% {\n",
              "      border-color: transparent;\n",
              "      border-bottom-color: var(--fill-color);\n",
              "    }\n",
              "  }\n",
              "</style>\n",
              "\n",
              "  <script>\n",
              "    async function quickchart(key) {\n",
              "      const quickchartButtonEl =\n",
              "        document.querySelector('#' + key + ' button');\n",
              "      quickchartButtonEl.disabled = true;  // To prevent multiple clicks.\n",
              "      quickchartButtonEl.classList.add('colab-df-spinner');\n",
              "      try {\n",
              "        const charts = await google.colab.kernel.invokeFunction(\n",
              "            'suggestCharts', [key], {});\n",
              "      } catch (error) {\n",
              "        console.error('Error during call to suggestCharts:', error);\n",
              "      }\n",
              "      quickchartButtonEl.classList.remove('colab-df-spinner');\n",
              "      quickchartButtonEl.classList.add('colab-df-quickchart-complete');\n",
              "    }\n",
              "    (() => {\n",
              "      let quickchartButtonEl =\n",
              "        document.querySelector('#df-241ebcaf-12a6-429f-95b8-4e7bb34c6cdb button');\n",
              "      quickchartButtonEl.style.display =\n",
              "        google.colab.kernel.accessAllowed ? 'block' : 'none';\n",
              "    })();\n",
              "  </script>\n",
              "</div>\n",
              "    </div>\n",
              "  </div>\n"
            ]
          },
          "metadata": {},
          "execution_count": 53
        }
      ]
    },
    {
      "cell_type": "code",
      "source": [
        "resultat_df=resultat_df.drop('Number of Params',axis=1)"
      ],
      "metadata": {
        "id": "KJVN0TIxwxML"
      },
      "execution_count": 61,
      "outputs": []
    },
    {
      "cell_type": "code",
      "source": [
        "# Créer un diagramme à barres\n",
        "\n",
        "# resultat_df.set_index('Model Name', inplace=True)\n",
        "ax = resultat_df.plot(kind='bar', figsize=(10, 7))\n",
        "\n",
        "# Optionnel : Personnalisation du graphique\n",
        "plt.title('Bar plot of multiple columns')\n",
        "plt.ylabel('Value')\n",
        "plt.xlabel('Model Name')\n",
        "plt.xticks(rotation=90)\n",
        "plt.legend(title='Columns')\n",
        "\n",
        "ax.legend(title='Columns', loc='upper center', bbox_to_anchor=(0.4, 1))\n",
        "ax.set_ylim(0.8,None)\n",
        "# Afficher le graphique\n",
        "plt.tight_layout()\n",
        "plt.show()"
      ],
      "metadata": {
        "colab": {
          "base_uri": "https://localhost:8080/",
          "height": 707
        },
        "id": "o4EwJn3lvKsL",
        "outputId": "76989e6a-554c-4571-f908-a1423c252bb6"
      },
      "execution_count": 78,
      "outputs": [
        {
          "output_type": "display_data",
          "data": {
            "text/plain": [
              "<Figure size 1000x700 with 1 Axes>"
            ],
            "image/png": "[encoded data removed]"
          },
          "metadata": {}
        }
      ]
    }
  ],
  "metadata": {
    "accelerator": "GPU",
    "colab": {
      "collapsed_sections": [
        "m-ayEPfutPx0",
        "I3c8KE47uHy_",
        "2mVtjEm7vHH5",
        "7mHYseEpmgTn"
      ],
      "machine_shape": "hm",
      "provenance": [],
      "toc_visible": true,
      "include_colab_link": true
    },
    "kernelspec": {
      "display_name": "Python 3",
      "name": "python3"
    },
    "language_info": {
      "codemirror_mode": {
        "name": "ipython",
        "version": 3
      },
      "file_extension": ".py",
      "mimetype": "text/x-python",
      "name": "python",
      "nbconvert_exporter": "python",
      "pygments_lexer": "ipython3",
      "version": "3.10.9"
    }
  },
  "nbformat": 4,
  "nbformat_minor": 0
}